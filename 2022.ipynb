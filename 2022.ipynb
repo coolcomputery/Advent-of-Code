{
 "cells": [
  {
   "cell_type": "code",
   "execution_count": 1,
   "id": "b48ee03e",
   "metadata": {},
   "outputs": [],
   "source": [
    "import time, numpy as np"
   ]
  },
  {
   "cell_type": "markdown",
   "id": "a70740a3",
   "metadata": {},
   "source": [
    "**test examples first!**\n",
    "\n",
    "**beware edge cases**"
   ]
  },
  {
   "cell_type": "markdown",
   "id": "88a0517a",
   "metadata": {},
   "source": [
    "9a"
   ]
  },
  {
   "cell_type": "code",
   "execution_count": 41,
   "id": "4bcb10a0",
   "metadata": {},
   "outputs": [
    {
     "data": {
      "text/plain": [
       "5907"
      ]
     },
     "execution_count": 41,
     "metadata": {},
     "output_type": "execute_result"
    }
   ],
   "source": [
    "DVECS={\n",
    "    'R':(1,0),\n",
    "    'L':(-1,0),\n",
    "    'U':(0,1),\n",
    "    'D':(0,-1)\n",
    "}\n",
    "MOORE_DVECS=list(DVECS.values())+[\n",
    "    (1,1),\n",
    "    (1,-1),\n",
    "    (-1,1),\n",
    "    (-1,-1)\n",
    "]\n",
    "vsum=lambda a,b:tuple([ai+bi for ai,bi in zip(a,b)])\n",
    "diffs=lambda a,b:set(abs(ai-bi) for ai,bi in zip(a,b))\n",
    "mdist=lambda a,b:sum(abs(ai-bi) for ai,bi in zip(a,b))\n",
    "chdist=lambda a,b:max(abs(ai-bi) for ai,bi in zip(a,b))\n",
    "with open('in.txt') as f:\n",
    "    instrs=[]\n",
    "    for l in f.read().split('\\n'):\n",
    "        d,v=l.split(' ')\n",
    "        instrs.append((d,int(v)))\n",
    "all_tails=set()\n",
    "head,tail=(0,0),(0,0)\n",
    "all_tails.add(tail)\n",
    "for d,rep in instrs:\n",
    "    #print('***')\n",
    "    for _ in range(rep):\n",
    "        vec=DVECS[d]\n",
    "        head=vsum(head,vec)\n",
    "        if diffs(head,tail)=={2,0}:\n",
    "            tail=vsum(tail,vec)\n",
    "        elif chdist(head,tail)>1:\n",
    "            best_moore=sorted(MOORE_DVECS,\n",
    "                              key=lambda v:mdist(vsum(tail,v),head)\n",
    "                             )\n",
    "            #print([(v,mdist(v,head)) for v in best_moore])\n",
    "            best_moore=best_moore[0]\n",
    "            tail=vsum(tail,best_moore)\n",
    "        all_tails.add(tail)\n",
    "        #print(head,tail,vec)\n",
    "len(all_tails)"
   ]
  },
  {
   "cell_type": "markdown",
   "id": "560c3c49",
   "metadata": {},
   "source": [
    "9b"
   ]
  },
  {
   "cell_type": "code",
   "execution_count": 40,
   "id": "eeb61d2b",
   "metadata": {
    "scrolled": true
   },
   "outputs": [
    {
     "data": {
      "text/plain": [
       "2303"
      ]
     },
     "execution_count": 40,
     "metadata": {},
     "output_type": "execute_result"
    }
   ],
   "source": [
    "DVECS={\n",
    "    'R':(1,0),\n",
    "    'L':(-1,0),\n",
    "    'U':(0,1),\n",
    "    'D':(0,-1)\n",
    "}\n",
    "vsum=lambda a,b:tuple([ai+bi for ai,bi in zip(a,b)])\n",
    "diffs=lambda a,b:set(abs(ai-bi) for ai,bi in zip(a,b))\n",
    "mdist=lambda a,b:sum(abs(ai-bi) for ai,bi in zip(a,b))\n",
    "chdist=lambda a,b:max(abs(ai-bi) for ai,bi in zip(a,b))\n",
    "def cap(v):\n",
    "    return max(-1,min(1,v))\n",
    "def ntail(head,tail):\n",
    "    if chdist(head,tail)>1:\n",
    "        return vsum(tail,\n",
    "                    (cap(head[0]-tail[0]),\n",
    "                     cap(head[1]-tail[1]))\n",
    "                   )\n",
    "    else:\n",
    "        return tail\n",
    "with open('in.txt') as f:\n",
    "    instrs=[]\n",
    "    for l in f.read().split('\\n'):\n",
    "        d,v=l.split(' ')\n",
    "        instrs.append((d,int(v)))\n",
    "all_tails=set()\n",
    "rope=[(0,0) for _ in range(10)]\n",
    "all_tails.add(rope[-1])\n",
    "for d,rep in instrs:\n",
    "    #print('***')\n",
    "    for _ in range(rep):\n",
    "        vec=DVECS[d]\n",
    "        rope[0]=vsum(rope[0],vec)\n",
    "        for i in range(1,len(rope)):\n",
    "            rope[i]=ntail(rope[i-1],rope[i])\n",
    "        all_tails.add(rope[-1])\n",
    "    #print(d,rep,rope)\n",
    "len(all_tails)"
   ]
  },
  {
   "cell_type": "markdown",
   "id": "b0e2f124",
   "metadata": {},
   "source": [
    "8a"
   ]
  },
  {
   "cell_type": "code",
   "execution_count": 6,
   "id": "56231dc4",
   "metadata": {},
   "outputs": [
    {
     "name": "stdout",
     "output_type": "stream",
     "text": [
      "1684\n"
     ]
    }
   ],
   "source": [
    "with open('in.txt') as f:\n",
    "    A=list(map(list,f.read().split('\\n')))\n",
    "    A=[list(map(int,row)) for row in A]\n",
    "#print(A)\n",
    "R,C=len(A),len(A[0])\n",
    "DR,DC=[1,0,-1,0],[0,1,0,-1]\n",
    "out=0\n",
    "for i in range(R):\n",
    "    for j in range(C):\n",
    "        vis=False\n",
    "        for d in range(4):\n",
    "            v=A[i][j]\n",
    "            vals=[]\n",
    "            ni,nj=i,j\n",
    "            while 0<=ni and ni<R and 0<=nj and nj<C:\n",
    "                if (ni,nj)!=(i,j):\n",
    "                    vals.append(A[ni][nj])\n",
    "                ni+=DR[d]\n",
    "                nj+=DC[d]\n",
    "            if len(vals)==0 or max(vals)<v:\n",
    "                vis=True\n",
    "                break\n",
    "        if vis:\n",
    "            out+=1\n",
    "print(out)"
   ]
  },
  {
   "cell_type": "markdown",
   "id": "a987ba50",
   "metadata": {},
   "source": [
    "8b"
   ]
  },
  {
   "cell_type": "code",
   "execution_count": 17,
   "id": "c4b652fe",
   "metadata": {},
   "outputs": [
    {
     "name": "stdout",
     "output_type": "stream",
     "text": [
      "486540\n"
     ]
    }
   ],
   "source": [
    "with open('in.txt') as f:\n",
    "    A=list(map(list,f.read().split('\\n')))\n",
    "    A=[list(map(int,row)) for row in A]\n",
    "#print(A)\n",
    "R,C=len(A),len(A[0])\n",
    "DR,DC=[1,0,-1,0],[0,1,0,-1]\n",
    "out=0\n",
    "def prod(L):\n",
    "    out=1\n",
    "    for v in L:\n",
    "        out*=v\n",
    "    return out\n",
    "for i in range(R):\n",
    "    for j in range(C):\n",
    "        dists=[]\n",
    "        for d in range(4):\n",
    "            v=A[i][j]\n",
    "            ni,nj=i,j\n",
    "            l=0\n",
    "            while 0<=ni and ni<R and 0<=nj and nj<C:\n",
    "                if (ni,nj)!=(i,j):\n",
    "                    l+=1\n",
    "                    nv=A[ni][nj]\n",
    "                    if nv>=v:\n",
    "                        break\n",
    "                ni+=DR[d]\n",
    "                nj+=DC[d]\n",
    "            dists.append(l)\n",
    "        #print(i,j,dists,prod(dists))\n",
    "        out=max(out,prod(dists))\n",
    "print(out)"
   ]
  },
  {
   "cell_type": "markdown",
   "id": "b575e302",
   "metadata": {},
   "source": [
    "7a"
   ]
  },
  {
   "cell_type": "code",
   "execution_count": 31,
   "id": "2c73dfba",
   "metadata": {},
   "outputs": [
    {
     "data": {
      "text/plain": [
       "1642503"
      ]
     },
     "execution_count": 31,
     "metadata": {},
     "output_type": "execute_result"
    }
   ],
   "source": [
    "with open('in.txt') as f:\n",
    "    lines=f.read().split('\\n')\n",
    "    cmd_data=[]\n",
    "    i=0\n",
    "    while i<len(lines):\n",
    "        line=lines[i]\n",
    "        assert line[0]=='$'\n",
    "        cmd=line[2:]\n",
    "        #print(cmd)\n",
    "        if cmd.startswith('cd'):\n",
    "            cmd_data.append((True,cmd[3:]))\n",
    "            _dir=cmd[3:]\n",
    "            #print(_dir)\n",
    "            i+=1\n",
    "        else:\n",
    "            assert cmd=='ls'\n",
    "            ret=[]\n",
    "            i+=1\n",
    "            while i<len(lines) and lines[i][0]!='$':\n",
    "                ret.append(lines[i])\n",
    "                i+=1\n",
    "            cmd_data.append((False,ret))\n",
    "'''class Node:\n",
    "    #name,properties (file size or list of contents),par\n",
    "    def __init__(name,props,par):\n",
    "        self.name=name\n",
    "        self.props=props\n",
    "        self.par=par\n",
    "root=None'''\n",
    "tree={}\n",
    "path=[]\n",
    "for t,data in cmd_data:\n",
    "    if t:\n",
    "        if data=='..':\n",
    "            path.pop()\n",
    "        else:\n",
    "            path.append(data)\n",
    "    else:\n",
    "        tree[tuple(path)]=data\n",
    "sizes={}\n",
    "def size(d):\n",
    "    if d in sizes:\n",
    "        return sizes[d]\n",
    "    out=0\n",
    "    for tok in tree[d]:\n",
    "        if tok.startswith('dir '):\n",
    "            out+=size(d+(tok[4:],))\n",
    "        else:\n",
    "            out+=int(tok.split(' ')[0])\n",
    "    sizes[d]=out\n",
    "    return out\n",
    "for d in tree:\n",
    "    size(d)\n",
    "#print(sizes)\n",
    "sum(s for d,s in sizes.items() if s<=100_000)"
   ]
  },
  {
   "cell_type": "markdown",
   "id": "c0a40f28",
   "metadata": {},
   "source": [
    "7b"
   ]
  },
  {
   "cell_type": "code",
   "execution_count": 30,
   "id": "24c169a5",
   "metadata": {},
   "outputs": [
    {
     "data": {
      "text/plain": [
       "6999588"
      ]
     },
     "execution_count": 30,
     "metadata": {},
     "output_type": "execute_result"
    }
   ],
   "source": [
    "cur_free=70000000-sizes[('/',)]\n",
    "target=30000000\n",
    "min(s for d,s in sizes.items() if cur_free+s>=target)"
   ]
  },
  {
   "cell_type": "markdown",
   "id": "7acd8678",
   "metadata": {},
   "source": [
    "6a"
   ]
  },
  {
   "cell_type": "code",
   "execution_count": 7,
   "id": "408378aa",
   "metadata": {},
   "outputs": [
    {
     "name": "stdout",
     "output_type": "stream",
     "text": [
      "1356\n"
     ]
    }
   ],
   "source": [
    "with open('in.txt') as f:\n",
    "    s=f.read()\n",
    "    for i in range(len(s)-3):\n",
    "        p=s[i:i+4]\n",
    "        if len(set(list(p)))==len(p):\n",
    "            print(i+4)\n",
    "            break"
   ]
  },
  {
   "cell_type": "markdown",
   "id": "49ff3960",
   "metadata": {},
   "source": [
    "6b"
   ]
  },
  {
   "cell_type": "code",
   "execution_count": 8,
   "id": "93555bd7",
   "metadata": {},
   "outputs": [
    {
     "name": "stdout",
     "output_type": "stream",
     "text": [
      "2564\n"
     ]
    }
   ],
   "source": [
    "with open('in.txt') as f:\n",
    "    s=f.read()\n",
    "    K=14\n",
    "    for i in range(len(s)-K+1):\n",
    "        p=s[i:i+K]\n",
    "        if len(set(list(p)))==len(p):\n",
    "            print(i+K)\n",
    "            break"
   ]
  },
  {
   "cell_type": "markdown",
   "id": "2b468171",
   "metadata": {},
   "source": [
    "5a"
   ]
  },
  {
   "cell_type": "code",
   "execution_count": 20,
   "id": "5d0447ef",
   "metadata": {},
   "outputs": [
    {
     "name": "stdout",
     "output_type": "stream",
     "text": [
      "[['[D]', '[H]', '[N]', '[Q]', '[T]', '[W]', '[V]', '[B]'], ['[D]', '[W]', '[B]'], ['[T]', '[S]', '[Q]', '[W]', '[J]', '[C]'], ['[F]', '[J]', '[R]', '[N]', '[Z]', '[T]', '[P]'], ['[G]', '[P]', '[V]', '[J]', '[M]', '[S]', '[T]'], ['[B]', '[W]', '[F]', '[T]', '[N]'], ['[B]', '[L]', '[D]', '[Q]', '[F]', '[H]', '[V]', '[N]'], ['[H]', '[P]', '[F]', '[R]'], ['[Z]', '[S]', '[M]', '[B]', '[L]', '[N]', '[P]', '[H]']]\n",
      "PSNRGBTFT"
     ]
    }
   ],
   "source": [
    "with open('in.txt') as f:\n",
    "    out=0\n",
    "    mvs=[]\n",
    "    stacks=None\n",
    "    for l in f.read().split('\\n'):\n",
    "        if l.startswith('move'):\n",
    "            toks=l.split(' ')\n",
    "            mvs.append(list(map(int,toks[1::2])))\n",
    "        elif l.find('[')>=0:\n",
    "            pcs=[l[i:i+4] for i in range(0,len(l),4)]\n",
    "            if stacks==None:\n",
    "                stacks=[[] for _ in range(len(pcs))]\n",
    "            for i in range(len(stacks)):\n",
    "                s=pcs[i].strip()\n",
    "                if s!='':\n",
    "                    ltr=s[1]\n",
    "                    stacks[i].append(s)\n",
    "    stacks=[st[::-1] for st in stacks]\n",
    "    print(stacks)\n",
    "    for cnt,i0,i1 in mvs:\n",
    "        i0-=1\n",
    "        i1-=1\n",
    "        for _ in range(cnt):\n",
    "            e=stacks[i0].pop()\n",
    "            stacks[i1].append(e)\n",
    "        #print(stacks)\n",
    "    for st in stacks:\n",
    "        print(st[-1][1],end='')"
   ]
  },
  {
   "cell_type": "markdown",
   "id": "fd30efa6",
   "metadata": {},
   "source": [
    "5b"
   ]
  },
  {
   "cell_type": "code",
   "execution_count": 21,
   "id": "4b2ac2c8",
   "metadata": {},
   "outputs": [
    {
     "name": "stdout",
     "output_type": "stream",
     "text": [
      "[['[D]', '[H]', '[N]', '[Q]', '[T]', '[W]', '[V]', '[B]'], ['[D]', '[W]', '[B]'], ['[T]', '[S]', '[Q]', '[W]', '[J]', '[C]'], ['[F]', '[J]', '[R]', '[N]', '[Z]', '[T]', '[P]'], ['[G]', '[P]', '[V]', '[J]', '[M]', '[S]', '[T]'], ['[B]', '[W]', '[F]', '[T]', '[N]'], ['[B]', '[L]', '[D]', '[Q]', '[F]', '[H]', '[V]', '[N]'], ['[H]', '[P]', '[F]', '[R]'], ['[Z]', '[S]', '[M]', '[B]', '[L]', '[N]', '[P]', '[H]']]\n",
      "BNTZFPMMW"
     ]
    }
   ],
   "source": [
    "with open('in.txt') as f:\n",
    "    out=0\n",
    "    mvs=[]\n",
    "    stacks=None\n",
    "    for l in f.read().split('\\n'):\n",
    "        if l.startswith('move'):\n",
    "            toks=l.split(' ')\n",
    "            mvs.append(list(map(int,toks[1::2])))\n",
    "        elif l.find('[')>=0:\n",
    "            pcs=[l[i:i+4] for i in range(0,len(l),4)]\n",
    "            if stacks==None:\n",
    "                stacks=[[] for _ in range(len(pcs))]\n",
    "            for i in range(len(stacks)):\n",
    "                s=pcs[i].strip()\n",
    "                if s!='':\n",
    "                    ltr=s[1]\n",
    "                    stacks[i].append(s)\n",
    "    stacks=[st[::-1] for st in stacks]\n",
    "    print(stacks)\n",
    "    for cnt,i0,i1 in mvs:\n",
    "        i0-=1\n",
    "        i1-=1\n",
    "        gp=stacks[i0][-cnt:]\n",
    "        stacks[i0]=stacks[i0][:-cnt]\n",
    "        stacks[i1].extend(gp)\n",
    "        #print(stacks)\n",
    "    for st in stacks:\n",
    "        print(st[-1][1],end='')"
   ]
  },
  {
   "cell_type": "markdown",
   "id": "81a9137b",
   "metadata": {},
   "source": [
    "4a"
   ]
  },
  {
   "cell_type": "code",
   "execution_count": 3,
   "id": "e68d1ec7",
   "metadata": {},
   "outputs": [
    {
     "name": "stdout",
     "output_type": "stream",
     "text": [
      "536\n"
     ]
    }
   ],
   "source": [
    "with open('in.txt') as f:\n",
    "    cnt=0\n",
    "    for l in f.read().split('\\n'):\n",
    "        ps=l.split(',')\n",
    "        rngs=list(map(lambda s:list(map(int,s.split('-'))),\n",
    "                     ps))\n",
    "        def subset(A,B):\n",
    "            return B[0]<=A[0] and A[1]<=B[1]\n",
    "        if subset(rngs[0],rngs[1]) or subset(rngs[1],rngs[0]):\n",
    "            cnt+=1\n",
    "    print(cnt)"
   ]
  },
  {
   "cell_type": "markdown",
   "id": "d55e8765",
   "metadata": {},
   "source": [
    "4b"
   ]
  },
  {
   "cell_type": "code",
   "execution_count": 4,
   "id": "eedb0c32",
   "metadata": {},
   "outputs": [
    {
     "name": "stdout",
     "output_type": "stream",
     "text": [
      "845\n"
     ]
    }
   ],
   "source": [
    "with open('in.txt') as f:\n",
    "    cnt=0\n",
    "    for l in f.read().split('\\n'):\n",
    "        ps=l.split(',')\n",
    "        rngs=list(map(lambda s:list(map(int,s.split('-'))),\n",
    "                     ps))\n",
    "        def intx(A,B):\n",
    "            return max(A[0],B[0])<=min(A[1],B[1])\n",
    "        if intx(rngs[0],rngs[1]):\n",
    "            cnt+=1\n",
    "    print(cnt)"
   ]
  },
  {
   "cell_type": "markdown",
   "id": "b791faca",
   "metadata": {},
   "source": [
    "3a"
   ]
  },
  {
   "cell_type": "code",
   "execution_count": 9,
   "id": "d9f419f6",
   "metadata": {},
   "outputs": [
    {
     "name": "stdout",
     "output_type": "stream",
     "text": [
      "7795\n"
     ]
    }
   ],
   "source": [
    "Ps={\n",
    "    **{chr(i+ord('a')):i+1 for i in range(26)},\n",
    "    **{chr(i+ord('A')):i+27for i in range(26)}\n",
    "}\n",
    "with open('in.txt') as f:\n",
    "    out=0\n",
    "    for l in f.read().split('\\n'):\n",
    "        i=len(l)//2\n",
    "        A,B=l[:i],l[i:]\n",
    "        s=list(set(list(A))&set(list(B)))[0]\n",
    "        #print(s)\n",
    "        out+=Ps[s]\n",
    "    print(out)"
   ]
  },
  {
   "cell_type": "markdown",
   "id": "9ee3b58b",
   "metadata": {},
   "source": [
    "3b"
   ]
  },
  {
   "cell_type": "code",
   "execution_count": 12,
   "id": "675191f7",
   "metadata": {},
   "outputs": [
    {
     "name": "stdout",
     "output_type": "stream",
     "text": [
      "2703\n"
     ]
    }
   ],
   "source": [
    "with open('in.txt') as f:\n",
    "    ls=f.read().split('\\n')\n",
    "    out=0\n",
    "    for li in range(0,len(ls),3):\n",
    "        A,B,C=ls[li:li+3]\n",
    "        s=list(set(list(A))&set(list(B))&set(list(C)))[0]\n",
    "        #print(s)\n",
    "        out+=Ps[s]\n",
    "    print(out)"
   ]
  },
  {
   "cell_type": "markdown",
   "id": "79006cc1",
   "metadata": {},
   "source": [
    "2a"
   ]
  },
  {
   "cell_type": "code",
   "execution_count": 6,
   "id": "43817f65",
   "metadata": {},
   "outputs": [
    {
     "name": "stdout",
     "output_type": "stream",
     "text": [
      "12740\n"
     ]
    }
   ],
   "source": [
    "with open('in.txt') as f:\n",
    "    scr=0\n",
    "    for l in f.read().split('\\n'):\n",
    "        elf,me=l.split(' ')\n",
    "        scr+=({'X':1,'Y':2,'Z':3}[me]\n",
    "              +{\n",
    "                  'X':{'A':3,'B':0,'C':6},\n",
    "                  'Y':{'A':6,'B':3,'C':0},\n",
    "                  'Z':{'A':0,'B':6,'C':3},\n",
    "               }[me][elf])\n",
    "    print(scr)"
   ]
  },
  {
   "cell_type": "markdown",
   "id": "580f6fee",
   "metadata": {},
   "source": [
    "2b"
   ]
  },
  {
   "cell_type": "code",
   "execution_count": 9,
   "id": "1d24da02",
   "metadata": {},
   "outputs": [
    {
     "name": "stdout",
     "output_type": "stream",
     "text": [
      "11980\n"
     ]
    }
   ],
   "source": [
    "with open('in.txt') as f:\n",
    "    scr=0\n",
    "    for l in f.read().split('\\n'):\n",
    "        elf,ret=l.split(' ')\n",
    "        me={\n",
    "            'X':{'A':'Z','B':'X','C':'Y'},\n",
    "            'Y':{'A':'X','B':'Y','C':'Z'},\n",
    "            'Z':{'A':'Y','B':'Z','C':'X'},\n",
    "        }[ret][elf]\n",
    "        scr+=({'X':1,'Y':2,'Z':3}[me]\n",
    "              +{\n",
    "                  'X':{'A':3,'B':0,'C':6},\n",
    "                  'Y':{'A':6,'B':3,'C':0},\n",
    "                  'Z':{'A':0,'B':6,'C':3},\n",
    "               }[me][elf])\n",
    "    print(scr)"
   ]
  },
  {
   "cell_type": "markdown",
   "id": "4a2fc21c",
   "metadata": {},
   "source": [
    "1a"
   ]
  },
  {
   "cell_type": "code",
   "execution_count": 13,
   "id": "b000ed0d",
   "metadata": {},
   "outputs": [
    {
     "name": "stdout",
     "output_type": "stream",
     "text": [
      "75501\n"
     ]
    }
   ],
   "source": [
    "with open('in.txt') as f:\n",
    "    groups=[list(map(int,g.split('\\n')))\n",
    "            for g in f.read().split('\\n\\n')]\n",
    "    #print(groups)\n",
    "    print(max(map(sum,groups)))"
   ]
  },
  {
   "cell_type": "markdown",
   "id": "893143d0",
   "metadata": {},
   "source": [
    "1b"
   ]
  },
  {
   "cell_type": "code",
   "execution_count": 14,
   "id": "cc521f1c",
   "metadata": {},
   "outputs": [
    {
     "name": "stdout",
     "output_type": "stream",
     "text": [
      "215594\n"
     ]
    }
   ],
   "source": [
    "print(sum(sorted(map(sum,groups),reverse=True)[:3]))"
   ]
  }
 ],
 "metadata": {
  "kernelspec": {
   "display_name": "Python 3 (ipykernel)",
   "language": "python",
   "name": "python3"
  },
  "language_info": {
   "codemirror_mode": {
    "name": "ipython",
    "version": 3
   },
   "file_extension": ".py",
   "mimetype": "text/x-python",
   "name": "python",
   "nbconvert_exporter": "python",
   "pygments_lexer": "ipython3",
   "version": "3.9.10"
  }
 },
 "nbformat": 4,
 "nbformat_minor": 5
}
