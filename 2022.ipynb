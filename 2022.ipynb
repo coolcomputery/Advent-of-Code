{
 "cells": [
  {
   "cell_type": "code",
   "execution_count": 1,
   "id": "b48ee03e",
   "metadata": {},
   "outputs": [],
   "source": [
    "import time, numpy as np"
   ]
  },
  {
   "cell_type": "markdown",
   "id": "12d4f84b",
   "metadata": {},
   "source": [
    "2a"
   ]
  },
  {
   "cell_type": "code",
   "execution_count": 6,
   "id": "e32ac22b",
   "metadata": {},
   "outputs": [
    {
     "name": "stdout",
     "output_type": "stream",
     "text": [
      "12740\n"
     ]
    }
   ],
   "source": [
    "with open('in.txt') as f:\n",
    "    scr=0\n",
    "    for l in f.read().split('\\n'):\n",
    "        elf,me=l.split(' ')\n",
    "        scr+=({'X':1,'Y':2,'Z':3}[me]\n",
    "              +{\n",
    "                  'X':{'A':3,'B':0,'C':6},\n",
    "                  'Y':{'A':6,'B':3,'C':0},\n",
    "                  'Z':{'A':0,'B':6,'C':3},\n",
    "               }[me][elf])\n",
    "    print(scr)"
   ]
  },
  {
   "cell_type": "markdown",
   "id": "7aa81613",
   "metadata": {},
   "source": [
    "2b"
   ]
  },
  {
   "cell_type": "code",
   "execution_count": 9,
   "id": "63addafc",
   "metadata": {},
   "outputs": [
    {
     "name": "stdout",
     "output_type": "stream",
     "text": [
      "11980\n"
     ]
    }
   ],
   "source": [
    "with open('in.txt') as f:\n",
    "    scr=0\n",
    "    for l in f.read().split('\\n'):\n",
    "        elf,ret=l.split(' ')\n",
    "        me={\n",
    "            'X':{'A':'Z','B':'X','C':'Y'},\n",
    "            'Y':{'A':'X','B':'Y','C':'Z'},\n",
    "            'Z':{'A':'Y','B':'Z','C':'X'},\n",
    "        }[ret][elf]\n",
    "        scr+=({'X':1,'Y':2,'Z':3}[me]\n",
    "              +{\n",
    "                  'X':{'A':3,'B':0,'C':6},\n",
    "                  'Y':{'A':6,'B':3,'C':0},\n",
    "                  'Z':{'A':0,'B':6,'C':3},\n",
    "               }[me][elf])\n",
    "    print(scr)"
   ]
  },
  {
   "cell_type": "markdown",
   "id": "4a2fc21c",
   "metadata": {},
   "source": [
    "1a"
   ]
  },
  {
   "cell_type": "code",
   "execution_count": 13,
   "id": "b000ed0d",
   "metadata": {},
   "outputs": [
    {
     "name": "stdout",
     "output_type": "stream",
     "text": [
      "75501\n"
     ]
    }
   ],
   "source": [
    "with open('in.txt') as f:\n",
    "    groups=[list(map(int,g.split('\\n')))\n",
    "            for g in f.read().split('\\n\\n')]\n",
    "    #print(groups)\n",
    "    print(max(map(sum,groups)))"
   ]
  },
  {
   "cell_type": "markdown",
   "id": "6aeebb3d",
   "metadata": {},
   "source": [
    "1b"
   ]
  },
  {
   "cell_type": "code",
   "execution_count": 14,
   "id": "cc521f1c",
   "metadata": {},
   "outputs": [
    {
     "name": "stdout",
     "output_type": "stream",
     "text": [
      "215594\n"
     ]
    }
   ],
   "source": [
    "print(sum(sorted(map(sum,groups),reverse=True)[:3]))"
   ]
  }
 ],
 "metadata": {
  "kernelspec": {
   "display_name": "Python 3 (ipykernel)",
   "language": "python",
   "name": "python3"
  },
  "language_info": {
   "codemirror_mode": {
    "name": "ipython",
    "version": 3
   },
   "file_extension": ".py",
   "mimetype": "text/x-python",
   "name": "python",
   "nbconvert_exporter": "python",
   "pygments_lexer": "ipython3",
   "version": "3.9.10"
  }
 },
 "nbformat": 4,
 "nbformat_minor": 5
}
