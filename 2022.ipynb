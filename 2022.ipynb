{
 "cells": [
  {
   "cell_type": "code",
   "execution_count": 1,
   "id": "b48ee03e",
   "metadata": {},
   "outputs": [],
   "source": [
    "import time, numpy as np"
   ]
  },
  {
   "cell_type": "markdown",
   "id": "22c95570",
   "metadata": {},
   "source": [
    "4a"
   ]
  },
  {
   "cell_type": "code",
   "execution_count": 3,
   "id": "bd68c159",
   "metadata": {},
   "outputs": [
    {
     "name": "stdout",
     "output_type": "stream",
     "text": [
      "536\n"
     ]
    }
   ],
   "source": [
    "with open('in.txt') as f:\n",
    "    cnt=0\n",
    "    for l in f.read().split('\\n'):\n",
    "        ps=l.split(',')\n",
    "        rngs=list(map(lambda s:list(map(int,s.split('-'))),\n",
    "                     ps))\n",
    "        def subset(A,B):\n",
    "            return B[0]<=A[0] and A[1]<=B[1]\n",
    "        if subset(rngs[0],rngs[1]) or subset(rngs[1],rngs[0]):\n",
    "            cnt+=1\n",
    "    print(cnt)"
   ]
  },
  {
   "cell_type": "markdown",
   "id": "97676ec8",
   "metadata": {},
   "source": [
    "4b"
   ]
  },
  {
   "cell_type": "code",
   "execution_count": 4,
   "id": "f89db853",
   "metadata": {},
   "outputs": [
    {
     "name": "stdout",
     "output_type": "stream",
     "text": [
      "845\n"
     ]
    }
   ],
   "source": [
    "with open('in.txt') as f:\n",
    "    cnt=0\n",
    "    for l in f.read().split('\\n'):\n",
    "        ps=l.split(',')\n",
    "        rngs=list(map(lambda s:list(map(int,s.split('-'))),\n",
    "                     ps))\n",
    "        def intx(A,B):\n",
    "            return max(A[0],B[0])<=min(A[1],B[1])\n",
    "        if intx(rngs[0],rngs[1]):\n",
    "            cnt+=1\n",
    "    print(cnt)"
   ]
  },
  {
   "cell_type": "markdown",
   "id": "32ad00be",
   "metadata": {},
   "source": [
    "3a"
   ]
  },
  {
   "cell_type": "code",
   "execution_count": 9,
   "id": "272e2f99",
   "metadata": {},
   "outputs": [
    {
     "name": "stdout",
     "output_type": "stream",
     "text": [
      "7795\n"
     ]
    }
   ],
   "source": [
    "Ps={\n",
    "    **{chr(i+ord('a')):i+1 for i in range(26)},\n",
    "    **{chr(i+ord('A')):i+27for i in range(26)}\n",
    "}\n",
    "with open('in.txt') as f:\n",
    "    out=0\n",
    "    for l in f.read().split('\\n'):\n",
    "        i=len(l)//2\n",
    "        A,B=l[:i],l[i:]\n",
    "        s=list(set(list(A))&set(list(B)))[0]\n",
    "        #print(s)\n",
    "        out+=Ps[s]\n",
    "    print(out)"
   ]
  },
  {
   "cell_type": "markdown",
   "id": "cf632b2e",
   "metadata": {},
   "source": [
    "3b"
   ]
  },
  {
   "cell_type": "code",
   "execution_count": 12,
   "id": "10508e02",
   "metadata": {},
   "outputs": [
    {
     "name": "stdout",
     "output_type": "stream",
     "text": [
      "2703\n"
     ]
    }
   ],
   "source": [
    "with open('in.txt') as f:\n",
    "    ls=f.read().split('\\n')\n",
    "    out=0\n",
    "    for li in range(0,len(ls),3):\n",
    "        A,B,C=ls[li:li+3]\n",
    "        s=list(set(list(A))&set(list(B))&set(list(C)))[0]\n",
    "        #print(s)\n",
    "        out+=Ps[s]\n",
    "    print(out)"
   ]
  },
  {
   "cell_type": "markdown",
   "id": "083dc76a",
   "metadata": {},
   "source": [
    "2a"
   ]
  },
  {
   "cell_type": "code",
   "execution_count": 6,
   "id": "97d4542a",
   "metadata": {},
   "outputs": [
    {
     "name": "stdout",
     "output_type": "stream",
     "text": [
      "12740\n"
     ]
    }
   ],
   "source": [
    "with open('in.txt') as f:\n",
    "    scr=0\n",
    "    for l in f.read().split('\\n'):\n",
    "        elf,me=l.split(' ')\n",
    "        scr+=({'X':1,'Y':2,'Z':3}[me]\n",
    "              +{\n",
    "                  'X':{'A':3,'B':0,'C':6},\n",
    "                  'Y':{'A':6,'B':3,'C':0},\n",
    "                  'Z':{'A':0,'B':6,'C':3},\n",
    "               }[me][elf])\n",
    "    print(scr)"
   ]
  },
  {
   "cell_type": "markdown",
   "id": "77d8b737",
   "metadata": {},
   "source": [
    "2b"
   ]
  },
  {
   "cell_type": "code",
   "execution_count": 9,
   "id": "53862be5",
   "metadata": {},
   "outputs": [
    {
     "name": "stdout",
     "output_type": "stream",
     "text": [
      "11980\n"
     ]
    }
   ],
   "source": [
    "with open('in.txt') as f:\n",
    "    scr=0\n",
    "    for l in f.read().split('\\n'):\n",
    "        elf,ret=l.split(' ')\n",
    "        me={\n",
    "            'X':{'A':'Z','B':'X','C':'Y'},\n",
    "            'Y':{'A':'X','B':'Y','C':'Z'},\n",
    "            'Z':{'A':'Y','B':'Z','C':'X'},\n",
    "        }[ret][elf]\n",
    "        scr+=({'X':1,'Y':2,'Z':3}[me]\n",
    "              +{\n",
    "                  'X':{'A':3,'B':0,'C':6},\n",
    "                  'Y':{'A':6,'B':3,'C':0},\n",
    "                  'Z':{'A':0,'B':6,'C':3},\n",
    "               }[me][elf])\n",
    "    print(scr)"
   ]
  },
  {
   "cell_type": "markdown",
   "id": "4a2fc21c",
   "metadata": {},
   "source": [
    "1a"
   ]
  },
  {
   "cell_type": "code",
   "execution_count": 13,
   "id": "b000ed0d",
   "metadata": {},
   "outputs": [
    {
     "name": "stdout",
     "output_type": "stream",
     "text": [
      "75501\n"
     ]
    }
   ],
   "source": [
    "with open('in.txt') as f:\n",
    "    groups=[list(map(int,g.split('\\n')))\n",
    "            for g in f.read().split('\\n\\n')]\n",
    "    #print(groups)\n",
    "    print(max(map(sum,groups)))"
   ]
  },
  {
   "cell_type": "markdown",
   "id": "92a713e9",
   "metadata": {},
   "source": [
    "1b"
   ]
  },
  {
   "cell_type": "code",
   "execution_count": 14,
   "id": "cc521f1c",
   "metadata": {},
   "outputs": [
    {
     "name": "stdout",
     "output_type": "stream",
     "text": [
      "215594\n"
     ]
    }
   ],
   "source": [
    "print(sum(sorted(map(sum,groups),reverse=True)[:3]))"
   ]
  }
 ],
 "metadata": {
  "kernelspec": {
   "display_name": "Python 3 (ipykernel)",
   "language": "python",
   "name": "python3"
  },
  "language_info": {
   "codemirror_mode": {
    "name": "ipython",
    "version": 3
   },
   "file_extension": ".py",
   "mimetype": "text/x-python",
   "name": "python",
   "nbconvert_exporter": "python",
   "pygments_lexer": "ipython3",
   "version": "3.9.10"
  }
 },
 "nbformat": 4,
 "nbformat_minor": 5
}
