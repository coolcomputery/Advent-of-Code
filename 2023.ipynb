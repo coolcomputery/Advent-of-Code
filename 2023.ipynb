{
 "cells": [
  {
   "cell_type": "markdown",
   "id": "3ea3a962",
   "metadata": {},
   "source": [
    "# Advent of Code 2023: coolcomputery"
   ]
  },
  {
   "cell_type": "code",
   "execution_count": 88,
   "id": "6ce9a62a",
   "metadata": {},
   "outputs": [],
   "source": [
    "import numpy as np, math, itertools as it"
   ]
  },
  {
   "cell_type": "code",
   "execution_count": 2,
   "id": "79da651a",
   "metadata": {},
   "outputs": [],
   "source": [
    "def LINES():\n",
    "    with open('in.txt') as f:\n",
    "        return f.read().split('\\n')"
   ]
  },
  {
   "cell_type": "markdown",
   "id": "a5f2715c",
   "metadata": {},
   "source": [
    "## Day 8"
   ]
  },
  {
   "cell_type": "markdown",
   "id": "b42bb3a7",
   "metadata": {},
   "source": [
    "### 8a"
   ]
  },
  {
   "cell_type": "code",
   "execution_count": 63,
   "id": "f463a10b",
   "metadata": {},
   "outputs": [
    {
     "data": {
      "text/plain": [
       "19783"
      ]
     },
     "execution_count": 63,
     "metadata": {},
     "output_type": "execute_result"
    }
   ],
   "source": [
    "lines=LINES()\n",
    "instr=lines[0]\n",
    "ways={}\n",
    "for l in lines[2:]:\n",
    "    v,data=l.split(' = ')\n",
    "    vl,vr=data[1:-1].split(', ')\n",
    "    ways[v]=(vl,vr)\n",
    "\n",
    "n=0\n",
    "v='AAA'\n",
    "while v!='ZZZ':\n",
    "    d=instr[n%len(instr)]\n",
    "    v=ways[v][0 if d=='L' else 1]\n",
    "    n+=1\n",
    "n"
   ]
  },
  {
   "cell_type": "markdown",
   "id": "868130df",
   "metadata": {},
   "source": [
    "### 8b"
   ]
  },
  {
   "cell_type": "code",
   "execution_count": 106,
   "id": "d47b487d",
   "metadata": {},
   "outputs": [
    {
     "name": "stdout",
     "output_type": "stream",
     "text": [
      "(11653, 19783, 19241, 16531, 12737, 14363)\n",
      "11657 4 need i%11653=23306\n",
      "19785 2 need i%19783=39566\n",
      "19245 4 need i%19241=38482\n",
      "16535 4 need i%16531=33062\n",
      "12743 6 need i%12737=25474\n",
      "14365 2 need i%14363=28726\n"
     ]
    },
    {
     "data": {
      "text/plain": [
       "(0, 9177460370549)"
      ]
     },
     "execution_count": 106,
     "metadata": {},
     "output_type": "execute_result"
    }
   ],
   "source": [
    "lines=LINES()\n",
    "instr=lines[0]\n",
    "ways={}\n",
    "for l in lines[2:]:\n",
    "    v,data=l.split(' = ')\n",
    "    vl,vr=data[1:-1].split(', ')\n",
    "    ways[v]=(vl,vr)\n",
    "\n",
    "loops=[]\n",
    "for v0 in ways:\n",
    "    if v0[-1]=='A':\n",
    "        start=(v0,0)\n",
    "        seen={start:0}\n",
    "        s=start\n",
    "        iback=None\n",
    "        while True:\n",
    "            v,i=s\n",
    "            d=instr[i]\n",
    "            s=(ways[v][0 if d=='L' else 1],(i+1)%len(instr))\n",
    "            if s in seen:\n",
    "                iback=seen[s]\n",
    "                break\n",
    "            seen[s]=len(seen)\n",
    "        seen_list={i:s for s,i in seen.items()}\n",
    "        loops.append((\n",
    "            seen_list,\n",
    "            iback\n",
    "        ))\n",
    "'''\n",
    "loop=(L,b)\n",
    "locations: L[0],L[1],...,L[len(L)-1],L[b],L[b+1],...\n",
    "    0<=i<len(L): at location L[i] at step i\n",
    "    larger i: at location L[b + (i-len(L))%(len(L)-b)]\n",
    "'''\n",
    "# display(loops)\n",
    "\n",
    "def loc_at_step(L,b,i):\n",
    "    n=len(L)\n",
    "    return L[i] if i<n else L[b + (i-n)%(n-b)]\n",
    "\n",
    "for i in range(max(len(L) for L,b in loops)):\n",
    "    # print([loc_at_step(L,b,i) for L,b in loops])\n",
    "    if all(loc_at_step(L,b,i)[0][-1]=='Z' for L,b in loops):\n",
    "        print(i)\n",
    "        break\n",
    "\n",
    "'''\n",
    "find some i>len(L_k) for all (L_k,b_k) in loops\n",
    "s.t. all L_k[b_k + (i-len(L_k))%(len(L_k)-b_k)] end with letter Z\n",
    "'''\n",
    "Z_idxs=[\n",
    "    [idx for idx in range(len(L)) if L[idx][0][-1]=='Z']\n",
    "    for L,b in loops\n",
    "]\n",
    "Z_idxs\n",
    "\n",
    "def gcd(a,b):\n",
    "    return gcd(b,a) if a>b else b if a==0 else gcd(a,b%a)\n",
    "def congruence_pair(r1,m1, r2,m2):\n",
    "    if m1<m2:\n",
    "        return congruence_pair(r2,m2, r1,m1)\n",
    "    r1%=m1\n",
    "    r2%=m2\n",
    "    M=(m1*m2)//gcd(m1,m2)\n",
    "    # find k1 s.t. m1*k1+r1 ~ r2 mod m2\n",
    "    for k1 in range(M//m1):\n",
    "        i=m1*k1+r1\n",
    "        if i%m2 == r2:\n",
    "            return i,M\n",
    "    return None\n",
    "\n",
    "sol_i,sol_M=0,1\n",
    "for zidx_list in it.product(*Z_idxs):\n",
    "    print(zidx_list)\n",
    "    for zidx,(L,b) in zip(zidx_list,loops):\n",
    "        n=len(L)\n",
    "        # need (i-n)%(n-b) + b == zidx\n",
    "        # ==> i ~ (zidx-b)+n mod n-b\n",
    "        # ==> i = (n-b)*m + (zidx-b) for some m\n",
    "        print(n,b, f'need i%{n-b}={zidx-b+n}')\n",
    "        sol_i,sol_M=congruence_pair(sol_i,sol_M, zidx-b+n,n-b)\n",
    "sol_i,sol_M"
   ]
  },
  {
   "cell_type": "markdown",
   "id": "a04176cc",
   "metadata": {},
   "source": [
    "## Day 7"
   ]
  },
  {
   "cell_type": "markdown",
   "id": "cc1c9f6c",
   "metadata": {},
   "source": [
    "### 7a"
   ]
  },
  {
   "cell_type": "code",
   "execution_count": 46,
   "id": "db603649",
   "metadata": {},
   "outputs": [
    {
     "data": {
      "text/plain": [
       "249483956"
      ]
     },
     "execution_count": 46,
     "metadata": {},
     "output_type": "execute_result"
    }
   ],
   "source": [
    "card2val={\n",
    "    c:i+1\n",
    "    for i,c in enumerate('123456789TJQKA')\n",
    "}\n",
    "hands,bids=[],{}\n",
    "for l in LINES():\n",
    "    h,b=l.split(' ')\n",
    "    h=tuple(card2val[c] for c in h)\n",
    "    hands.append(h)\n",
    "    bids[h]=int(b)\n",
    "assert len(set(hands))==len(hands)\n",
    "\n",
    "def ctype(h):\n",
    "    mset={}\n",
    "    for c in h:\n",
    "        mset[c]=mset.get(c,0)+1\n",
    "    freqs=sorted(mset.values())\n",
    "    if freqs[-1]==3:\n",
    "        return 3.5 if len(freqs)>1 and freqs[-2]==2 else 3\n",
    "    if freqs[-1]==2:\n",
    "        return 2.5 if len(freqs)>1 and freqs[-2]==2 else 2\n",
    "    return freqs[-1]\n",
    "\n",
    "A=sorted(sorted(hands),key=ctype)\n",
    "sum(bids[h]*(i+1) for i,h in enumerate(A))#,A"
   ]
  },
  {
   "cell_type": "markdown",
   "id": "58ce4c3e",
   "metadata": {},
   "source": [
    "### 7b"
   ]
  },
  {
   "cell_type": "code",
   "execution_count": 55,
   "id": "4bdf404a",
   "metadata": {},
   "outputs": [
    {
     "data": {
      "text/plain": [
       "252137472"
      ]
     },
     "execution_count": 55,
     "metadata": {},
     "output_type": "execute_result"
    }
   ],
   "source": [
    "card2val={\n",
    "    c:i\n",
    "    for i,c in enumerate('J123456789T.QKA')\n",
    "}\n",
    "hands,bids=[],{}\n",
    "for l in LINES():\n",
    "    h,b=l.split(' ')\n",
    "    h=tuple(card2val[c] for c in h)\n",
    "    hands.append(h)\n",
    "    bids[h]=int(b)\n",
    "assert len(set(hands))==len(hands)\n",
    "\n",
    "def ctype(h):\n",
    "    mset={}\n",
    "    for c in h:\n",
    "        if c!=0:\n",
    "            mset[c]=mset.get(c,0)+1\n",
    "    freqs=sorted(mset.values())\n",
    "    if len(freqs)==0:\n",
    "        freqs=[len(h)]\n",
    "    else:\n",
    "        freqs[-1]+=sum(1 for c in h if c==0)\n",
    "#     print(h,freqs)\n",
    "    if freqs[-1]==3:\n",
    "        return 3.5 if len(freqs)>1 and freqs[-2]==2 else 3\n",
    "    if freqs[-1]==2:\n",
    "        return 2.5 if len(freqs)>1 and freqs[-2]==2 else 2\n",
    "    return freqs[-1]\n",
    "\n",
    "A=sorted(sorted(hands),key=ctype)\n",
    "sum(bids[h]*(i+1) for i,h in enumerate(A))#,[(h,ctype(h)) for h in A]"
   ]
  },
  {
   "cell_type": "markdown",
   "id": "719d2a75",
   "metadata": {},
   "source": [
    "## Day 6"
   ]
  },
  {
   "cell_type": "markdown",
   "id": "6daf0b6f",
   "metadata": {},
   "source": [
    "### 6a"
   ]
  },
  {
   "cell_type": "code",
   "execution_count": 11,
   "id": "de570d9d",
   "metadata": {},
   "outputs": [
    {
     "data": {
      "text/plain": [
       "2612736"
      ]
     },
     "execution_count": 11,
     "metadata": {},
     "output_type": "execute_result"
    }
   ],
   "source": [
    "Ts,Ds=[\n",
    "    [int(tok) for tok in l.split(':')[1].split()]\n",
    "    for l in LINES()\n",
    "]\n",
    "out=1\n",
    "for t,d in zip(Ts,Ds):\n",
    "    nways=sum(1 for bt in range(t+1) if (t-bt)*bt>d)\n",
    "    out*=nways\n",
    "out"
   ]
  },
  {
   "cell_type": "markdown",
   "id": "bb7bfe36",
   "metadata": {},
   "source": [
    "### 6b"
   ]
  },
  {
   "cell_type": "code",
   "execution_count": 17,
   "id": "70bb3d42",
   "metadata": {},
   "outputs": [
    {
     "data": {
      "text/plain": [
       "29891250"
      ]
     },
     "execution_count": 17,
     "metadata": {},
     "output_type": "execute_result"
    }
   ],
   "source": [
    "T,D=[\n",
    "    int(''.join(l.split(':')[1].split()))\n",
    "    for l in LINES()\n",
    "]\n",
    "T,D\n",
    "\n",
    "'''\n",
    "(T-x)*x > D\n",
    "x**2 - Tx < -D\n",
    "x**2 - Tx + D < 0\n",
    "(T +/- sqrt(T**2 - 4D)) / 2\n",
    "'''\n",
    "hi,lo=[(T+e*(T**2-4*D)**0.5)/2 for e in [1,-1]]\n",
    "int(hi)-math.ceil(lo)+1"
   ]
  },
  {
   "cell_type": "markdown",
   "id": "66b5bcf7",
   "metadata": {},
   "source": [
    "## Day 5"
   ]
  },
  {
   "cell_type": "markdown",
   "id": "f630520d",
   "metadata": {},
   "source": [
    "### 5a"
   ]
  },
  {
   "cell_type": "code",
   "execution_count": 19,
   "id": "fa7df3c4",
   "metadata": {},
   "outputs": [
    {
     "data": {
      "text/plain": [
       "51580674"
      ]
     },
     "execution_count": 19,
     "metadata": {},
     "output_type": "execute_result"
    }
   ],
   "source": [
    "sections='\\n'.join(LINES()).split('\\n\\n')\n",
    "seeds=[int(tok) for tok in sections[0].split(': ')[1].split(' ')]\n",
    "\n",
    "def conversion(s):\n",
    "    rng_strs=s.split(':\\n')[1].split('\\n')\n",
    "#     out={}\n",
    "#     for tok in rng_strs:\n",
    "#         dest,src,le=(int(v) for v in tok.split())\n",
    "#         for i in range(le):\n",
    "#             assert src+i not in out\n",
    "#             out[src+i]=dest+i\n",
    "#     return out\n",
    "    return [tuple(int(v) for v in tok.split()) for tok in rng_strs]\n",
    "def convert(rngs,v):\n",
    "    for dest,src,le in rngs:\n",
    "        if src<=v and v<src+le:\n",
    "            return dest+(v-src)\n",
    "    return v\n",
    "\n",
    "Ds=[conversion(sec) for sec in sections[1:]]\n",
    "vals=seeds\n",
    "for D in Ds:\n",
    "    vals=[convert(D,v) for v in vals]\n",
    "min(vals)"
   ]
  },
  {
   "cell_type": "markdown",
   "id": "b6f6b1b4",
   "metadata": {},
   "source": [
    "### 5b"
   ]
  },
  {
   "cell_type": "code",
   "execution_count": 34,
   "id": "1d7f39a8",
   "metadata": {
    "scrolled": true
   },
   "outputs": [
    {
     "data": {
      "text/plain": [
       "99751240"
      ]
     },
     "execution_count": 34,
     "metadata": {},
     "output_type": "execute_result"
    }
   ],
   "source": [
    "sections='\\n'.join(LINES()).split('\\n\\n')\n",
    "seed_data=[int(tok) for tok in sections[0].split(': ')[1].split(' ')]\n",
    "\n",
    "def conversion(s):\n",
    "    rng_strs=s.split(':\\n')[1].split('\\n')\n",
    "    out=[]\n",
    "    for tok in rng_strs:\n",
    "        dest,src,le=(int(v) for v in tok.split())\n",
    "        out.append((src,src+le,dest-src))\n",
    "    return out\n",
    "\n",
    "Ds=[conversion(sec) for sec in sections[1:]]\n",
    "seed_rngs=[(src,src+le) for src,le in zip(seed_data[::2],seed_data[1::2])]\n",
    "\n",
    "# if x in range (dest,src,le): x -> x+(dest-src)\n",
    "#  src <= x < src+le\n",
    "\n",
    "def convert_range(start,converters):\n",
    "#     print(start,converters)\n",
    "    # assume that converters operate over disjoint ranges\n",
    "    converters=sorted(converters,key=lambda rng:rng[1])\n",
    "    _clo,_chi=converters[0][0],converters[-1][1]\n",
    "    _lo,_hi=min(start[0],_clo),max(start[1],_chi)\n",
    "    converters=[(_lo,_clo,0)]+converters+[(_chi,_hi,0)]\n",
    "    id_rngs=[\n",
    "        (h0,l1,0)\n",
    "        for (l0,h0,sh0),(l1,h1,sh1) in zip(converters,converters[1:])\n",
    "    ]\n",
    "    converters=sorted(converters+id_rngs,key=lambda rng:rng[1])\n",
    "#     print(converters)\n",
    "    out=[]\n",
    "    for clo,chi,sh in converters:\n",
    "        alo,ahi=max(start[0],clo),min(start[1],chi)\n",
    "#         print(f'\\t{[alo,ahi]}')\n",
    "        if alo<ahi:\n",
    "            out.append(\n",
    "                (alo+sh,ahi+sh)\n",
    "            )\n",
    "    return out\n",
    "\n",
    "rngs=seed_rngs\n",
    "for D in Ds:\n",
    "    rngs=[nrng for rng in rngs for nrng in convert_range(rng,D)]\n",
    "#     print(rngs)\n",
    "min(lo for lo,hi in rngs)#,rngs"
   ]
  },
  {
   "cell_type": "markdown",
   "id": "a99948ba",
   "metadata": {},
   "source": [
    "## Day 4"
   ]
  },
  {
   "cell_type": "markdown",
   "id": "810d9b30",
   "metadata": {},
   "source": [
    "### 4a"
   ]
  },
  {
   "cell_type": "code",
   "execution_count": 14,
   "id": "f025c73b",
   "metadata": {},
   "outputs": [
    {
     "data": {
      "text/plain": [
       "17782"
      ]
     },
     "execution_count": 14,
     "metadata": {},
     "output_type": "execute_result"
    }
   ],
   "source": [
    "cards=[\n",
    "    tuple(\n",
    "        [int(v) for v in tok.split()]\n",
    "        for tok in l.split(': ')[1].split(' | ')\n",
    "    )\n",
    "    for l in LINES()\n",
    "]\n",
    "# display(cards)\n",
    "out=0\n",
    "for wins,yours in cards:\n",
    "    cnt=sum(1 for v in yours if v in wins)\n",
    "    out+=2**(cnt - 1) if cnt>0 else 0\n",
    "out"
   ]
  },
  {
   "cell_type": "markdown",
   "id": "e7566d84",
   "metadata": {},
   "source": [
    "### 4b"
   ]
  },
  {
   "cell_type": "code",
   "execution_count": 17,
   "id": "47629258",
   "metadata": {},
   "outputs": [
    {
     "data": {
      "text/plain": [
       "8477787"
      ]
     },
     "execution_count": 17,
     "metadata": {},
     "output_type": "execute_result"
    }
   ],
   "source": [
    "cards=[\n",
    "    tuple(\n",
    "        [int(v) for v in tok.split()]\n",
    "        for tok in l.split(': ')[1].split(' | ')\n",
    "    )\n",
    "    for l in LINES()\n",
    "]\n",
    "N=len(cards)\n",
    "mults=[1]*N\n",
    "for i,(wins,yours) in enumerate(cards):\n",
    "    cnt=sum(1 for v in yours if v in wins)\n",
    "    for k in range(cnt):\n",
    "        mults[i+k+1]+=mults[i]\n",
    "sum(mults)"
   ]
  },
  {
   "cell_type": "markdown",
   "id": "519a2239",
   "metadata": {},
   "source": [
    "## Day 3"
   ]
  },
  {
   "cell_type": "markdown",
   "id": "396e9003",
   "metadata": {},
   "source": [
    "### 3a"
   ]
  },
  {
   "cell_type": "code",
   "execution_count": 10,
   "id": "ce4eb02a",
   "metadata": {},
   "outputs": [
    {
     "data": {
      "text/plain": [
       "537832"
      ]
     },
     "execution_count": 10,
     "metadata": {},
     "output_type": "execute_result"
    }
   ],
   "source": [
    "grid=LINES()\n",
    "# print(grid)\n",
    "R,C=len(grid),len(grid[0])\n",
    "adj=[[False]*C for r in range(R)]\n",
    "dirs=[\n",
    "    (1,0),(1,1),(0,1),(-1,1),(-1,0),(-1,-1),(0,-1),(1,-1)\n",
    "]\n",
    "for r in range(R):\n",
    "    for c in range(C):\n",
    "        s=grid[r][c]\n",
    "        if s not in '.1234567890':\n",
    "            for dr,dc in dirs:\n",
    "                nr,nc=r+dr,c+dc\n",
    "                if 0<=nr and nr<R and 0<=nc and nc<C:\n",
    "                    adj[nr][nc]=True\n",
    "\n",
    "good_nums=[]\n",
    "for r in range(R):\n",
    "    j=0\n",
    "    while j<C:\n",
    "        if grid[r][j] in '1234567890':\n",
    "            k=j\n",
    "            while k<C and grid[r][k] in '1234567890':\n",
    "                k+=1\n",
    "#             print(j,k,grid[r][j:k])\n",
    "            if any(adj[r][i] for i in range(j,k)):\n",
    "                good_nums.append(int(grid[r][j:k]))\n",
    "            j=k\n",
    "        else:\n",
    "            j+=1\n",
    "# print(good_nums)\n",
    "sum(good_nums)"
   ]
  },
  {
   "cell_type": "markdown",
   "id": "a46a0072",
   "metadata": {},
   "source": [
    "### 3b"
   ]
  },
  {
   "cell_type": "code",
   "execution_count": 18,
   "id": "21ad1af7",
   "metadata": {},
   "outputs": [
    {
     "data": {
      "text/plain": [
       "81939900"
      ]
     },
     "execution_count": 18,
     "metadata": {},
     "output_type": "execute_result"
    }
   ],
   "source": [
    "grid=LINES()\n",
    "# print(grid)\n",
    "R,C=len(grid),len(grid[0])\n",
    "num_idx=[[None]*C for r in range(R)]\n",
    "num_vals={}\n",
    "for r in range(R):\n",
    "    j=0\n",
    "    while j<C:\n",
    "        if grid[r][j] in '1234567890':\n",
    "            k=j\n",
    "            while k<C and grid[r][k] in '1234567890':\n",
    "                k+=1\n",
    "            n_id=len(num_vals)\n",
    "            n_v=int(grid[r][j:k])\n",
    "            num_vals[n_id]=n_v\n",
    "            for i in range(j,k):\n",
    "                num_idx[r][i]=n_id\n",
    "            j=k\n",
    "        else:\n",
    "            j+=1\n",
    "\n",
    "# display(num_idx)\n",
    "\n",
    "dirs=[\n",
    "    (1,0),(1,1),(0,1),(-1,1),(-1,0),(-1,-1),(0,-1),(1,-1)\n",
    "]\n",
    "rats=[]\n",
    "for r in range(R):\n",
    "    for c in range(C):\n",
    "        s=grid[r][c]\n",
    "        if s=='*':\n",
    "            n_ids=set()\n",
    "            for dr,dc in dirs:\n",
    "                nr,nc=r+dr,c+dc\n",
    "                if 0<=nr and nr<R and 0<=nc and nc<C:\n",
    "                    n_id=num_idx[nr][nc]\n",
    "                    if n_id is not None:\n",
    "                        n_ids.add(n_id)\n",
    "            if len(n_ids)==2:\n",
    "                rats.append(math.prod(num_vals[n_id] for n_id in n_ids))\n",
    "sum(rats)#,rats"
   ]
  },
  {
   "cell_type": "code",
   "execution_count": null,
   "id": "7972fe5b",
   "metadata": {},
   "outputs": [],
   "source": []
  },
  {
   "cell_type": "markdown",
   "id": "7790768d",
   "metadata": {},
   "source": [
    "## Day 2"
   ]
  },
  {
   "cell_type": "markdown",
   "id": "c1d7a6ef",
   "metadata": {},
   "source": [
    "### 2a"
   ]
  },
  {
   "cell_type": "code",
   "execution_count": 59,
   "id": "77a94f30",
   "metadata": {},
   "outputs": [
    {
     "data": {
      "text/plain": [
       "2632"
      ]
     },
     "execution_count": 59,
     "metadata": {},
     "output_type": "execute_result"
    }
   ],
   "source": [
    "games=[s[s.find(' '):] for s in LINES()]\n",
    "allow={'red':12, 'green':13, 'blue':14}\n",
    "out=0\n",
    "for G in games:\n",
    "    gi,G=G.split(': ')\n",
    "    gi=int(gi)\n",
    "    G=G.split('; ')\n",
    "#     print(gi,G)\n",
    "    ssets=[]\n",
    "    for s in G:\n",
    "        D={}\n",
    "        for tok in s.split(', '):\n",
    "            cnt,col=tok.split(' ')\n",
    "            D[col]=int(cnt)\n",
    "        ssets.append(D)\n",
    "    bnd={}\n",
    "    for D in ssets:\n",
    "        for col,v in D.items():\n",
    "            bnd[col]=max(bnd.get(col,0),v)\n",
    "    if all(bnd[c]<=allow[c] for c in allow):\n",
    "#         print(bnd)\n",
    "        out+=gi\n",
    "out"
   ]
  },
  {
   "cell_type": "markdown",
   "id": "7239b833",
   "metadata": {},
   "source": [
    "### 2b"
   ]
  },
  {
   "cell_type": "code",
   "execution_count": 60,
   "id": "d86ac6b3",
   "metadata": {},
   "outputs": [
    {
     "data": {
      "text/plain": [
       "69629"
      ]
     },
     "execution_count": 60,
     "metadata": {},
     "output_type": "execute_result"
    }
   ],
   "source": [
    "games=[s[s.find(' '):] for s in LINES()]\n",
    "allow={'red':12, 'green':13, 'blue':14}\n",
    "out=0\n",
    "for G in games:\n",
    "    gi,G=G.split(': ')\n",
    "    gi=int(gi)\n",
    "    G=G.split('; ')\n",
    "#     print(gi,G)\n",
    "    ssets=[]\n",
    "    for s in G:\n",
    "        D={}\n",
    "        for tok in s.split(', '):\n",
    "            cnt,col=tok.split(' ')\n",
    "            D[col]=int(cnt)\n",
    "        ssets.append(D)\n",
    "    bnd={}\n",
    "    for D in ssets:\n",
    "        for col,v in D.items():\n",
    "            bnd[col]=max(bnd.get(col,0),v)\n",
    "#     if all(bnd[c]<=allow[c] for c in allow):\n",
    "#     print(bnd)\n",
    "    out+=math.prod(bnd.values())\n",
    "out"
   ]
  },
  {
   "cell_type": "markdown",
   "id": "0917f9dd",
   "metadata": {},
   "source": [
    "## Day 1"
   ]
  },
  {
   "cell_type": "code",
   "execution_count": 26,
   "id": "a7d92736",
   "metadata": {},
   "outputs": [],
   "source": [
    "with open('in.txt') as f:\n",
    "    lines=f.read().split('\\n')"
   ]
  },
  {
   "cell_type": "markdown",
   "id": "5227ce23",
   "metadata": {},
   "source": [
    "### 1a"
   ]
  },
  {
   "cell_type": "code",
   "execution_count": 27,
   "id": "4d4c521e",
   "metadata": {},
   "outputs": [
    {
     "data": {
      "text/plain": [
       "55621"
      ]
     },
     "execution_count": 27,
     "metadata": {},
     "output_type": "execute_result"
    }
   ],
   "source": [
    "out=0\n",
    "for l in lines:\n",
    "    digs=[int(c) for c in l if c in '1234567890']\n",
    "    out+=digs[0]*10+digs[-1]\n",
    "out"
   ]
  },
  {
   "cell_type": "markdown",
   "id": "d5a6652b",
   "metadata": {},
   "source": [
    "### 1b"
   ]
  },
  {
   "cell_type": "code",
   "execution_count": 28,
   "id": "e1fd6ff6",
   "metadata": {},
   "outputs": [
    {
     "data": {
      "text/plain": [
       "53592"
      ]
     },
     "execution_count": 28,
     "metadata": {},
     "output_type": "execute_result"
    }
   ],
   "source": [
    "D={s:i for i,s in enumerate('zero one two three four five six seven eight nine'.split())}\n",
    "out=0\n",
    "for l in lines:\n",
    "    digs=[]\n",
    "    for i in range(len(l)):\n",
    "        if l[i] in '1234567890':\n",
    "            digs.append(int(l[i]))\n",
    "        else:\n",
    "            for s,v in D.items():\n",
    "                if l[i:].startswith(s):\n",
    "                    digs.append(v)\n",
    "    x=digs[0]*10+digs[-1]\n",
    "#     print(l,x)\n",
    "    out+=x\n",
    "out"
   ]
  }
 ],
 "metadata": {
  "kernelspec": {
   "display_name": "Python 3 (ipykernel)",
   "language": "python",
   "name": "python3"
  },
  "language_info": {
   "codemirror_mode": {
    "name": "ipython",
    "version": 3
   },
   "file_extension": ".py",
   "mimetype": "text/x-python",
   "name": "python",
   "nbconvert_exporter": "python",
   "pygments_lexer": "ipython3",
   "version": "3.10.7"
  }
 },
 "nbformat": 4,
 "nbformat_minor": 5
}
