{
 "cells": [
  {
   "cell_type": "markdown",
   "id": "3ea3a962",
   "metadata": {},
   "source": [
    "# Advent of Code 2023: coolcomputery"
   ]
  },
  {
   "cell_type": "code",
   "execution_count": 1,
   "id": "6ce9a62a",
   "metadata": {},
   "outputs": [],
   "source": [
    "import numpy as np, math, itertools as it"
   ]
  },
  {
   "cell_type": "code",
   "execution_count": 2,
   "id": "79da651a",
   "metadata": {},
   "outputs": [],
   "source": [
    "def LINES():\n",
    "    with open('in.txt') as f:\n",
    "        return f.read().split('\\n')"
   ]
  },
  {
   "cell_type": "markdown",
   "id": "b963401f",
   "metadata": {},
   "source": [
    "## Day 15"
   ]
  },
  {
   "cell_type": "markdown",
   "id": "73405381",
   "metadata": {},
   "source": [
    "### 15a"
   ]
  },
  {
   "cell_type": "code",
   "execution_count": 8,
   "id": "cd6b49f7",
   "metadata": {},
   "outputs": [
    {
     "data": {
      "text/plain": [
       "504449"
      ]
     },
     "execution_count": 8,
     "metadata": {},
     "output_type": "execute_result"
    }
   ],
   "source": [
    "toks=LINES()[0].split(',')\n",
    "def H(s):\n",
    "    out=0\n",
    "    for ch in s:\n",
    "        out=( (out+ord(ch))*17 ) % 256\n",
    "    return out\n",
    "sum(H(s) for s in toks)\n",
    "# for s in toks:\n",
    "#     print(s,H(s))"
   ]
  },
  {
   "cell_type": "markdown",
   "id": "acd13054",
   "metadata": {},
   "source": [
    "### 15b"
   ]
  },
  {
   "cell_type": "code",
   "execution_count": 18,
   "id": "26a6f242",
   "metadata": {},
   "outputs": [
    {
     "data": {
      "text/plain": [
       "262044"
      ]
     },
     "execution_count": 18,
     "metadata": {},
     "output_type": "execute_result"
    }
   ],
   "source": [
    "toks=LINES()[0].split(',')\n",
    "def H(s):\n",
    "    out=0\n",
    "    for ch in s:\n",
    "        out=( (out+ord(ch))*17 ) % 256\n",
    "    return out\n",
    "\n",
    "boxes=[[] for _ in range(256)]\n",
    "for s in toks:\n",
    "    label,action=None,None\n",
    "    if s.find('=')>=0:\n",
    "        label,action=s.split('=')\n",
    "        action=int(action)\n",
    "    else:\n",
    "        assert s[-1]=='-'\n",
    "        label,action=s[:-1],'-'\n",
    "    # print(s,label,action,H(label))\n",
    "    h=H(label)\n",
    "    box=boxes[h]\n",
    "    if action=='-':\n",
    "        for i in range(len(box)-1,-1,-1):\n",
    "            if box[i][0]==label:\n",
    "                del box[i]\n",
    "    else:\n",
    "        done=False\n",
    "        for i in range(len(box)):\n",
    "            if box[i][0]==label:\n",
    "                box[i]=(label,action)\n",
    "                done=True\n",
    "                break\n",
    "        if not done:\n",
    "            box.append((label,action))\n",
    "#     display({i:box for i,box in enumerate(boxes) if len(box)>0})\n",
    "sum((bi+1)*(i+1)*boxes[bi][i][1] for bi in range(len(boxes)) for i in range(len(boxes[bi])))"
   ]
  },
  {
   "cell_type": "markdown",
   "id": "bc42f144",
   "metadata": {},
   "source": [
    "## Day 14"
   ]
  },
  {
   "cell_type": "markdown",
   "id": "dd25a192",
   "metadata": {},
   "source": [
    "### 14a"
   ]
  },
  {
   "cell_type": "code",
   "execution_count": 50,
   "id": "edc7731c",
   "metadata": {},
   "outputs": [
    {
     "data": {
      "text/plain": [
       "113078"
      ]
     },
     "execution_count": 50,
     "metadata": {},
     "output_type": "execute_result"
    }
   ],
   "source": [
    "grid=LINES()\n",
    "def rnorth(grid):\n",
    "    R,C=len(grid),len(grid[0])\n",
    "    out=[['.']*C for r in range(R)]\n",
    "    for c in range(C):\n",
    "        roll_i=0\n",
    "        for r in range(R):\n",
    "            if grid[r][c]=='#':\n",
    "                out[r][c]='#'\n",
    "                roll_i=r+1\n",
    "            elif grid[r][c]=='O':\n",
    "                out[roll_i][c]='O'\n",
    "                roll_i+=1\n",
    "    return out\n",
    "def load(grid):\n",
    "    R,C=len(grid),len(grid[0])\n",
    "    return sum(\n",
    "        R-r\n",
    "        for r in range(R)\n",
    "        for c in range(C)\n",
    "        if grid[r][c]=='O'\n",
    "    )\n",
    "load(rnorth(grid))"
   ]
  },
  {
   "cell_type": "markdown",
   "id": "81c85b1a",
   "metadata": {},
   "source": [
    "### 14b"
   ]
  },
  {
   "cell_type": "code",
   "execution_count": 75,
   "id": "962b4a16",
   "metadata": {},
   "outputs": [
    {
     "name": "stdout",
     "output_type": "stream",
     "text": [
      "117 103 1000000000\n"
     ]
    },
    {
     "data": {
      "text/plain": [
       "94255"
      ]
     },
     "execution_count": 75,
     "metadata": {},
     "output_type": "execute_result"
    }
   ],
   "source": [
    "grid=LINES()\n",
    "def rnorth(grid):\n",
    "    R,C=len(grid),len(grid[0])\n",
    "    out=[['.']*C for r in range(R)]\n",
    "    for c in range(C):\n",
    "        roll_i=0\n",
    "        for r in range(R):\n",
    "            if grid[r][c]=='#':\n",
    "                out[r][c]='#'\n",
    "                roll_i=r+1\n",
    "            elif grid[r][c]=='O':\n",
    "                out[roll_i][c]='O'\n",
    "                roll_i+=1\n",
    "    return out\n",
    "def rsouth(grid):\n",
    "    return rnorth(grid[::-1])[::-1]\n",
    "def rwest(grid):\n",
    "    R,C=len(grid),len(grid[0])\n",
    "    out=[['.']*C for r in range(R)]\n",
    "    for r in range(R):\n",
    "        roll_i=0\n",
    "        for c in range(C):\n",
    "            ch=grid[r][c]\n",
    "            if ch=='#':\n",
    "                out[r][c]='#'\n",
    "                roll_i=c+1\n",
    "            elif ch=='O':\n",
    "                out[r][roll_i]='O'\n",
    "                roll_i+=1\n",
    "    return out\n",
    "def rrev(grid):\n",
    "    return [row[::-1] for row in grid]\n",
    "def reast(grid):\n",
    "    return rrev(rwest(rrev(grid)))\n",
    "def spin(grid):\n",
    "    return reast(rsouth(rwest(rnorth(grid))))\n",
    "def load(grid):\n",
    "    R,C=len(grid),len(grid[0])\n",
    "    return sum(\n",
    "        R-r\n",
    "        for r in range(R)\n",
    "        for c in range(C)\n",
    "        if grid[r][c]=='O'\n",
    "    )\n",
    "def encode(grid):\n",
    "    return '\\n'.join(''.join(list(row)) for row in grid)\n",
    "\n",
    "# display(grid)\n",
    "\n",
    "hist={encode(grid):0}\n",
    "M=grid\n",
    "back_i=None\n",
    "for _ in range(1000):\n",
    "    M=spin(M)\n",
    "    c=encode(M)\n",
    "    if c in hist:\n",
    "        back_i=hist[c]\n",
    "        break\n",
    "    hist[c]=len(hist)\n",
    "#     display([''.join(row) for row in M])\n",
    "\n",
    "'''\n",
    "find t-th term (0-indexed) in sequence\n",
    "0,1,...,h-1, b,b+1,...,h-1, b,b+1,...,h-1, ...\n",
    "'''\n",
    "def solve(h,b,t):\n",
    "    print(h,b,t)\n",
    "    if t<h:\n",
    "        return t\n",
    "    period=h-b\n",
    "#     print(period)\n",
    "    return ((t-h)%period)+b\n",
    "ans_i=solve(len(hist),back_i,10**9)\n",
    "hist_list={i:v for v,i in hist.items()}\n",
    "def to_grid(code):\n",
    "    return code.split('\\n')\n",
    "load(to_grid(hist_list[ans_i]))"
   ]
  },
  {
   "cell_type": "markdown",
   "id": "01fd79bf",
   "metadata": {},
   "source": [
    "## Day 13"
   ]
  },
  {
   "cell_type": "markdown",
   "id": "d9b17925",
   "metadata": {},
   "source": [
    "### 13a"
   ]
  },
  {
   "cell_type": "code",
   "execution_count": 26,
   "id": "3c7e31ee",
   "metadata": {},
   "outputs": [
    {
     "data": {
      "text/plain": [
       "33195"
      ]
     },
     "execution_count": 26,
     "metadata": {},
     "output_type": "execute_result"
    }
   ],
   "source": [
    "def is_refl(vs,i):\n",
    "    if i<0 or i+1>=len(vs):\n",
    "        return False\n",
    "    l,r=i,i+1\n",
    "    while l>=0 and r<len(vs):\n",
    "        if vs[l]!=vs[r]:\n",
    "            return False\n",
    "        l-=1\n",
    "        r+=1\n",
    "    return True\n",
    "def pts(rows):\n",
    "    R,C=len(rows),len(rows[0])\n",
    "    clms=[''.join(rows[r][c] for r in range(R)) for c in range(C)]\n",
    "    ris=[r for r in range(R) if is_refl(rows,r)]\n",
    "    cis=[c for c in range(C) if is_refl(clms,c)]\n",
    "    assert len(ris)+len(cis)==1, (ris,cis)\n",
    "#     print(ris,cis)\n",
    "    return 100*(ris[0]+1) if len(ris)>0 else (cis[0]+1)\n",
    "\n",
    "grids=[tok.split('\\n') for tok in '\\n'.join(LINES()).split('\\n\\n')]\n",
    "grids\n",
    "\n",
    "sum([pts(M) for M in grids])"
   ]
  },
  {
   "cell_type": "markdown",
   "id": "6163f19e",
   "metadata": {},
   "source": [
    "### 13b"
   ]
  },
  {
   "cell_type": "code",
   "execution_count": 44,
   "id": "d151b5b9",
   "metadata": {
    "scrolled": true
   },
   "outputs": [
    {
     "data": {
      "text/plain": [
       "31836"
      ]
     },
     "execution_count": 44,
     "metadata": {},
     "output_type": "execute_result"
    }
   ],
   "source": [
    "def is_refl(vs,i):\n",
    "    if i<0 or i+1>=len(vs):\n",
    "        return False\n",
    "    l,r=i,i+1\n",
    "    while l>=0 and r<len(vs):\n",
    "        if vs[l]!=vs[r]:\n",
    "            return False\n",
    "        l-=1\n",
    "        r+=1\n",
    "    return True\n",
    "def refl_coords(rows):\n",
    "    R,C=len(rows),len(rows[0])\n",
    "    clms=[''.join(rows[r][c] for r in range(R)) for c in range(C)]\n",
    "    ris=[r for r in range(R) if is_refl(rows,r)]\n",
    "    cis=[c for c in range(C) if is_refl(clms,c)]\n",
    "    return ris,cis\n",
    "def smudge(rows):\n",
    "    R,C=len(rows),len(rows[0])\n",
    "    refls=refl_coords(rows)\n",
    "    out=None\n",
    "    b_unseen_refls=None\n",
    "    for r in range(R):\n",
    "        for c in range(C):\n",
    "            M=[list(row) for row in rows]\n",
    "            M[r][c]=('#' if M[r][c]=='.' else '.')\n",
    "            M=[''.join(row) for row in M]\n",
    "            nris,ncis=refl_coords(M)\n",
    "            if len(set(nris)-set(refls[0]))>0 or len(set(ncis)-set(refls[1]))>0:\n",
    "#                 print(r,c,refls,nris,ncis)\n",
    "                unseens=(set(nris)-set(refls[0]),set(ncis)-set(refls[1]))\n",
    "                if b_unseen_refls is None:\n",
    "                    b_unseen_refls=unseens\n",
    "                assert b_unseen_refls==unseens\n",
    "                assert len(unseens[0])+len(unseens[1])==1\n",
    "                out=list([100*(v+1) for v in unseens[0]]+[v+1 for v in unseens[1]])[0]\n",
    "    assert out is not None\n",
    "    return out\n",
    "\n",
    "grids=[tok.split('\\n') for tok in '\\n'.join(LINES()).split('\\n\\n')]\n",
    "grids\n",
    "\n",
    "sum([smudge(M) for M in grids])"
   ]
  },
  {
   "cell_type": "markdown",
   "id": "48c6f221",
   "metadata": {},
   "source": [
    "## Day 12"
   ]
  },
  {
   "cell_type": "markdown",
   "id": "a315a34e",
   "metadata": {},
   "source": [
    "### 12a"
   ]
  },
  {
   "cell_type": "code",
   "execution_count": 42,
   "id": "6d407984",
   "metadata": {},
   "outputs": [
    {
     "data": {
      "text/plain": [
       "7792"
      ]
     },
     "execution_count": 42,
     "metadata": {},
     "output_type": "execute_result"
    }
   ],
   "source": [
    "masks,runss=[],[]\n",
    "for l in LINES():\n",
    "    m,rs=l.split()\n",
    "    masks.append(m)\n",
    "    runss.append([int(v) for v in rs.split(',')])\n",
    "masks,runss\n",
    "def get_runs(s):\n",
    "    c_='#'\n",
    "    out=[]\n",
    "    i=0\n",
    "    while i<len(s):\n",
    "        if s[i]==c_:\n",
    "            j=i\n",
    "            while j<len(s) and s[j]==c_:\n",
    "                j+=1\n",
    "            out.append(j-i)\n",
    "            i=j\n",
    "        else:\n",
    "            i+=1\n",
    "    return out\n",
    "ans=0\n",
    "for m,rs in zip(masks,runss):\n",
    "    idxs=[c for c in range(len(m)) if m[c]=='?']\n",
    "#     print(m,rs,idxs)\n",
    "    cnt=0\n",
    "    for states in it.product(['.','#'],repeat=len(idxs)):\n",
    "        nm=list(m)\n",
    "        for i,v in zip(idxs,states):\n",
    "            nm[i]=v\n",
    "        nm=''.join(nm)\n",
    "#         print('\\t',states,nm,get_runs(nm))\n",
    "        if get_runs(nm)==rs:\n",
    "            cnt+=1\n",
    "#     print(cnt)\n",
    "    ans+=cnt\n",
    "ans"
   ]
  },
  {
   "cell_type": "markdown",
   "id": "4f9247c7",
   "metadata": {},
   "source": [
    "### 12b"
   ]
  },
  {
   "cell_type": "code",
   "execution_count": 41,
   "id": "a6afb168",
   "metadata": {},
   "outputs": [
    {
     "data": {
      "text/plain": [
       "13012052341533"
      ]
     },
     "execution_count": 41,
     "metadata": {},
     "output_type": "execute_result"
    }
   ],
   "source": [
    "masks,runss=[],[]\n",
    "for l in LINES():\n",
    "    m,rs=l.split()\n",
    "    masks.append(m)\n",
    "    runss.append([int(v) for v in rs.split(',')])\n",
    "masks,runss\n",
    "\n",
    "C_='#'\n",
    "def get_runs(s):\n",
    "    out=[]\n",
    "    i=0\n",
    "    while i<len(s):\n",
    "        if s[i]==C_:\n",
    "            j=i\n",
    "            while j<len(s) and s[j]==C_:\n",
    "                j+=1\n",
    "            out.append(j-i)\n",
    "            i=j\n",
    "        else:\n",
    "            i+=1\n",
    "    return out\n",
    "\n",
    "def dp(M,runs):\n",
    "    runs=tuple(runs)\n",
    "    mem={}\n",
    "    def solve(M,runs,ntrailing):\n",
    "        out=None\n",
    "        state=(M,runs,ntrailing)\n",
    "        if state in mem:\n",
    "            out=mem[state]\n",
    "        else:\n",
    "            if M=='':\n",
    "                out=1 if runs==(tuple() if ntrailing==0 else (ntrailing,)) else 0\n",
    "            elif M[-1]=='#':\n",
    "                out=solve(M[:-1],runs,ntrailing+1)\n",
    "            elif M[-1]=='.':\n",
    "                if ntrailing==0:\n",
    "                    out=solve(M[:-1],runs,0)\n",
    "                else:\n",
    "                    out=solve(M[:-1],runs[:-1],0) if len(runs)>0 and runs[-1]==ntrailing else 0\n",
    "            else:\n",
    "                assert M[-1]=='?'\n",
    "                out=solve(M[:-1]+'.',runs,ntrailing)+solve(M[:-1]+'#',runs,ntrailing)\n",
    "#             print('\\t',M,runs,ntrailing,':',out)\n",
    "        mem[state]=out\n",
    "        return out\n",
    "#     display(mem)\n",
    "    return solve(M,runs,0)\n",
    "\n",
    "ans=0\n",
    "for m,rs in zip(masks,runss):\n",
    "    cnt=dp('?'.join([m]*5),rs*5)\n",
    "#     print(cnt)\n",
    "    ans+=cnt\n",
    "ans"
   ]
  },
  {
   "cell_type": "code",
   "execution_count": null,
   "id": "491ff890",
   "metadata": {},
   "outputs": [],
   "source": []
  },
  {
   "cell_type": "code",
   "execution_count": null,
   "id": "f6d15479",
   "metadata": {},
   "outputs": [],
   "source": []
  },
  {
   "cell_type": "code",
   "execution_count": null,
   "id": "1470260a",
   "metadata": {},
   "outputs": [],
   "source": []
  },
  {
   "cell_type": "code",
   "execution_count": null,
   "id": "2ed6091e",
   "metadata": {},
   "outputs": [],
   "source": []
  },
  {
   "cell_type": "code",
   "execution_count": null,
   "id": "fd60e9d5",
   "metadata": {},
   "outputs": [],
   "source": []
  },
  {
   "cell_type": "markdown",
   "id": "c89c4379",
   "metadata": {},
   "source": [
    "## Day 11"
   ]
  },
  {
   "cell_type": "markdown",
   "id": "5ad08081",
   "metadata": {},
   "source": [
    "### 11a"
   ]
  },
  {
   "cell_type": "code",
   "execution_count": 18,
   "id": "8e7df406",
   "metadata": {},
   "outputs": [
    {
     "data": {
      "text/plain": [
       "9608724"
      ]
     },
     "execution_count": 18,
     "metadata": {},
     "output_type": "execute_result"
    }
   ],
   "source": [
    "grid=LINES()\n",
    "R,C=len(grid),len(grid[0])\n",
    "pts=[(r,c) for r in range(R) for c in range(C) if grid[r][c]=='#']\n",
    "ptrs,ptcs={r for r,c in pts},{c for r,c in pts}\n",
    "rgaps,cgaps=[r for r in range(R) if r not in ptrs],[c for c in range(C) if c not in ptcs]\n",
    "# display(rgaps,cgaps)\n",
    "# xgrow,cgrow=[(1 if r in ptrs else 2) for r in range(R)],[(1 if c in ptcs else 2) for c in range(C)]\n",
    "# xgrow,cgrow\n",
    "def expand(A):\n",
    "    A=set(A)\n",
    "    A.add(0)\n",
    "    A=sorted(A)\n",
    "    out={}\n",
    "    pad=0\n",
    "    for i in range(len(A)):\n",
    "        a=A[i]\n",
    "        if i>0 and A[i]-A[i-1]>1:\n",
    "            pad+=(A[i]-A[i-1])-1\n",
    "        out[a]=a+pad\n",
    "    return out\n",
    "rM,cM=expand(ptrs),expand(ptcs)\n",
    "npts=[(rM[r],cM[c]) for r,c in pts]\n",
    "def dist(p0,p1):\n",
    "    return sum(abs(p0[i]-p1[i]) for i in range(2))\n",
    "sum(dist(p0,p1) for p0,p1 in it.combinations(npts,2))"
   ]
  },
  {
   "cell_type": "markdown",
   "id": "ff26f851",
   "metadata": {},
   "source": [
    "### 11b"
   ]
  },
  {
   "cell_type": "code",
   "execution_count": 39,
   "id": "9bb64122",
   "metadata": {},
   "outputs": [
    {
     "data": {
      "text/plain": [
       "904633799472"
      ]
     },
     "execution_count": 39,
     "metadata": {},
     "output_type": "execute_result"
    }
   ],
   "source": [
    "grid=LINES()\n",
    "R,C=len(grid),len(grid[0])\n",
    "pts=[(r,c) for r in range(R) for c in range(C) if grid[r][c]=='#']\n",
    "ptrs,ptcs={r for r,c in pts},{c for r,c in pts}\n",
    "rgaps,cgaps=[r for r in range(R) if r not in ptrs],[c for c in range(C) if c not in ptcs]\n",
    "# display(rgaps,cgaps)\n",
    "G=10**6\n",
    "xgrow=np.array([(1 if r in ptrs else G) for r in range(R)])\n",
    "cgrow=np.array([(1 if c in ptcs else G) for c in range(C)])\n",
    "nxs,ncs=np.cumsum(xgrow)-1,np.cumsum(cgrow)-1\n",
    "xgrow,cgrow,nxs,ncs\n",
    "npts=[(nxs[r],ncs[c]) for r,c in pts]\n",
    "# display(npts)\n",
    "def dist(p0,p1):\n",
    "    return sum(abs(p0[i]-p1[i]) for i in range(2))\n",
    "sum(dist(p0,p1) for p0,p1 in it.combinations(npts,2))"
   ]
  },
  {
   "cell_type": "markdown",
   "id": "5d86a5e0",
   "metadata": {},
   "source": [
    "## Day 10"
   ]
  },
  {
   "cell_type": "markdown",
   "id": "331c5ef1",
   "metadata": {},
   "source": [
    "### 10a"
   ]
  },
  {
   "cell_type": "code",
   "execution_count": 44,
   "id": "f227a7db",
   "metadata": {},
   "outputs": [
    {
     "name": "stdout",
     "output_type": "stream",
     "text": [
      "80\n"
     ]
    }
   ],
   "source": [
    "grid=LINES()\n",
    "dcoordss={\n",
    "    '|':[(1,0),(-1,0)],\n",
    "    '-':[(0,1),(0,-1)],\n",
    "    'L':[(-1,0),(0,1)],\n",
    "    'J':[(-1,0),(0,-1)],\n",
    "    '7':[(1,0),(0,-1)],\n",
    "    'F':[(1,0),(0,1)],\n",
    "}\n",
    "def grid2graph(grid):\n",
    "    graph={}\n",
    "    R,C=len(grid),len(grid[0])\n",
    "    for r in range(R):\n",
    "        for c in range(C):\n",
    "            t=grid[r][c]\n",
    "            neighbors=[]\n",
    "            for dr,dc in dcoordss.get(t,[]):\n",
    "                nr,nc=r+dr,c+dc\n",
    "                if 0<=nr and nr<R and 0<=nc and nc<C:\n",
    "                    neighbors.append((nr,nc))\n",
    "            if len(neighbors)>0:\n",
    "                graph[(r,c)]=neighbors\n",
    "    return graph\n",
    "G=grid2graph(grid)\n",
    "\n",
    "R,C=len(grid),len(grid[0])\n",
    "starts=[(r,c) for r in range(R) for c in range(C) if grid[r][c]=='S']\n",
    "assert len(starts)==1\n",
    "(sr,sc)=starts[0]\n",
    "# display(G)\n",
    "G[(sr,sc)]=[(r,c) for (r,c) in G if (sr,sc) in G[(r,c)]]\n",
    "# display(G)\n",
    "\n",
    "def bfs(G,v0):\n",
    "    out=[v0]\n",
    "    depths={v0:0}\n",
    "    i=0\n",
    "    while i<len(out):\n",
    "        v=out[i]\n",
    "        for n in G[v]:\n",
    "            if n not in depths:\n",
    "                depths[n]=depths[v]+1\n",
    "                out.append(n)\n",
    "        i+=1\n",
    "    return depths\n",
    "print(max(bfs(G,(sr,sc)).values()))"
   ]
  },
  {
   "cell_type": "markdown",
   "id": "48d5c6fc",
   "metadata": {},
   "source": [
    "### 10b"
   ]
  },
  {
   "cell_type": "code",
   "execution_count": 75,
   "id": "51b87c89",
   "metadata": {},
   "outputs": [
    {
     "name": "stdout",
     "output_type": "stream",
     "text": [
      "start joint: L\n",
      "371.0\n"
     ]
    }
   ],
   "source": [
    "grid=LINES()\n",
    "dcoordss={\n",
    "    '|':[(1,0),(-1,0)],\n",
    "    '-':[(0,1),(0,-1)],\n",
    "    'L':[(-1,0),(0,1)],\n",
    "    'J':[(-1,0),(0,-1)],\n",
    "    '7':[(1,0),(0,-1)],\n",
    "    'F':[(1,0),(0,1)],\n",
    "    '.':[(1,0),(-1,0),(0,1),(0,-1)]\n",
    "}\n",
    "def neighbors_of(R,C,r,c,dcs):\n",
    "    out=[]\n",
    "    for dr,dc in dcs:\n",
    "        nr,nc=r+dr,c+dc\n",
    "        if 0<=nr and nr<R and 0<=nc and nc<C:\n",
    "            out.append((nr,nc))\n",
    "    return out\n",
    "def grid2graph(grid):\n",
    "    graph={}\n",
    "    R,C=len(grid),len(grid[0])\n",
    "    for r in range(R):\n",
    "        for c in range(C):\n",
    "            t=grid[r][c]\n",
    "            neighbors=[]\n",
    "#             for dr,dc in dcoordss.get(t,[]):\n",
    "#                 nr,nc=r+dr,c+dc\n",
    "#                 if (0<=nr and nr<R and 0<=nc and nc<C\n",
    "#                     and (t!='.' or grid[nr][nc]=='.')):\n",
    "#                     neighbors.append((nr,nc))\n",
    "            for nr,nc in neighbors_of(R,C,r,c,dcoordss.get(t,[])):\n",
    "                if t!='.' or grid[nr][nc]=='.':\n",
    "                    neighbors.append((nr,nc))\n",
    "            if len(neighbors)>0:\n",
    "                graph[(r,c)]=neighbors\n",
    "    return graph\n",
    "G=grid2graph(grid)\n",
    "\n",
    "R,C=len(grid),len(grid[0])\n",
    "starts=[(r,c) for r in range(R) for c in range(C) if grid[r][c]=='S']\n",
    "assert len(starts)==1\n",
    "(sr,sc)=starts[0]\n",
    "# display(G)\n",
    "G[(sr,sc)]=[(r,c) for (r,c) in G if (sr,sc) in G[(r,c)]]\n",
    "start_typs=[typ for typ,dcs in dcoordss.items() if set(G[(sr,sc)])==set(neighbors_of(R,C,sr,sc,dcs))]\n",
    "assert len(start_typs)\n",
    "start_typ,=start_typs\n",
    "print('start joint:',start_typ)\n",
    "# display(G)\n",
    "\n",
    "def dfs(G,v0):\n",
    "    # max recursion depth exceeded\n",
    "#     seen={v0}\n",
    "#     seen_l=[v0]\n",
    "#     def _dfs(v):\n",
    "#         for n in G[v]:\n",
    "#             if n not in seen:\n",
    "#                 seen.add(n)\n",
    "#                 seen_l.append(n)\n",
    "#                 _dfs(n)\n",
    "#     _dfs(v0)\n",
    "#     return seen_l\n",
    "    stack=[(v0,0)]\n",
    "    out=[]\n",
    "    seen={v0}\n",
    "    while len(stack)>0:\n",
    "        si=len(stack)-1\n",
    "        v,ni=stack[si]\n",
    "        if ni==0:\n",
    "            out.append(v)\n",
    "        if ni==len(G[v]):\n",
    "            del stack[-1]\n",
    "        else:\n",
    "            n=G[v][ni]\n",
    "            if n not in seen:\n",
    "                seen.add(n)\n",
    "                stack.append((n,0))\n",
    "            ni+=1\n",
    "            stack[si]=(v,ni)\n",
    "    return out\n",
    "loop=dfs(G,(sr,sc))\n",
    "\n",
    "isolate=[\n",
    "    [\n",
    "        grid[r][c] if (r,c) in loop else '.'\n",
    "        for c in range(C)\n",
    "    ]\n",
    "    for r in range(R)\n",
    "]\n",
    "isolate[sr][sc]=start_typ\n",
    "# print('\\n'.join(''.join(row) for row in isolate))\n",
    "# print()\n",
    "# print(loop)\n",
    "\n",
    "#shoelace formula + Pick's theorem\n",
    "def poly_area(coords):\n",
    "    return sum(\n",
    "        (y+ny)*(x-nx)\n",
    "        for (x,y),(nx,ny) in zip(coords,coords[1:]+[coords[0]])\n",
    "    )/2\n",
    "print(abs(poly_area(loop))+1-len(loop)/2)\n",
    "\n",
    "# def n_in(grid):\n",
    "#     exteriors={}\n",
    "#     R,C=len(grid),len(grid[0])\n",
    "#     G=grid2graph(grid)\n",
    "#     for r in range(R):\n",
    "#         for c in range(C):\n",
    "#             if r==0 or r==R-1 or c==0 or c==C-1:\n",
    "#                 if (r,c) not in exteriors:\n",
    "#                     exteriors.update(bfs(G,(r,c)))\n",
    "# #     for r in range(R):\n",
    "# #         for c in range(C):\n",
    "# #             print((grid[r][c] if grid[r][c]!='.' else 'O' if (r,c) in exteriors else 'I'),end='')\n",
    "# #         print()\n",
    "#     return sum(\n",
    "#         1\n",
    "#         for r in range(R) for c in range(C)\n",
    "#         if grid[r][c]=='.' and (r,c) not in exteriors\n",
    "#     )\n",
    "# def n_in(grid):\n",
    "#     R,C=len(grid),len(grid[0])\n",
    "#     for r in range(R):\n",
    "#         cnt=0\n",
    "#         for c in range(C):\n",
    "#             cnt+=(0 if grid[r][c] in {'.','-'} else 1)\n",
    "#             print((grid[r][c] if grid[r][c]!='.' else 'O' if cnt%2==0 else 'I'),end='')\n",
    "#         print()\n",
    "# n_in(isolate)"
   ]
  },
  {
   "cell_type": "markdown",
   "id": "591c8f66",
   "metadata": {},
   "source": [
    "## Day 9"
   ]
  },
  {
   "cell_type": "markdown",
   "id": "fe1b35bb",
   "metadata": {},
   "source": [
    "### 9a"
   ]
  },
  {
   "cell_type": "code",
   "execution_count": 113,
   "id": "4c5ee842",
   "metadata": {},
   "outputs": [
    {
     "data": {
      "text/plain": [
       "1861775706"
      ]
     },
     "execution_count": 113,
     "metadata": {},
     "output_type": "execute_result"
    }
   ],
   "source": [
    "seqs=[[int(v) for v in l.split()] for l in LINES()]\n",
    "\n",
    "def solve(seq):\n",
    "    diffss=[seq]\n",
    "    H=seq\n",
    "    while any(v!=0 for v in H):\n",
    "        assert len(H)>0\n",
    "        H=[H[i+1]-H[i] for i in range(len(H)-1)]\n",
    "        diffss.append(H)\n",
    "    # display(diffss)\n",
    "    diffss[-1].append(0)\n",
    "    for lvl in range(len(diffss)-2,-1,-1):\n",
    "        diffss[lvl].append(diffss[lvl][-1]+diffss[lvl+1][-1])\n",
    "    # display(diffss)\n",
    "    return diffss[0][-1]\n",
    "sum(solve(S) for S in seqs)"
   ]
  },
  {
   "cell_type": "markdown",
   "id": "518689ea",
   "metadata": {},
   "source": [
    "### 9b"
   ]
  },
  {
   "cell_type": "code",
   "execution_count": 121,
   "id": "137c8f36",
   "metadata": {},
   "outputs": [
    {
     "data": {
      "text/plain": [
       "1082"
      ]
     },
     "execution_count": 121,
     "metadata": {},
     "output_type": "execute_result"
    }
   ],
   "source": [
    "seqs=[[int(v) for v in l.split()] for l in LINES()]\n",
    "\n",
    "def solve(seq):\n",
    "    diffss=[seq]\n",
    "    H=seq\n",
    "    while any(v!=0 for v in H):\n",
    "        assert len(H)>0\n",
    "        H=[H[i+1]-H[i] for i in range(len(H)-1)]\n",
    "        diffss.append(H)\n",
    "    # display(diffss)\n",
    "    diffss[-1].insert(0,0)\n",
    "    for lvl in range(len(diffss)-2,-1,-1):\n",
    "        diffss[lvl].insert(0,diffss[lvl][0]-diffss[lvl+1][0])\n",
    "    # display(diffss)\n",
    "    return diffss[0][0]\n",
    "sum(solve(S) for S in seqs)"
   ]
  },
  {
   "cell_type": "markdown",
   "id": "d3a2b028",
   "metadata": {},
   "source": [
    "## Day 8"
   ]
  },
  {
   "cell_type": "markdown",
   "id": "f0274900",
   "metadata": {},
   "source": [
    "### 8a"
   ]
  },
  {
   "cell_type": "code",
   "execution_count": 63,
   "id": "a4b5cb03",
   "metadata": {},
   "outputs": [
    {
     "data": {
      "text/plain": [
       "19783"
      ]
     },
     "execution_count": 63,
     "metadata": {},
     "output_type": "execute_result"
    }
   ],
   "source": [
    "lines=LINES()\n",
    "instr=lines[0]\n",
    "ways={}\n",
    "for l in lines[2:]:\n",
    "    v,data=l.split(' = ')\n",
    "    vl,vr=data[1:-1].split(', ')\n",
    "    ways[v]=(vl,vr)\n",
    "\n",
    "n=0\n",
    "v='AAA'\n",
    "while v!='ZZZ':\n",
    "    d=instr[n%len(instr)]\n",
    "    v=ways[v][0 if d=='L' else 1]\n",
    "    n+=1\n",
    "n"
   ]
  },
  {
   "cell_type": "markdown",
   "id": "3142905e",
   "metadata": {},
   "source": [
    "### 8b"
   ]
  },
  {
   "cell_type": "code",
   "execution_count": 106,
   "id": "a23a6dca",
   "metadata": {},
   "outputs": [
    {
     "name": "stdout",
     "output_type": "stream",
     "text": [
      "(11653, 19783, 19241, 16531, 12737, 14363)\n",
      "11657 4 need i%11653=23306\n",
      "19785 2 need i%19783=39566\n",
      "19245 4 need i%19241=38482\n",
      "16535 4 need i%16531=33062\n",
      "12743 6 need i%12737=25474\n",
      "14365 2 need i%14363=28726\n"
     ]
    },
    {
     "data": {
      "text/plain": [
       "(0, 9177460370549)"
      ]
     },
     "execution_count": 106,
     "metadata": {},
     "output_type": "execute_result"
    }
   ],
   "source": [
    "lines=LINES()\n",
    "instr=lines[0]\n",
    "ways={}\n",
    "for l in lines[2:]:\n",
    "    v,data=l.split(' = ')\n",
    "    vl,vr=data[1:-1].split(', ')\n",
    "    ways[v]=(vl,vr)\n",
    "\n",
    "loops=[]\n",
    "for v0 in ways:\n",
    "    if v0[-1]=='A':\n",
    "        start=(v0,0)\n",
    "        seen={start:0}\n",
    "        s=start\n",
    "        iback=None\n",
    "        while True:\n",
    "            v,i=s\n",
    "            d=instr[i]\n",
    "            s=(ways[v][0 if d=='L' else 1],(i+1)%len(instr))\n",
    "            if s in seen:\n",
    "                iback=seen[s]\n",
    "                break\n",
    "            seen[s]=len(seen)\n",
    "        seen_list={i:s for s,i in seen.items()}\n",
    "        loops.append((\n",
    "            seen_list,\n",
    "            iback\n",
    "        ))\n",
    "'''\n",
    "loop=(L,b)\n",
    "locations: L[0],L[1],...,L[len(L)-1],L[b],L[b+1],...\n",
    "    0<=i<len(L): at location L[i] at step i\n",
    "    larger i: at location L[b + (i-len(L))%(len(L)-b)]\n",
    "'''\n",
    "# display(loops)\n",
    "\n",
    "def loc_at_step(L,b,i):\n",
    "    n=len(L)\n",
    "    return L[i] if i<n else L[b + (i-n)%(n-b)]\n",
    "\n",
    "for i in range(max(len(L) for L,b in loops)):\n",
    "    # print([loc_at_step(L,b,i) for L,b in loops])\n",
    "    if all(loc_at_step(L,b,i)[0][-1]=='Z' for L,b in loops):\n",
    "        print(i)\n",
    "        break\n",
    "\n",
    "'''\n",
    "find some i>len(L_k) for all (L_k,b_k) in loops\n",
    "s.t. all L_k[b_k + (i-len(L_k))%(len(L_k)-b_k)] end with letter Z\n",
    "'''\n",
    "Z_idxs=[\n",
    "    [idx for idx in range(len(L)) if L[idx][0][-1]=='Z']\n",
    "    for L,b in loops\n",
    "]\n",
    "Z_idxs\n",
    "\n",
    "def gcd(a,b):\n",
    "    return gcd(b,a) if a>b else b if a==0 else gcd(a,b%a)\n",
    "def congruence_pair(r1,m1, r2,m2):\n",
    "    if m1<m2:\n",
    "        return congruence_pair(r2,m2, r1,m1)\n",
    "    r1%=m1\n",
    "    r2%=m2\n",
    "    M=(m1*m2)//gcd(m1,m2)\n",
    "    # find k1 s.t. m1*k1+r1 ~ r2 mod m2\n",
    "    for k1 in range(M//m1):\n",
    "        i=m1*k1+r1\n",
    "        if i%m2 == r2:\n",
    "            return i,M\n",
    "    return None\n",
    "\n",
    "sol_i,sol_M=0,1\n",
    "for zidx_list in it.product(*Z_idxs):\n",
    "    print(zidx_list)\n",
    "    for zidx,(L,b) in zip(zidx_list,loops):\n",
    "        n=len(L)\n",
    "        # need (i-n)%(n-b) + b == zidx\n",
    "        # ==> i ~ (zidx-b)+n mod n-b\n",
    "        # ==> i = (n-b)*m + (zidx-b) for some m\n",
    "        print(n,b, f'need i%{n-b}={zidx-b+n}')\n",
    "        sol_i,sol_M=congruence_pair(sol_i,sol_M, zidx-b+n,n-b)\n",
    "sol_i,sol_M"
   ]
  },
  {
   "cell_type": "markdown",
   "id": "134fe01d",
   "metadata": {},
   "source": [
    "## Day 7"
   ]
  },
  {
   "cell_type": "markdown",
   "id": "0559ddce",
   "metadata": {},
   "source": [
    "### 7a"
   ]
  },
  {
   "cell_type": "code",
   "execution_count": 46,
   "id": "274bc490",
   "metadata": {},
   "outputs": [
    {
     "data": {
      "text/plain": [
       "249483956"
      ]
     },
     "execution_count": 46,
     "metadata": {},
     "output_type": "execute_result"
    }
   ],
   "source": [
    "card2val={\n",
    "    c:i+1\n",
    "    for i,c in enumerate('123456789TJQKA')\n",
    "}\n",
    "hands,bids=[],{}\n",
    "for l in LINES():\n",
    "    h,b=l.split(' ')\n",
    "    h=tuple(card2val[c] for c in h)\n",
    "    hands.append(h)\n",
    "    bids[h]=int(b)\n",
    "assert len(set(hands))==len(hands)\n",
    "\n",
    "def ctype(h):\n",
    "    mset={}\n",
    "    for c in h:\n",
    "        mset[c]=mset.get(c,0)+1\n",
    "    freqs=sorted(mset.values())\n",
    "    if freqs[-1]==3:\n",
    "        return 3.5 if len(freqs)>1 and freqs[-2]==2 else 3\n",
    "    if freqs[-1]==2:\n",
    "        return 2.5 if len(freqs)>1 and freqs[-2]==2 else 2\n",
    "    return freqs[-1]\n",
    "\n",
    "A=sorted(sorted(hands),key=ctype)\n",
    "sum(bids[h]*(i+1) for i,h in enumerate(A))#,A"
   ]
  },
  {
   "cell_type": "markdown",
   "id": "d3f40e67",
   "metadata": {},
   "source": [
    "### 7b"
   ]
  },
  {
   "cell_type": "code",
   "execution_count": 55,
   "id": "f3fd5b55",
   "metadata": {},
   "outputs": [
    {
     "data": {
      "text/plain": [
       "252137472"
      ]
     },
     "execution_count": 55,
     "metadata": {},
     "output_type": "execute_result"
    }
   ],
   "source": [
    "card2val={\n",
    "    c:i\n",
    "    for i,c in enumerate('J123456789T.QKA')\n",
    "}\n",
    "hands,bids=[],{}\n",
    "for l in LINES():\n",
    "    h,b=l.split(' ')\n",
    "    h=tuple(card2val[c] for c in h)\n",
    "    hands.append(h)\n",
    "    bids[h]=int(b)\n",
    "assert len(set(hands))==len(hands)\n",
    "\n",
    "def ctype(h):\n",
    "    mset={}\n",
    "    for c in h:\n",
    "        if c!=0:\n",
    "            mset[c]=mset.get(c,0)+1\n",
    "    freqs=sorted(mset.values())\n",
    "    if len(freqs)==0:\n",
    "        freqs=[len(h)]\n",
    "    else:\n",
    "        freqs[-1]+=sum(1 for c in h if c==0)\n",
    "#     print(h,freqs)\n",
    "    if freqs[-1]==3:\n",
    "        return 3.5 if len(freqs)>1 and freqs[-2]==2 else 3\n",
    "    if freqs[-1]==2:\n",
    "        return 2.5 if len(freqs)>1 and freqs[-2]==2 else 2\n",
    "    return freqs[-1]\n",
    "\n",
    "A=sorted(sorted(hands),key=ctype)\n",
    "sum(bids[h]*(i+1) for i,h in enumerate(A))#,[(h,ctype(h)) for h in A]"
   ]
  },
  {
   "cell_type": "markdown",
   "id": "e6ba6015",
   "metadata": {},
   "source": [
    "## Day 6"
   ]
  },
  {
   "cell_type": "markdown",
   "id": "aef92c7a",
   "metadata": {},
   "source": [
    "### 6a"
   ]
  },
  {
   "cell_type": "code",
   "execution_count": 11,
   "id": "6ca89a44",
   "metadata": {},
   "outputs": [
    {
     "data": {
      "text/plain": [
       "2612736"
      ]
     },
     "execution_count": 11,
     "metadata": {},
     "output_type": "execute_result"
    }
   ],
   "source": [
    "Ts,Ds=[\n",
    "    [int(tok) for tok in l.split(':')[1].split()]\n",
    "    for l in LINES()\n",
    "]\n",
    "out=1\n",
    "for t,d in zip(Ts,Ds):\n",
    "    nways=sum(1 for bt in range(t+1) if (t-bt)*bt>d)\n",
    "    out*=nways\n",
    "out"
   ]
  },
  {
   "cell_type": "markdown",
   "id": "d950d785",
   "metadata": {},
   "source": [
    "### 6b"
   ]
  },
  {
   "cell_type": "code",
   "execution_count": 17,
   "id": "9ceed622",
   "metadata": {},
   "outputs": [
    {
     "data": {
      "text/plain": [
       "29891250"
      ]
     },
     "execution_count": 17,
     "metadata": {},
     "output_type": "execute_result"
    }
   ],
   "source": [
    "T,D=[\n",
    "    int(''.join(l.split(':')[1].split()))\n",
    "    for l in LINES()\n",
    "]\n",
    "T,D\n",
    "\n",
    "'''\n",
    "(T-x)*x > D\n",
    "x**2 - Tx < -D\n",
    "x**2 - Tx + D < 0\n",
    "(T +/- sqrt(T**2 - 4D)) / 2\n",
    "'''\n",
    "hi,lo=[(T+e*(T**2-4*D)**0.5)/2 for e in [1,-1]]\n",
    "int(hi)-math.ceil(lo)+1"
   ]
  },
  {
   "cell_type": "markdown",
   "id": "66b5bcf7",
   "metadata": {},
   "source": [
    "## Day 5"
   ]
  },
  {
   "cell_type": "markdown",
   "id": "f630520d",
   "metadata": {},
   "source": [
    "### 5a"
   ]
  },
  {
   "cell_type": "code",
   "execution_count": 19,
   "id": "fa7df3c4",
   "metadata": {},
   "outputs": [
    {
     "data": {
      "text/plain": [
       "51580674"
      ]
     },
     "execution_count": 19,
     "metadata": {},
     "output_type": "execute_result"
    }
   ],
   "source": [
    "sections='\\n'.join(LINES()).split('\\n\\n')\n",
    "seeds=[int(tok) for tok in sections[0].split(': ')[1].split(' ')]\n",
    "\n",
    "def conversion(s):\n",
    "    rng_strs=s.split(':\\n')[1].split('\\n')\n",
    "#     out={}\n",
    "#     for tok in rng_strs:\n",
    "#         dest,src,le=(int(v) for v in tok.split())\n",
    "#         for i in range(le):\n",
    "#             assert src+i not in out\n",
    "#             out[src+i]=dest+i\n",
    "#     return out\n",
    "    return [tuple(int(v) for v in tok.split()) for tok in rng_strs]\n",
    "def convert(rngs,v):\n",
    "    for dest,src,le in rngs:\n",
    "        if src<=v and v<src+le:\n",
    "            return dest+(v-src)\n",
    "    return v\n",
    "\n",
    "Ds=[conversion(sec) for sec in sections[1:]]\n",
    "vals=seeds\n",
    "for D in Ds:\n",
    "    vals=[convert(D,v) for v in vals]\n",
    "min(vals)"
   ]
  },
  {
   "cell_type": "markdown",
   "id": "b6f6b1b4",
   "metadata": {},
   "source": [
    "### 5b"
   ]
  },
  {
   "cell_type": "code",
   "execution_count": 34,
   "id": "1d7f39a8",
   "metadata": {
    "scrolled": true
   },
   "outputs": [
    {
     "data": {
      "text/plain": [
       "99751240"
      ]
     },
     "execution_count": 34,
     "metadata": {},
     "output_type": "execute_result"
    }
   ],
   "source": [
    "sections='\\n'.join(LINES()).split('\\n\\n')\n",
    "seed_data=[int(tok) for tok in sections[0].split(': ')[1].split(' ')]\n",
    "\n",
    "def conversion(s):\n",
    "    rng_strs=s.split(':\\n')[1].split('\\n')\n",
    "    out=[]\n",
    "    for tok in rng_strs:\n",
    "        dest,src,le=(int(v) for v in tok.split())\n",
    "        out.append((src,src+le,dest-src))\n",
    "    return out\n",
    "\n",
    "Ds=[conversion(sec) for sec in sections[1:]]\n",
    "seed_rngs=[(src,src+le) for src,le in zip(seed_data[::2],seed_data[1::2])]\n",
    "\n",
    "# if x in range (dest,src,le): x -> x+(dest-src)\n",
    "#  src <= x < src+le\n",
    "\n",
    "def convert_range(start,converters):\n",
    "#     print(start,converters)\n",
    "    # assume that converters operate over disjoint ranges\n",
    "    converters=sorted(converters,key=lambda rng:rng[1])\n",
    "    _clo,_chi=converters[0][0],converters[-1][1]\n",
    "    _lo,_hi=min(start[0],_clo),max(start[1],_chi)\n",
    "    converters=[(_lo,_clo,0)]+converters+[(_chi,_hi,0)]\n",
    "    id_rngs=[\n",
    "        (h0,l1,0)\n",
    "        for (l0,h0,sh0),(l1,h1,sh1) in zip(converters,converters[1:])\n",
    "    ]\n",
    "    converters=sorted(converters+id_rngs,key=lambda rng:rng[1])\n",
    "#     print(converters)\n",
    "    out=[]\n",
    "    for clo,chi,sh in converters:\n",
    "        alo,ahi=max(start[0],clo),min(start[1],chi)\n",
    "#         print(f'\\t{[alo,ahi]}')\n",
    "        if alo<ahi:\n",
    "            out.append(\n",
    "                (alo+sh,ahi+sh)\n",
    "            )\n",
    "    return out\n",
    "\n",
    "rngs=seed_rngs\n",
    "for D in Ds:\n",
    "    rngs=[nrng for rng in rngs for nrng in convert_range(rng,D)]\n",
    "#     print(rngs)\n",
    "min(lo for lo,hi in rngs)#,rngs"
   ]
  },
  {
   "cell_type": "markdown",
   "id": "a99948ba",
   "metadata": {},
   "source": [
    "## Day 4"
   ]
  },
  {
   "cell_type": "markdown",
   "id": "810d9b30",
   "metadata": {},
   "source": [
    "### 4a"
   ]
  },
  {
   "cell_type": "code",
   "execution_count": 14,
   "id": "f025c73b",
   "metadata": {},
   "outputs": [
    {
     "data": {
      "text/plain": [
       "17782"
      ]
     },
     "execution_count": 14,
     "metadata": {},
     "output_type": "execute_result"
    }
   ],
   "source": [
    "cards=[\n",
    "    tuple(\n",
    "        [int(v) for v in tok.split()]\n",
    "        for tok in l.split(': ')[1].split(' | ')\n",
    "    )\n",
    "    for l in LINES()\n",
    "]\n",
    "# display(cards)\n",
    "out=0\n",
    "for wins,yours in cards:\n",
    "    cnt=sum(1 for v in yours if v in wins)\n",
    "    out+=2**(cnt - 1) if cnt>0 else 0\n",
    "out"
   ]
  },
  {
   "cell_type": "markdown",
   "id": "e7566d84",
   "metadata": {},
   "source": [
    "### 4b"
   ]
  },
  {
   "cell_type": "code",
   "execution_count": 17,
   "id": "47629258",
   "metadata": {},
   "outputs": [
    {
     "data": {
      "text/plain": [
       "8477787"
      ]
     },
     "execution_count": 17,
     "metadata": {},
     "output_type": "execute_result"
    }
   ],
   "source": [
    "cards=[\n",
    "    tuple(\n",
    "        [int(v) for v in tok.split()]\n",
    "        for tok in l.split(': ')[1].split(' | ')\n",
    "    )\n",
    "    for l in LINES()\n",
    "]\n",
    "N=len(cards)\n",
    "mults=[1]*N\n",
    "for i,(wins,yours) in enumerate(cards):\n",
    "    cnt=sum(1 for v in yours if v in wins)\n",
    "    for k in range(cnt):\n",
    "        mults[i+k+1]+=mults[i]\n",
    "sum(mults)"
   ]
  },
  {
   "cell_type": "markdown",
   "id": "519a2239",
   "metadata": {},
   "source": [
    "## Day 3"
   ]
  },
  {
   "cell_type": "markdown",
   "id": "396e9003",
   "metadata": {},
   "source": [
    "### 3a"
   ]
  },
  {
   "cell_type": "code",
   "execution_count": 10,
   "id": "ce4eb02a",
   "metadata": {},
   "outputs": [
    {
     "data": {
      "text/plain": [
       "537832"
      ]
     },
     "execution_count": 10,
     "metadata": {},
     "output_type": "execute_result"
    }
   ],
   "source": [
    "grid=LINES()\n",
    "# print(grid)\n",
    "R,C=len(grid),len(grid[0])\n",
    "adj=[[False]*C for r in range(R)]\n",
    "dirs=[\n",
    "    (1,0),(1,1),(0,1),(-1,1),(-1,0),(-1,-1),(0,-1),(1,-1)\n",
    "]\n",
    "for r in range(R):\n",
    "    for c in range(C):\n",
    "        s=grid[r][c]\n",
    "        if s not in '.1234567890':\n",
    "            for dr,dc in dirs:\n",
    "                nr,nc=r+dr,c+dc\n",
    "                if 0<=nr and nr<R and 0<=nc and nc<C:\n",
    "                    adj[nr][nc]=True\n",
    "\n",
    "good_nums=[]\n",
    "for r in range(R):\n",
    "    j=0\n",
    "    while j<C:\n",
    "        if grid[r][j] in '1234567890':\n",
    "            k=j\n",
    "            while k<C and grid[r][k] in '1234567890':\n",
    "                k+=1\n",
    "#             print(j,k,grid[r][j:k])\n",
    "            if any(adj[r][i] for i in range(j,k)):\n",
    "                good_nums.append(int(grid[r][j:k]))\n",
    "            j=k\n",
    "        else:\n",
    "            j+=1\n",
    "# print(good_nums)\n",
    "sum(good_nums)"
   ]
  },
  {
   "cell_type": "markdown",
   "id": "a46a0072",
   "metadata": {},
   "source": [
    "### 3b"
   ]
  },
  {
   "cell_type": "code",
   "execution_count": 18,
   "id": "21ad1af7",
   "metadata": {},
   "outputs": [
    {
     "data": {
      "text/plain": [
       "81939900"
      ]
     },
     "execution_count": 18,
     "metadata": {},
     "output_type": "execute_result"
    }
   ],
   "source": [
    "grid=LINES()\n",
    "# print(grid)\n",
    "R,C=len(grid),len(grid[0])\n",
    "num_idx=[[None]*C for r in range(R)]\n",
    "num_vals={}\n",
    "for r in range(R):\n",
    "    j=0\n",
    "    while j<C:\n",
    "        if grid[r][j] in '1234567890':\n",
    "            k=j\n",
    "            while k<C and grid[r][k] in '1234567890':\n",
    "                k+=1\n",
    "            n_id=len(num_vals)\n",
    "            n_v=int(grid[r][j:k])\n",
    "            num_vals[n_id]=n_v\n",
    "            for i in range(j,k):\n",
    "                num_idx[r][i]=n_id\n",
    "            j=k\n",
    "        else:\n",
    "            j+=1\n",
    "\n",
    "# display(num_idx)\n",
    "\n",
    "dirs=[\n",
    "    (1,0),(1,1),(0,1),(-1,1),(-1,0),(-1,-1),(0,-1),(1,-1)\n",
    "]\n",
    "rats=[]\n",
    "for r in range(R):\n",
    "    for c in range(C):\n",
    "        s=grid[r][c]\n",
    "        if s=='*':\n",
    "            n_ids=set()\n",
    "            for dr,dc in dirs:\n",
    "                nr,nc=r+dr,c+dc\n",
    "                if 0<=nr and nr<R and 0<=nc and nc<C:\n",
    "                    n_id=num_idx[nr][nc]\n",
    "                    if n_id is not None:\n",
    "                        n_ids.add(n_id)\n",
    "            if len(n_ids)==2:\n",
    "                rats.append(math.prod(num_vals[n_id] for n_id in n_ids))\n",
    "sum(rats)#,rats"
   ]
  },
  {
   "cell_type": "markdown",
   "id": "7790768d",
   "metadata": {},
   "source": [
    "## Day 2"
   ]
  },
  {
   "cell_type": "markdown",
   "id": "c1d7a6ef",
   "metadata": {},
   "source": [
    "### 2a"
   ]
  },
  {
   "cell_type": "code",
   "execution_count": 59,
   "id": "77a94f30",
   "metadata": {},
   "outputs": [
    {
     "data": {
      "text/plain": [
       "2632"
      ]
     },
     "execution_count": 59,
     "metadata": {},
     "output_type": "execute_result"
    }
   ],
   "source": [
    "games=[s[s.find(' '):] for s in LINES()]\n",
    "allow={'red':12, 'green':13, 'blue':14}\n",
    "out=0\n",
    "for G in games:\n",
    "    gi,G=G.split(': ')\n",
    "    gi=int(gi)\n",
    "    G=G.split('; ')\n",
    "#     print(gi,G)\n",
    "    ssets=[]\n",
    "    for s in G:\n",
    "        D={}\n",
    "        for tok in s.split(', '):\n",
    "            cnt,col=tok.split(' ')\n",
    "            D[col]=int(cnt)\n",
    "        ssets.append(D)\n",
    "    bnd={}\n",
    "    for D in ssets:\n",
    "        for col,v in D.items():\n",
    "            bnd[col]=max(bnd.get(col,0),v)\n",
    "    if all(bnd[c]<=allow[c] for c in allow):\n",
    "#         print(bnd)\n",
    "        out+=gi\n",
    "out"
   ]
  },
  {
   "cell_type": "markdown",
   "id": "7239b833",
   "metadata": {},
   "source": [
    "### 2b"
   ]
  },
  {
   "cell_type": "code",
   "execution_count": 60,
   "id": "d86ac6b3",
   "metadata": {},
   "outputs": [
    {
     "data": {
      "text/plain": [
       "69629"
      ]
     },
     "execution_count": 60,
     "metadata": {},
     "output_type": "execute_result"
    }
   ],
   "source": [
    "games=[s[s.find(' '):] for s in LINES()]\n",
    "allow={'red':12, 'green':13, 'blue':14}\n",
    "out=0\n",
    "for G in games:\n",
    "    gi,G=G.split(': ')\n",
    "    gi=int(gi)\n",
    "    G=G.split('; ')\n",
    "#     print(gi,G)\n",
    "    ssets=[]\n",
    "    for s in G:\n",
    "        D={}\n",
    "        for tok in s.split(', '):\n",
    "            cnt,col=tok.split(' ')\n",
    "            D[col]=int(cnt)\n",
    "        ssets.append(D)\n",
    "    bnd={}\n",
    "    for D in ssets:\n",
    "        for col,v in D.items():\n",
    "            bnd[col]=max(bnd.get(col,0),v)\n",
    "#     if all(bnd[c]<=allow[c] for c in allow):\n",
    "#     print(bnd)\n",
    "    out+=math.prod(bnd.values())\n",
    "out"
   ]
  },
  {
   "cell_type": "markdown",
   "id": "0917f9dd",
   "metadata": {},
   "source": [
    "## Day 1"
   ]
  },
  {
   "cell_type": "code",
   "execution_count": 26,
   "id": "a7d92736",
   "metadata": {},
   "outputs": [],
   "source": [
    "with open('in.txt') as f:\n",
    "    lines=f.read().split('\\n')"
   ]
  },
  {
   "cell_type": "markdown",
   "id": "5227ce23",
   "metadata": {},
   "source": [
    "### 1a"
   ]
  },
  {
   "cell_type": "code",
   "execution_count": 27,
   "id": "4d4c521e",
   "metadata": {},
   "outputs": [
    {
     "data": {
      "text/plain": [
       "55621"
      ]
     },
     "execution_count": 27,
     "metadata": {},
     "output_type": "execute_result"
    }
   ],
   "source": [
    "out=0\n",
    "for l in lines:\n",
    "    digs=[int(c) for c in l if c in '1234567890']\n",
    "    out+=digs[0]*10+digs[-1]\n",
    "out"
   ]
  },
  {
   "cell_type": "markdown",
   "id": "d5a6652b",
   "metadata": {},
   "source": [
    "### 1b"
   ]
  },
  {
   "cell_type": "code",
   "execution_count": 28,
   "id": "e1fd6ff6",
   "metadata": {},
   "outputs": [
    {
     "data": {
      "text/plain": [
       "53592"
      ]
     },
     "execution_count": 28,
     "metadata": {},
     "output_type": "execute_result"
    }
   ],
   "source": [
    "D={s:i for i,s in enumerate('zero one two three four five six seven eight nine'.split())}\n",
    "out=0\n",
    "for l in lines:\n",
    "    digs=[]\n",
    "    for i in range(len(l)):\n",
    "        if l[i] in '1234567890':\n",
    "            digs.append(int(l[i]))\n",
    "        else:\n",
    "            for s,v in D.items():\n",
    "                if l[i:].startswith(s):\n",
    "                    digs.append(v)\n",
    "    x=digs[0]*10+digs[-1]\n",
    "#     print(l,x)\n",
    "    out+=x\n",
    "out"
   ]
  }
 ],
 "metadata": {
  "kernelspec": {
   "display_name": "Python 3 (ipykernel)",
   "language": "python",
   "name": "python3"
  },
  "language_info": {
   "codemirror_mode": {
    "name": "ipython",
    "version": 3
   },
   "file_extension": ".py",
   "mimetype": "text/x-python",
   "name": "python",
   "nbconvert_exporter": "python",
   "pygments_lexer": "ipython3",
   "version": "3.10.7"
  }
 },
 "nbformat": 4,
 "nbformat_minor": 5
}
