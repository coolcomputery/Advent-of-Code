{
 "cells": [
  {
   "cell_type": "markdown",
   "id": "2d5fbd23",
   "metadata": {},
   "source": [
    "# Advent of Code 2023: coolcomputery"
   ]
  },
  {
   "cell_type": "code",
   "execution_count": 52,
   "id": "464c0f13",
   "metadata": {},
   "outputs": [],
   "source": [
    "import numpy as np, math"
   ]
  },
  {
   "cell_type": "code",
   "execution_count": 32,
   "id": "bf0391e3",
   "metadata": {},
   "outputs": [],
   "source": [
    "def LINES():\n",
    "    with open('in.txt') as f:\n",
    "        return f.read().split('\\n')"
   ]
  },
  {
   "cell_type": "markdown",
   "id": "91fb5df2",
   "metadata": {},
   "source": [
    "## Day 2"
   ]
  },
  {
   "cell_type": "markdown",
   "id": "72d9304d",
   "metadata": {},
   "source": [
    "### 2a"
   ]
  },
  {
   "cell_type": "code",
   "execution_count": 59,
   "id": "5bfdae41",
   "metadata": {},
   "outputs": [
    {
     "data": {
      "text/plain": [
       "2632"
      ]
     },
     "execution_count": 59,
     "metadata": {},
     "output_type": "execute_result"
    }
   ],
   "source": [
    "games=[s[s.find(' '):] for s in LINES()]\n",
    "allow={'red':12, 'green':13, 'blue':14}\n",
    "out=0\n",
    "for G in games:\n",
    "    gi,G=G.split(': ')\n",
    "    gi=int(gi)\n",
    "    G=G.split('; ')\n",
    "#     print(gi,G)\n",
    "    ssets=[]\n",
    "    for s in G:\n",
    "        D={}\n",
    "        for tok in s.split(', '):\n",
    "            cnt,col=tok.split(' ')\n",
    "            D[col]=int(cnt)\n",
    "        ssets.append(D)\n",
    "    bnd={}\n",
    "    for D in ssets:\n",
    "        for col,v in D.items():\n",
    "            bnd[col]=max(bnd.get(col,0),v)\n",
    "    if all(bnd[c]<=allow[c] for c in allow):\n",
    "#         print(bnd)\n",
    "        out+=gi\n",
    "out"
   ]
  },
  {
   "cell_type": "markdown",
   "id": "3d187d27",
   "metadata": {},
   "source": [
    "### 2b"
   ]
  },
  {
   "cell_type": "code",
   "execution_count": 60,
   "id": "2978b28e",
   "metadata": {},
   "outputs": [
    {
     "data": {
      "text/plain": [
       "69629"
      ]
     },
     "execution_count": 60,
     "metadata": {},
     "output_type": "execute_result"
    }
   ],
   "source": [
    "games=[s[s.find(' '):] for s in LINES()]\n",
    "allow={'red':12, 'green':13, 'blue':14}\n",
    "out=0\n",
    "for G in games:\n",
    "    gi,G=G.split(': ')\n",
    "    gi=int(gi)\n",
    "    G=G.split('; ')\n",
    "#     print(gi,G)\n",
    "    ssets=[]\n",
    "    for s in G:\n",
    "        D={}\n",
    "        for tok in s.split(', '):\n",
    "            cnt,col=tok.split(' ')\n",
    "            D[col]=int(cnt)\n",
    "        ssets.append(D)\n",
    "    bnd={}\n",
    "    for D in ssets:\n",
    "        for col,v in D.items():\n",
    "            bnd[col]=max(bnd.get(col,0),v)\n",
    "#     if all(bnd[c]<=allow[c] for c in allow):\n",
    "#     print(bnd)\n",
    "    out+=math.prod(bnd.values())\n",
    "out"
   ]
  },
  {
   "cell_type": "code",
   "execution_count": null,
   "id": "2333ae7f",
   "metadata": {},
   "outputs": [],
   "source": []
  },
  {
   "cell_type": "markdown",
   "id": "319e8422",
   "metadata": {},
   "source": [
    "## Day 1"
   ]
  },
  {
   "cell_type": "code",
   "execution_count": 26,
   "id": "dbf745f3",
   "metadata": {},
   "outputs": [],
   "source": [
    "with open('in.txt') as f:\n",
    "    lines=f.read().split('\\n')"
   ]
  },
  {
   "cell_type": "markdown",
   "id": "a8ad7b40",
   "metadata": {},
   "source": [
    "### 1a"
   ]
  },
  {
   "cell_type": "code",
   "execution_count": 27,
   "id": "0e67c58e",
   "metadata": {},
   "outputs": [
    {
     "data": {
      "text/plain": [
       "55621"
      ]
     },
     "execution_count": 27,
     "metadata": {},
     "output_type": "execute_result"
    }
   ],
   "source": [
    "out=0\n",
    "for l in lines:\n",
    "    digs=[int(c) for c in l if c in '1234567890']\n",
    "    out+=digs[0]*10+digs[-1]\n",
    "out"
   ]
  },
  {
   "cell_type": "markdown",
   "id": "db6c5433",
   "metadata": {},
   "source": [
    "### 1b"
   ]
  },
  {
   "cell_type": "code",
   "execution_count": 28,
   "id": "43d8bcc2",
   "metadata": {},
   "outputs": [
    {
     "data": {
      "text/plain": [
       "53592"
      ]
     },
     "execution_count": 28,
     "metadata": {},
     "output_type": "execute_result"
    }
   ],
   "source": [
    "D={s:i for i,s in enumerate('zero one two three four five six seven eight nine'.split())}\n",
    "out=0\n",
    "for l in lines:\n",
    "    digs=[]\n",
    "    for i in range(len(l)):\n",
    "        if l[i] in '1234567890':\n",
    "            digs.append(int(l[i]))\n",
    "        else:\n",
    "            for s,v in D.items():\n",
    "                if l[i:].startswith(s):\n",
    "                    digs.append(v)\n",
    "    x=digs[0]*10+digs[-1]\n",
    "#     print(l,x)\n",
    "    out+=x\n",
    "out"
   ]
  },
  {
   "cell_type": "code",
   "execution_count": null,
   "id": "467c8e06",
   "metadata": {},
   "outputs": [],
   "source": []
  }
 ],
 "metadata": {
  "kernelspec": {
   "display_name": "Python 3 (ipykernel)",
   "language": "python",
   "name": "python3"
  },
  "language_info": {
   "codemirror_mode": {
    "name": "ipython",
    "version": 3
   },
   "file_extension": ".py",
   "mimetype": "text/x-python",
   "name": "python",
   "nbconvert_exporter": "python",
   "pygments_lexer": "ipython3",
   "version": "3.10.7"
  }
 },
 "nbformat": 4,
 "nbformat_minor": 5
}
