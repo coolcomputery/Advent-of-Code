{
 "cells": [
  {
   "cell_type": "markdown",
   "id": "d2c2e9bb",
   "metadata": {},
   "source": [
    "# Advent of Code 2023: coolcomputery"
   ]
  },
  {
   "cell_type": "code",
   "execution_count": 1,
   "id": "a5240231",
   "metadata": {},
   "outputs": [],
   "source": [
    "import numpy as np, math"
   ]
  },
  {
   "cell_type": "code",
   "execution_count": 2,
   "id": "983b98ac",
   "metadata": {},
   "outputs": [],
   "source": [
    "def LINES():\n",
    "    with open('in.txt') as f:\n",
    "        return f.read().split('\\n')"
   ]
  },
  {
   "cell_type": "markdown",
   "id": "ecbd29ce",
   "metadata": {},
   "source": [
    "## Day 3"
   ]
  },
  {
   "cell_type": "markdown",
   "id": "b8c635f0",
   "metadata": {},
   "source": [
    "### 3a"
   ]
  },
  {
   "cell_type": "code",
   "execution_count": 10,
   "id": "1517e1b2",
   "metadata": {},
   "outputs": [
    {
     "data": {
      "text/plain": [
       "537832"
      ]
     },
     "execution_count": 10,
     "metadata": {},
     "output_type": "execute_result"
    }
   ],
   "source": [
    "grid=LINES()\n",
    "# print(grid)\n",
    "R,C=len(grid),len(grid[0])\n",
    "adj=[[False]*C for r in range(R)]\n",
    "dirs=[\n",
    "    (1,0),(1,1),(0,1),(-1,1),(-1,0),(-1,-1),(0,-1),(1,-1)\n",
    "]\n",
    "for r in range(R):\n",
    "    for c in range(C):\n",
    "        s=grid[r][c]\n",
    "        if s not in '.1234567890':\n",
    "            for dr,dc in dirs:\n",
    "                nr,nc=r+dr,c+dc\n",
    "                if 0<=nr and nr<R and 0<=nc and nc<C:\n",
    "                    adj[nr][nc]=True\n",
    "\n",
    "good_nums=[]\n",
    "for r in range(R):\n",
    "    j=0\n",
    "    while j<C:\n",
    "        if grid[r][j] in '1234567890':\n",
    "            k=j\n",
    "            while k<C and grid[r][k] in '1234567890':\n",
    "                k+=1\n",
    "#             print(j,k,grid[r][j:k])\n",
    "            if any(adj[r][i] for i in range(j,k)):\n",
    "                good_nums.append(int(grid[r][j:k]))\n",
    "            j=k\n",
    "        else:\n",
    "            j+=1\n",
    "# print(good_nums)\n",
    "sum(good_nums)"
   ]
  },
  {
   "cell_type": "markdown",
   "id": "1d237569",
   "metadata": {},
   "source": [
    "### 3b"
   ]
  },
  {
   "cell_type": "code",
   "execution_count": 18,
   "id": "e3325591",
   "metadata": {},
   "outputs": [
    {
     "data": {
      "text/plain": [
       "81939900"
      ]
     },
     "execution_count": 18,
     "metadata": {},
     "output_type": "execute_result"
    }
   ],
   "source": [
    "grid=LINES()\n",
    "# print(grid)\n",
    "R,C=len(grid),len(grid[0])\n",
    "num_idx=[[None]*C for r in range(R)]\n",
    "num_vals={}\n",
    "for r in range(R):\n",
    "    j=0\n",
    "    while j<C:\n",
    "        if grid[r][j] in '1234567890':\n",
    "            k=j\n",
    "            while k<C and grid[r][k] in '1234567890':\n",
    "                k+=1\n",
    "            n_id=len(num_vals)\n",
    "            n_v=int(grid[r][j:k])\n",
    "            num_vals[n_id]=n_v\n",
    "            for i in range(j,k):\n",
    "                num_idx[r][i]=n_id\n",
    "            j=k\n",
    "        else:\n",
    "            j+=1\n",
    "\n",
    "# display(num_idx)\n",
    "\n",
    "dirs=[\n",
    "    (1,0),(1,1),(0,1),(-1,1),(-1,0),(-1,-1),(0,-1),(1,-1)\n",
    "]\n",
    "rats=[]\n",
    "for r in range(R):\n",
    "    for c in range(C):\n",
    "        s=grid[r][c]\n",
    "        if s=='*':\n",
    "            n_ids=set()\n",
    "            for dr,dc in dirs:\n",
    "                nr,nc=r+dr,c+dc\n",
    "                if 0<=nr and nr<R and 0<=nc and nc<C:\n",
    "                    n_id=num_idx[nr][nc]\n",
    "                    if n_id is not None:\n",
    "                        n_ids.add(n_id)\n",
    "            if len(n_ids)==2:\n",
    "                rats.append(math.prod(num_vals[n_id] for n_id in n_ids))\n",
    "sum(rats)#,rats"
   ]
  },
  {
   "cell_type": "code",
   "execution_count": null,
   "id": "5fb70ce0",
   "metadata": {},
   "outputs": [],
   "source": []
  },
  {
   "cell_type": "markdown",
   "id": "bba18f9a",
   "metadata": {},
   "source": [
    "## Day 2"
   ]
  },
  {
   "cell_type": "markdown",
   "id": "750c44bb",
   "metadata": {},
   "source": [
    "### 2a"
   ]
  },
  {
   "cell_type": "code",
   "execution_count": 59,
   "id": "3ce8b189",
   "metadata": {},
   "outputs": [
    {
     "data": {
      "text/plain": [
       "2632"
      ]
     },
     "execution_count": 59,
     "metadata": {},
     "output_type": "execute_result"
    }
   ],
   "source": [
    "games=[s[s.find(' '):] for s in LINES()]\n",
    "allow={'red':12, 'green':13, 'blue':14}\n",
    "out=0\n",
    "for G in games:\n",
    "    gi,G=G.split(': ')\n",
    "    gi=int(gi)\n",
    "    G=G.split('; ')\n",
    "#     print(gi,G)\n",
    "    ssets=[]\n",
    "    for s in G:\n",
    "        D={}\n",
    "        for tok in s.split(', '):\n",
    "            cnt,col=tok.split(' ')\n",
    "            D[col]=int(cnt)\n",
    "        ssets.append(D)\n",
    "    bnd={}\n",
    "    for D in ssets:\n",
    "        for col,v in D.items():\n",
    "            bnd[col]=max(bnd.get(col,0),v)\n",
    "    if all(bnd[c]<=allow[c] for c in allow):\n",
    "#         print(bnd)\n",
    "        out+=gi\n",
    "out"
   ]
  },
  {
   "cell_type": "markdown",
   "id": "38e36321",
   "metadata": {},
   "source": [
    "### 2b"
   ]
  },
  {
   "cell_type": "code",
   "execution_count": 60,
   "id": "b241079b",
   "metadata": {},
   "outputs": [
    {
     "data": {
      "text/plain": [
       "69629"
      ]
     },
     "execution_count": 60,
     "metadata": {},
     "output_type": "execute_result"
    }
   ],
   "source": [
    "games=[s[s.find(' '):] for s in LINES()]\n",
    "allow={'red':12, 'green':13, 'blue':14}\n",
    "out=0\n",
    "for G in games:\n",
    "    gi,G=G.split(': ')\n",
    "    gi=int(gi)\n",
    "    G=G.split('; ')\n",
    "#     print(gi,G)\n",
    "    ssets=[]\n",
    "    for s in G:\n",
    "        D={}\n",
    "        for tok in s.split(', '):\n",
    "            cnt,col=tok.split(' ')\n",
    "            D[col]=int(cnt)\n",
    "        ssets.append(D)\n",
    "    bnd={}\n",
    "    for D in ssets:\n",
    "        for col,v in D.items():\n",
    "            bnd[col]=max(bnd.get(col,0),v)\n",
    "#     if all(bnd[c]<=allow[c] for c in allow):\n",
    "#     print(bnd)\n",
    "    out+=math.prod(bnd.values())\n",
    "out"
   ]
  },
  {
   "cell_type": "code",
   "execution_count": null,
   "id": "66f18d68",
   "metadata": {},
   "outputs": [],
   "source": []
  },
  {
   "cell_type": "markdown",
   "id": "4de6b5e9",
   "metadata": {},
   "source": [
    "## Day 1"
   ]
  },
  {
   "cell_type": "code",
   "execution_count": 26,
   "id": "67d75bcf",
   "metadata": {},
   "outputs": [],
   "source": [
    "with open('in.txt') as f:\n",
    "    lines=f.read().split('\\n')"
   ]
  },
  {
   "cell_type": "markdown",
   "id": "fd2eeb32",
   "metadata": {},
   "source": [
    "### 1a"
   ]
  },
  {
   "cell_type": "code",
   "execution_count": 27,
   "id": "8bd2e6ee",
   "metadata": {},
   "outputs": [
    {
     "data": {
      "text/plain": [
       "55621"
      ]
     },
     "execution_count": 27,
     "metadata": {},
     "output_type": "execute_result"
    }
   ],
   "source": [
    "out=0\n",
    "for l in lines:\n",
    "    digs=[int(c) for c in l if c in '1234567890']\n",
    "    out+=digs[0]*10+digs[-1]\n",
    "out"
   ]
  },
  {
   "cell_type": "markdown",
   "id": "e141cb41",
   "metadata": {},
   "source": [
    "### 1b"
   ]
  },
  {
   "cell_type": "code",
   "execution_count": 28,
   "id": "aeacdc55",
   "metadata": {},
   "outputs": [
    {
     "data": {
      "text/plain": [
       "53592"
      ]
     },
     "execution_count": 28,
     "metadata": {},
     "output_type": "execute_result"
    }
   ],
   "source": [
    "D={s:i for i,s in enumerate('zero one two three four five six seven eight nine'.split())}\n",
    "out=0\n",
    "for l in lines:\n",
    "    digs=[]\n",
    "    for i in range(len(l)):\n",
    "        if l[i] in '1234567890':\n",
    "            digs.append(int(l[i]))\n",
    "        else:\n",
    "            for s,v in D.items():\n",
    "                if l[i:].startswith(s):\n",
    "                    digs.append(v)\n",
    "    x=digs[0]*10+digs[-1]\n",
    "#     print(l,x)\n",
    "    out+=x\n",
    "out"
   ]
  },
  {
   "cell_type": "code",
   "execution_count": null,
   "id": "6e449098",
   "metadata": {},
   "outputs": [],
   "source": []
  }
 ],
 "metadata": {
  "kernelspec": {
   "display_name": "Python 3 (ipykernel)",
   "language": "python",
   "name": "python3"
  },
  "language_info": {
   "codemirror_mode": {
    "name": "ipython",
    "version": 3
   },
   "file_extension": ".py",
   "mimetype": "text/x-python",
   "name": "python",
   "nbconvert_exporter": "python",
   "pygments_lexer": "ipython3",
   "version": "3.10.7"
  }
 },
 "nbformat": 4,
 "nbformat_minor": 5
}
