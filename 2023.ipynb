{
 "cells": [
  {
   "cell_type": "markdown",
   "id": "3ea3a962",
   "metadata": {},
   "source": [
    "# Advent of Code 2023: coolcomputery"
   ]
  },
  {
   "cell_type": "code",
   "execution_count": 1,
   "id": "6ce9a62a",
   "metadata": {},
   "outputs": [],
   "source": [
    "import numpy as np, math, itertools as it, time\n",
    "from tqdm import tqdm"
   ]
  },
  {
   "cell_type": "code",
   "execution_count": 2,
   "id": "79da651a",
   "metadata": {},
   "outputs": [],
   "source": [
    "def LINES():\n",
    "    with open('in.txt') as f:\n",
    "        return f.read().split('\\n')"
   ]
  },
  {
   "cell_type": "markdown",
   "id": "c1feac96",
   "metadata": {},
   "source": [
    "## Day 24"
   ]
  },
  {
   "cell_type": "markdown",
   "id": "e3921d4b",
   "metadata": {},
   "source": [
    "### 24a"
   ]
  },
  {
   "cell_type": "code",
   "execution_count": 31,
   "id": "c8f4c26e",
   "metadata": {},
   "outputs": [
    {
     "data": {
      "text/plain": [
       "15107"
      ]
     },
     "execution_count": 31,
     "metadata": {},
     "output_type": "execute_result"
    }
   ],
   "source": [
    "stones=[\n",
    "    [\n",
    "        [int(v) for v in tok.split(', ')]\n",
    "        for tok in l.split(' @ ')\n",
    "    ]\n",
    "    for l in LINES()\n",
    "]\n",
    "stones=[\n",
    "    [\n",
    "        vec[:2]\n",
    "        for vec in s\n",
    "    ]\n",
    "    for s in stones\n",
    "]\n",
    "'''\n",
    "(x0+s*ux,y0+s*uy) == (x1+t*vx,y1+t*vy)\n",
    "s*ux-t*vx=x1-x0\n",
    "s*uy-t*vy=y1-y0\n",
    "'''\n",
    "def rays_intx(s0,s1):\n",
    "    (x0,y0),(ux,uy)=s0\n",
    "    (x1,y1),(vx,vy)=s1\n",
    "    try:\n",
    "        s,t=np.linalg.solve(\n",
    "            [[ux,-vx],[uy,-vy]],\n",
    "            [[x1-x0],[y1-y0]]\n",
    "        ).flatten()\n",
    "        if s>=0 and t>=0:\n",
    "            return (x0+s*ux,y0+s*uy)\n",
    "        else:\n",
    "            return None\n",
    "    except Exception:\n",
    "        return None\n",
    "# '''\n",
    "# (x0+t*ux,y0+t*uy) == (x1+t*vx,y1+t*vy)\n",
    "# ( (x1-x0)+t(vx-ux) , (y1-y0)+t(vy-uy) ) == (0,0)\n",
    "# (x1-x0,y1-y0) == -t*(vx-ux,vy-uy)\n",
    "# '''\n",
    "# def scalenfac(pos,vel):\n",
    "#     print(pos,vel)\n",
    "#     x,y=pos\n",
    "#     u,v=vel\n",
    "#     if x*v!=y*u:\n",
    "#         return None\n",
    "#     return -u/x\n",
    "# def stone_intx_t(s0,s1):\n",
    "#     (x0,y0),(ux,uy)=s0\n",
    "#     (x1,y1),(vx,vy)=s1\n",
    "#     return scalenfac((x1-x0,y1-y0),(vx-ux,vy-uy))\n",
    "def btwn(l,r,x):\n",
    "    return l<=x and x<=r\n",
    "# def stone_intx_in(s0,s1,xbounds,ybounds):\n",
    "#     t=stone_intx_t(s0,s1)\n",
    "#     print(t)\n",
    "#     if t is not None and t>=0:\n",
    "#         (x0,y0),(ux,uy)=s0\n",
    "#         (x1,y1),(vx,vy)=s1\n",
    "#         x,y=(x0+t*vx,x1+t*vy)\n",
    "#         print(t)\n",
    "#         return btwn(*xbounds,x) and btwn(*ybounds,y)\n",
    "#     return False\n",
    "\n",
    "out=0\n",
    "for sa,sb in it.combinations(stones,2):\n",
    "    ix=rays_intx(sa,sb)\n",
    "    if ix is not None:\n",
    "        x,y=ix\n",
    "        if btwn(200000000000000,400000000000000,x) and btwn(200000000000000,400000000000000,y):\n",
    "            out+=1\n",
    "out"
   ]
  },
  {
   "cell_type": "markdown",
   "id": "aa7480bc",
   "metadata": {},
   "source": [
    "### 24b"
   ]
  },
  {
   "cell_type": "markdown",
   "id": "eded52a7",
   "metadata": {},
   "source": [
    "#### brute-forcing collision times of rock with first two stones (too slow)"
   ]
  },
  {
   "cell_type": "code",
   "execution_count": 87,
   "id": "56c0978a",
   "metadata": {},
   "outputs": [
    {
     "name": "stdout",
     "output_type": "stream",
     "text": [
      "(array([216518090678054, 311610807965630, 244665409335040]), array([-24, -43, 118])) (array([119252599207972, 265844340901442, 404506989029618]), array([ 93,   9, -69]))\n"
     ]
    },
    {
     "name": "stderr",
     "output_type": "stream",
     "text": [
      "9000000it [03:50, 39093.54it/s]"
     ]
    },
    {
     "name": "stdout",
     "output_type": "stream",
     "text": [
      "n_candidates=12896\n"
     ]
    },
    {
     "name": "stderr",
     "output_type": "stream",
     "text": [
      "\n"
     ]
    },
    {
     "ename": "TypeError",
     "evalue": "'NoneType' object is not subscriptable",
     "output_type": "error",
     "traceback": [
      "\u001b[0;31m---------------------------------------------------------------------------\u001b[0m",
      "\u001b[0;31mTypeError\u001b[0m                                 Traceback (most recent call last)",
      "Cell \u001b[0;32mIn[87], line 113\u001b[0m\n\u001b[1;32m    111\u001b[0m                 \u001b[38;5;28;01mbreak\u001b[39;00m\n\u001b[1;32m    112\u001b[0m \u001b[38;5;28mprint\u001b[39m(\u001b[38;5;124mf\u001b[39m\u001b[38;5;124m'\u001b[39m\u001b[38;5;132;01m{\u001b[39;00mn_candidates\u001b[38;5;132;01m=}\u001b[39;00m\u001b[38;5;124m'\u001b[39m)\n\u001b[0;32m--> 113\u001b[0m \u001b[38;5;28msum\u001b[39m(\u001b[43mrock\u001b[49m\u001b[43m[\u001b[49m\u001b[38;5;241;43m0\u001b[39;49m\u001b[43m]\u001b[49m)\n",
      "\u001b[0;31mTypeError\u001b[0m: 'NoneType' object is not subscriptable"
     ]
    }
   ],
   "source": [
    "stones=[\n",
    "    [\n",
    "        np.array([int(v) for v in tok.split(', ')])\n",
    "        for tok in l.split(' @ ')\n",
    "    ]\n",
    "    for l in LINES()\n",
    "]\n",
    "\n",
    "'''\n",
    "init pos (x0,y0,z0), vel (vx,vy,vz), time s>=0:\n",
    "forms 4D ray (x0+s*vx,y0+s*vy,z0+s*vz,s), s>=0\n",
    "\n",
    "for each hailstones of init pos (x[i],y[i],z[i]) and vel (vx[i],vy[i],vz[i]),\n",
    "find some s[i] for each i s.t.\n",
    "there exists x,y,z,vx,vy,vz s.t.\n",
    "\n",
    "(x[i],y[i],z[i])+s[i]*(vx[i],vy[i],vz[i]) == (x,y,z)+s[i]*(vx,vy,vz)\n",
    "\n",
    "\n",
    "\n",
    "\n",
    "there exists s s.t. (x0+s*ux,y0+s*uy,z0+s*uz)==(x1+s*vx,y1+s*vy,z1+s*vz)\n",
    "    s*(u-v) = (p1-p0)\n",
    "p1,v are pos,vel vectors of rock\n",
    "\n",
    "(vx-ux,vy-uy,vz-uz) || (x1-x0,y1-y0,z1-z0)\n",
    "(vx-ux)(y1-y0) == (vy-uy)(x1-x0)\n",
    "\n",
    "\n",
    "to have rock @ init pos (xr,yr,zr)\n",
    "    collide w/ all \n",
    "    need all (xr,yr,zr)-(x[i],y[i],z[i]) to be parallel to each other\n",
    "\n",
    "(xr,yr,zr)-(x[i],y[i],z[i]) || (xr,yr,zr)-(x[j],y[j],z[j])\n",
    "\n",
    "(xr-x[i])/(xr-x[j]) == (yr-y[i])/(yr-y[j]) == (zr-z[i])/(zr-z[j])\n",
    "\n",
    "(xr-x[i])(yr-y[j])==(xr-x[j])(yr-y[i])\n",
    "\n",
    "x[i]*y[j]-xr*y[j]-yr*x[i] == x[j]*y[i]-xr*y[i]-yr*x[j]\n",
    "\n",
    "xr(y[i]-y[j]) + yr(x[j]-x[i]) == x[j]*y[i]-x[i]*y[j]\n",
    "\n",
    "likewise, xr(z[i]-z[j]) + zr(x[j]-x[i]) == x[j]*z[i]-x[i]*z[j]\n",
    "'''\n",
    "def scalefac(u,v):\n",
    "    #find s s.t. u=s*v\n",
    "    n,=u.shape\n",
    "    assert u.shape==v.shape\n",
    "    if np.array_equal(u,v):\n",
    "        return 1\n",
    "    for a,b in zip(u,v):\n",
    "        if b!=0:\n",
    "            if np.array_equal(b*u,a*v):\n",
    "                return a/b\n",
    "    return None\n",
    "def stones_collide(s0,s1):\n",
    "    p0,v0=s0\n",
    "    p1,v1=s1\n",
    "    t=scalefac(p1-p0,v0-v1)\n",
    "    return t is not None and t>=0\n",
    "\n",
    "for sa,sb in it.combinations(stones,2):\n",
    "    if stones_collide(sa,sb):\n",
    "        print(f'!!! {sa},{sb} collide')\n",
    "\n",
    "# for sa,sb in it.combinations(stones,2):\n",
    "#     print(sa,sb,stone_intx_t(sa,sb))\n",
    "(_pa,_va),(_pb,_vb)=stones[:2]\n",
    "print((_pa,_va),(_pb,_vb))\n",
    "T=3000\n",
    "rock=None\n",
    "n_candidates=0\n",
    "for ta,tb in tqdm(it.product(range(T),repeat=2)):\n",
    "    if ta!=tb:\n",
    "        '''\n",
    "        p[i]+s[i]*v[i] == p+s[i]*v\n",
    "        p[j]+s[j]*v[j] == p+s[j]*v\n",
    "\n",
    "        [p | v] [[1    1  ]  = [p[i]+s[i]*v[i] | p[j]+s[j]*v[j]]\n",
    "                 [s[i] s[j]]\n",
    "                 \n",
    "        [[1 s[i]] * [ p.T   = [ (p[i]+s[i]*v[i]).T\n",
    "         [1 s[j]]]    v.T ]     (p[j]+s[j]*v[j]).T ]\n",
    "        '''\n",
    "#         A=np.array([[1,1],[ta,tb]])\n",
    "        B=np.stack([_pa+ta*_va,_pb+tb*_vb],axis=1)\n",
    "        C=np.array([[tb,-ta],[-1,1]])@B.T\n",
    "#         display(\n",
    "#             (A,B,C.T,np.array([[tb,-ta],[-1,1]]))\n",
    "#         )\n",
    "#         assert np.array_equal(C.T@A,(tb-ta)*B)\n",
    "        if (C%(tb-ta)==0).all():\n",
    "            n_candidates+=1\n",
    "            C//=(tb-ta)\n",
    "            p,v=C\n",
    "#             print(ta,tb,(p,v),[stones_collide(s,(p,v)) for s in stones])\n",
    "            if all(\n",
    "                stones_collide(s,(p,v))\n",
    "                for s in stones\n",
    "            ):\n",
    "                rock=(p,v)\n",
    "                print(rock)\n",
    "                break\n",
    "print(f'{n_candidates=}')\n",
    "sum(rock[0])"
   ]
  },
  {
   "cell_type": "markdown",
   "id": "914f3a0b",
   "metadata": {},
   "source": [
    "#### optimization by solving congruences (still too slow, and probably has a bug)"
   ]
  },
  {
   "cell_type": "code",
   "execution_count": 143,
   "id": "1154a567",
   "metadata": {
    "scrolled": true
   },
   "outputs": [
    {
     "name": "stdout",
     "output_type": "stream",
     "text": [
      "(array([216518090678054, 311610807965630, 244665409335040]), array([-24, -43, 118])) (array([119252599207972, 265844340901442, 404506989029618]), array([ 93,   9, -69]))\n"
     ]
    },
    {
     "name": "stderr",
     "output_type": "stream",
     "text": [
      "100%|███████████████████████████████| 3999997/3999997 [12:36<00:00, 5289.12it/s]"
     ]
    },
    {
     "name": "stdout",
     "output_type": "stream",
     "text": [
      "(work,n_candidates)=(4309084, 3546660)\n",
      "None\n"
     ]
    },
    {
     "name": "stderr",
     "output_type": "stream",
     "text": [
      "\n"
     ]
    },
    {
     "ename": "TypeError",
     "evalue": "'NoneType' object is not subscriptable",
     "output_type": "error",
     "traceback": [
      "\u001b[0;31m---------------------------------------------------------------------------\u001b[0m",
      "\u001b[0;31mTypeError\u001b[0m                                 Traceback (most recent call last)",
      "Cell \u001b[0;32mIn[143], line 168\u001b[0m\n\u001b[1;32m    166\u001b[0m rock\u001b[38;5;241m=\u001b[39msolve(stones,T\u001b[38;5;241m=\u001b[39m\u001b[38;5;241m1000_000\u001b[39m)\n\u001b[1;32m    167\u001b[0m \u001b[38;5;28mprint\u001b[39m(rock)\n\u001b[0;32m--> 168\u001b[0m \u001b[38;5;28msum\u001b[39m(\u001b[43mrock\u001b[49m\u001b[43m[\u001b[49m\u001b[38;5;241;43m0\u001b[39;49m\u001b[43m]\u001b[49m)\n",
      "\u001b[0;31mTypeError\u001b[0m: 'NoneType' object is not subscriptable"
     ]
    }
   ],
   "source": [
    "'''\n",
    "p[i]+s[i]*v[i] == p+s[i]*v\n",
    "p[j]+s[j]*v[j] == p+s[j]*v\n",
    "all variables are integers\n",
    "\n",
    "p == p[i]+s[i]*(v[i]-v)\n",
    "p[j]+s[j]*v[j] == (p[i]+s[i]*(v[i]-v))+s[j]*v\n",
    "    == p[i]+s[i]*v[i]+(s[j]-s[i])*v\n",
    "(p[j]+s[j]*v[j]) - (p[i]+s[i]*v[i]) == (s[j]-s[i])*v ~ 0 mod k:=s[j]-s[i]\n",
    "    ~ p[j]-p[i]+s[i]*(v[j]-v[i]) mod k\n",
    "==> s[i]*(v[j]-v[i]) ~ p[i]-p[j] mod k\n",
    "'''\n",
    "\n",
    "'''\n",
    "ax ~ c mod m\n",
    "if ax,ay ~ c mod m ==> a(x-y) ~ 0 mod m\n",
    "\n",
    "m | ak <==> m/gcd(m,a) | k <==> k ~ t*m/gcd(m,a) mod m for arbitrary t\n",
    "\n",
    "ax+mk=c for some int x,k\n",
    "g(a'x+m'k)=c, g=gcd(a,m)\n",
    "(x,k)=(x0,k0)+t*(m',-a')\n",
    "'''\n",
    "\n",
    "'''\n",
    "return x,y s.t. ax+by=gcd(a,b)\n",
    "\n",
    "[a    = [[1       0]  * [a\n",
    " b%a]    [-(b//a) 1]]    b]\n",
    "'''\n",
    "def ext_gcd(a,b,M=None):\n",
    "    if M is None:\n",
    "        M=np.eye(2,dtype=int)\n",
    "    if a>b:\n",
    "        return ext_gcd(b,a,np.array([[0,1],[1,0]])@M)\n",
    "    if a==0:\n",
    "        return M[1]\n",
    "    return ext_gcd(a,b%a,np.array([[1,0],[-(b//a),1]])@M)\n",
    "def int_lin(a,c,m):\n",
    "    assert a>0 and m>0,(a,m)\n",
    "    # solve ax+my=c for integers x,y\n",
    "    gx,gy=ext_gcd(a,m)\n",
    "    g=a*gx+m*gy\n",
    "    assert a%g==0 and m%g==0, (a,m,g,gx,gy)\n",
    "    if c%g!=0:\n",
    "        return None\n",
    "    return (gx*(c//g),gy*(c//g)),(m//g,-(a//g))\n",
    "def lin_cong(a,c,m):\n",
    "    #solve ax ~ c mod m\n",
    "    m=abs(m)\n",
    "    if a<0:\n",
    "        a,c=-a,-c\n",
    "    c%=m\n",
    "    if a==0:\n",
    "        a=m\n",
    "    ret=int_lin(a,c,m)\n",
    "    if ret is None:\n",
    "        return None\n",
    "    (x0,y0),(dx,dy)=ret\n",
    "    return x0,dx\n",
    "# lin_cong(15,-10,310)\n",
    "def arith_prog_truncate(a_p,lo,hi):\n",
    "    # return all x0+v*k in closed interval [lo,hi]\n",
    "    # lo <= x0+v*k <= hi\n",
    "    # ceil((lo-x0)/v) <= k <= floor((hi-x0)/v)\n",
    "    if a_p is None:\n",
    "        return set()\n",
    "    x0,v=a_p\n",
    "    assert v>0\n",
    "    return {x0+v*k for k in range((lo-x0+v-1)//v,(hi-x0)//v+1)}\n",
    "\n",
    "stones=[\n",
    "    [\n",
    "        np.array([int(v) for v in tok.split(', ')])\n",
    "        for tok in l.split(' @ ')\n",
    "    ]\n",
    "    for l in LINES()\n",
    "]\n",
    "def scalefac(u,v):\n",
    "    #find s s.t. u=s*v\n",
    "    n,=u.shape\n",
    "    assert u.shape==v.shape\n",
    "    if np.array_equal(u,v):\n",
    "        return 1\n",
    "    for a,b in zip(u,v):\n",
    "        if b!=0:\n",
    "            if np.array_equal(b*u,a*v):\n",
    "                return a/b\n",
    "    return None\n",
    "def stones_collide(s0,s1):\n",
    "    p0,v0=s0\n",
    "    p1,v1=s1\n",
    "    t=scalefac(p1-p0,v0-v1)\n",
    "    return t is not None and t>=0\n",
    "\n",
    "# for sa,sb in it.combinations(stones,2):\n",
    "#     print(sa,sb,stone_intx_t(sa,sb))\n",
    "def solve(stones,T):\n",
    "    for sa,sb in it.combinations(stones,2):\n",
    "        if stones_collide(sa,sb):\n",
    "            print(f'!!! {sa},{sb} collide')\n",
    "    \n",
    "    (_pa,_va),(_pb,_vb)=stones[:2]\n",
    "    print((_pa,_va),(_pb,_vb))\n",
    "    work,n_candidates=0,0\n",
    "    for k in tqdm(range(-2*(T-1),2*(T-1)+1)):\n",
    "        if k!=0:\n",
    "#             for ta in range(min(T,T-k)):\n",
    "#             for ta in set.intersection(*[\n",
    "#                 arith_prog_truncate(lin_cong(a,c,k),0,min(T,T-k)-1)\n",
    "#                 for a,c in zip(_vb-_va,_pa-_pb)\n",
    "#             ]):\n",
    "            ta_candidates=None\n",
    "            for a,c in zip(_vb-_va,_pa-_pb):\n",
    "                S=arith_prog_truncate(lin_cong(a,c,k),0,min(T,T-k)-1)\n",
    "                ta_candidates=(S if ta_candidates is None else ta_candidates&S)\n",
    "                if len(ta_candidates)==0:\n",
    "                    break\n",
    "            for ta in ta_candidates:\n",
    "                work+=1\n",
    "                tb=ta+k\n",
    "        #         A=np.array([[1,1],[ta,tb]])\n",
    "                B=np.stack([_pa+ta*_va,_pb+tb*_vb],axis=1)\n",
    "                C=np.array([[tb,-ta],[-1,1]])@B.T\n",
    "        #         display(\n",
    "        #             (A,B,C.T,np.array([[tb,-ta],[-1,1]]))\n",
    "        #         )\n",
    "        #         assert np.array_equal(C.T@A,(tb-ta)*B)\n",
    "                if (C%(tb-ta)==0).all():\n",
    "#                     assert np.array_equal((ta*_vb-_va)%k,(_pa-_pb)%k)\n",
    "                    n_candidates+=1\n",
    "                    C//=(tb-ta)\n",
    "                    p,v=C\n",
    "        #             print(ta,tb,(p,v),[stones_collide(s,(p,v)) for s in stones])\n",
    "                    if all(\n",
    "                        stones_collide(s,(p,v))\n",
    "                        for s in stones\n",
    "                    ):\n",
    "                        print(f'{(work,n_candidates)=}')\n",
    "                        return (p,v)\n",
    "#                 else:\n",
    "#                     assert not np.array_equal((ta*_vb-_va)%k,(_pa-_pb)%k)\n",
    "    print(f'{(work,n_candidates)=}')\n",
    "rock=solve(stones,T=1000_000)\n",
    "print(rock)\n",
    "sum(rock[0])"
   ]
  },
  {
   "cell_type": "markdown",
   "id": "ba101740",
   "metadata": {},
   "source": [
    "#### after reading solutions\n",
    "\n",
    "using [u/evouga's solution](https://www.reddit.com/r/adventofcode/comments/18pnycy/comment/kepu26z/):\n",
    "\n",
    "* $\\vec{p}_i+s_i\\vec{v}_i=\\vec{p}+s_i\\vec{v}\n",
    "\\Leftrightarrow (\\vec{p}-\\vec{p}_i)\\times (\\vec{v}-\\vec{v}_i)=\\vec{0}\n",
    "\\\\\n",
    "\\Leftrightarrow (\\vec{p}\\times\\vec{v})-(\\vec{p}_i\\times\\vec{v})+(\\vec{v}_i\\times\\vec{p})=-(\\vec{p}_i\\times\\vec{v}_i)$\n",
    "\n",
    "* eliminate the $\\vec{p}\\times\\vec{v}$ term by combining these equations for different $i$\n",
    "$\\Rightarrow$ linear system over $\\vec{p},\\vec{v}$"
   ]
  },
  {
   "cell_type": "code",
   "execution_count": 277,
   "id": "8c74f06c",
   "metadata": {
    "scrolled": true
   },
   "outputs": [
    {
     "data": {
      "text/plain": [
       "Fraction(856642398547748, 1)"
      ]
     },
     "metadata": {},
     "output_type": "display_data"
    },
    {
     "data": {
      "text/plain": [
       "[[Fraction(422644646660238, 1)],\n",
       " [Fraction(244357651988392, 1)],\n",
       " [Fraction(189640099899118, 1)],\n",
       " [Fraction(260, 1)],\n",
       " [Fraction(-34, 1)],\n",
       " [Fraction(-181, 1)]]"
      ]
     },
     "metadata": {},
     "output_type": "display_data"
    }
   ],
   "source": [
    "def lcross(v):\n",
    "    a,b,c=v\n",
    "    return np.array([\n",
    "        [0,-c,b],\n",
    "        [c,0,-a],\n",
    "        [-b,a,0],\n",
    "    ],dtype=int)\n",
    "def collide_both(sa,sb):\n",
    "    pa,va=sa\n",
    "    pb,vb=sb\n",
    "    return (\n",
    "#         lcross(vb-va),\n",
    "#         lcross(pb-pa),\n",
    "        np.concatenate([lcross(vb-va),lcross(pb-pa)],axis=1),\n",
    "        -(np.cross(pb,vb)-np.cross(pa,va))\n",
    "    )\n",
    "\n",
    "stones=[\n",
    "    [\n",
    "        np.array([int(v) for v in tok.split(', ')])\n",
    "        for tok in l.split(' @ ')\n",
    "    ]\n",
    "    for l in LINES()\n",
    "]\n",
    "A,B=[],[]\n",
    "for pair in [\n",
    "    stones[:2],\n",
    "    [stones[0],stones[2]]\n",
    "]:\n",
    "    M,b=collide_both(*pair)\n",
    "    A.append(M)\n",
    "    B.append(b)\n",
    "A,B=np.concatenate(A,axis=0),np.concatenate(B).reshape((-1,1))\n",
    "# display(A,B)\n",
    "# display(A.tolist())\n",
    "\n",
    "def swap_rows(M,i,j):\n",
    "    tmp=M[i][:]\n",
    "    M[i]=M[j][:]\n",
    "    M[j]=tmp\n",
    "def row_scale(s,A):\n",
    "    return [s*a for a in A]\n",
    "def row_add(A,B):\n",
    "    return [a+b for a,b in zip(A,B)]\n",
    "def mat2str(M):\n",
    "    return '['+'\\n '.join(' '.join(f'{v._numerator}/{v._denominator}' for v in row) for row in M)+']'\n",
    "def solve(A,B):\n",
    "#     return np.linalg.solve(A,B)\n",
    "    assert A.dtype==np.int64 and B.dtype==np.int64\n",
    "    from fractions import Fraction\n",
    "#     A,B=A.astype(np.float128),B.astype(np.float128)\n",
    "#     A=[[Fraction(v) for v in row] for row in A]\n",
    "#     B=[[Fraction(v) for v in row]]\n",
    "    M=np.concatenate([A,B],axis=1)\n",
    "    # IMPORTANT: vvvvvv  MUST CAST FROM np.int64 TO int\n",
    "    M=[[Fraction(int(v)) for v in row] for row in M]\n",
    "#     print(mat2str(M))\n",
    "    nleads=0\n",
    "    leads=[]\n",
    "    for c in range(A.shape[1]):\n",
    "#         print(f'{c=}')\n",
    "        r0=None\n",
    "        for r in range(nleads,A.shape[0]):\n",
    "            if M[r][c]!=0:\n",
    "                r0=r\n",
    "                break\n",
    "        if r0 is not None:\n",
    "#             print(f'swap rows {(nleads,r0)}')\n",
    "            swap_rows(M,nleads,r0)\n",
    "#             print(mat2str(M))\n",
    "#             print(f'normalize row {nleads} by factor {Fraction(1,M[nleads][c])}')\n",
    "            M[nleads]=row_scale(Fraction(1,M[nleads][c]),M[nleads])\n",
    "#             print(mat2str(M))\n",
    "            assert M[nleads][c]==1\n",
    "            \n",
    "#             print(f'eliminate column {c}')\n",
    "            for r in range(nleads+1,A.shape[0]):\n",
    "                if M[r][c]!=0:\n",
    "                    M[r]=row_add(row_scale(-M[r][c],M[nleads]),M[r])\n",
    "#             print(mat2str(M))\n",
    "            leads.append((nleads,c))\n",
    "            nleads+=1\n",
    "#     print(leads)\n",
    "    for r,c in leads[::-1]:\n",
    "        for i in range(0,r):\n",
    "            if M[i][c]!=0:\n",
    "                M[i]=row_add(M[i],row_scale(-M[i][c],M[r]))\n",
    "#     print('rref:')\n",
    "#     print(mat2str(M))\n",
    "    for r in range(A.shape[0]):\n",
    "        for c in range(A.shape[1]):\n",
    "#             print(M[r][c],Fraction((1 if r==c else 0),1))\n",
    "            x,y=M[r][c],Fraction((1 if r==c else 0),1)\n",
    "            assert x._numerator*y._denominator==y._numerator*x._denominator\n",
    "#             assert M[r][c]==Fraction((1 if r==c else 0),1), (M[r][c],Fraction((1 if r==c else 0),1))\n",
    "    return [row[A.shape[1]:] for row in M]\n",
    "\n",
    "ret=solve(A,B)\n",
    "display(sum(v for row in ret[:3] for v in row),ret)\n",
    "# A,B"
   ]
  },
  {
   "cell_type": "markdown",
   "id": "5ed1cf4f",
   "metadata": {},
   "source": [
    "## Day 23"
   ]
  },
  {
   "cell_type": "markdown",
   "id": "155b30eb",
   "metadata": {},
   "source": [
    "### 23a"
   ]
  },
  {
   "cell_type": "code",
   "execution_count": 11,
   "id": "426b553c",
   "metadata": {},
   "outputs": [
    {
     "name": "stdout",
     "output_type": "stream",
     "text": [
      "(0, 1) (140, 139)\n"
     ]
    },
    {
     "data": {
      "text/plain": [
       "2219"
      ]
     },
     "execution_count": 11,
     "metadata": {},
     "output_type": "execute_result"
    }
   ],
   "source": [
    "grid=LINES()\n",
    "R,C=len(grid),len(grid[0])\n",
    "\n",
    "DIR=[(1,0),(0,1),(-1,0),(0,-1)]\n",
    "# mem={}\n",
    "# def deepest(start,end):\n",
    "#     if start==end:\n",
    "#         return 0\n",
    "#     state=(start,end)\n",
    "#     if state not in mem:\n",
    "#         out=0\n",
    "#         r,c=start\n",
    "#         for dr,dc in DIR:\n",
    "#             nr,nc=r+dr,c+dc\n",
    "#             if (\n",
    "#                 0<=nr and nr<R and 0<=nc and nc<C\n",
    "#                 and grid[r][c]!='#'\n",
    "#                 and (\n",
    "#                     grid[r][c]=='.'\n",
    "#                     or (dr,dc)=={'v':(1,0),'>':(0,1),'^':(-1,0),'<':(0,-1)}[grid[r][c]]\n",
    "#                 )\n",
    "#             ):\n",
    "#                 nv=(nr,nc)\n",
    "#                 out=max(out,deepest(nv,end)+1)\n",
    "#         mem[state]=out\n",
    "#     return mem[state]\n",
    "start=[(0,c) for c in range(C) if grid[0][c]!='#'][0]\n",
    "end=[(R-1,c) for c in range(C) if grid[R-1][c]!='#'][0]\n",
    "print(start,end)\n",
    "# print(deepest(start,end))\n",
    "\n",
    "def deepest(grid,start,end):\n",
    "    R,C=len(grid),len(grid[0])\n",
    "    path=set()\n",
    "    ans={'max':0,'best':None}\n",
    "    def dfs(v):\n",
    "        if v==end:\n",
    "            if len(path)>ans['max']:\n",
    "                ans['max']=len(path)\n",
    "                ans['best']=set(path)\n",
    "            return\n",
    "        r,c=v\n",
    "        for dr,dc in DIR:\n",
    "            nr,nc=r+dr,c+dc\n",
    "            if (\n",
    "                0<=nr and nr<R and 0<=nc and nc<C\n",
    "                and grid[r][c]!='#' # meant to type `grid[nr][nc]` instead, but `grid[r][c]` is still correct\n",
    "                and (\n",
    "                    grid[r][c]=='.'\n",
    "                    or (dr,dc)=={'v':(1,0),'>':(0,1),'^':(-1,0),'<':(0,-1)}[grid[r][c]]\n",
    "                )\n",
    "                and (nr,nc) not in path\n",
    "            ):\n",
    "                nv=(nr,nc)\n",
    "                path.add(nv)\n",
    "                dfs(nv)\n",
    "                path.remove(nv)\n",
    "    path.add(start)\n",
    "    dfs(start)\n",
    "    return ans\n",
    "deepest(grid,start,end)['max']\n",
    "#above function calculates number of nodes in the longest path\n",
    "# so we should submit 1 minus the result (number of *edges* in the longest path)"
   ]
  },
  {
   "cell_type": "markdown",
   "id": "72602642",
   "metadata": {},
   "source": [
    "### 23b"
   ]
  },
  {
   "cell_type": "markdown",
   "id": "aeb1bae2",
   "metadata": {},
   "source": [
    "#### DFS, run until it generated a path length that was correct"
   ]
  },
  {
   "cell_type": "code",
   "execution_count": 26,
   "id": "dad91b5e",
   "metadata": {
    "scrolled": true
   },
   "outputs": [
    {
     "name": "stdout",
     "output_type": "stream",
     "text": [
      "(0, 1) (140, 139)\n",
      "\tt=3.0994415283203125e-06 work=0 cur_best=0\n",
      "\tt=10.0 work=4244010 cur_best=2019\n",
      "\tt=20.0 work=8475314 cur_best=2019\n",
      "\tt=30.0 work=12440448 cur_best=2019\n",
      "\tt=40.07127499580383 work=16422297 cur_best=2019\n",
      "\tt=50.00000500679016 work=20353500 cur_best=2019\n",
      "\tt=60.0 work=24711373 cur_best=2019\n",
      "\tt=70.000070810318 work=28738860 cur_best=2019\n",
      "\tt=80.0 work=32849883 cur_best=2019\n",
      "\tt=90.0971040725708 work=36907767 cur_best=2019\n",
      "\tt=100.00000095367432 work=40802908 cur_best=2019\n",
      "\tt=200.0 work=81800224 cur_best=3187\n",
      "\tt=300.0000958442688 work=122376838 cur_best=6451\n",
      "\tt=400.0 work=162688083 cur_best=6675\n",
      "\tt=500.0000009536743 work=203780795 cur_best=6675\n",
      "\tt=600.0001451969147 work=245395628 cur_best=6675\n",
      "\tt=700.0000009536743 work=286836735 cur_best=6675\n",
      "\tt=800.0 work=329295829 cur_best=6675\n"
     ]
    },
    {
     "name": "stderr",
     "output_type": "stream",
     "text": [
      "\n",
      "KeyboardInterrupt\n",
      "\n"
     ]
    }
   ],
   "source": [
    "grid=LINES()\n",
    "R,C=len(grid),len(grid[0])\n",
    "\n",
    "DIR=[(1,0),(0,1),(-1,0),(0,-1)]\n",
    "\n",
    "start=[(0,c) for c in range(C) if grid[0][c]!='#'][0]\n",
    "end=[(R-1,c) for c in range(C) if grid[R-1][c]!='#'][0]\n",
    "print(start,end)\n",
    "\n",
    "def deepest(grid,start,end):\n",
    "    R,C=len(grid),len(grid[0])\n",
    "    path=set()\n",
    "    ans={'max':0,'best':None}\n",
    "    logger={'st':time.time(),'mark':0,'work':0}\n",
    "    def dfs(v):\n",
    "        t=time.time()-logger['st']\n",
    "        if t>=logger['mark']:\n",
    "            print(f'\\t{t=} work={logger[\"work\"]} cur_best={ans[\"max\"]}')\n",
    "            logger['mark']+=10**int(np.log10(max(10,logger['mark'])))\n",
    "        logger['work']+=1\n",
    "        \n",
    "        if v==end:\n",
    "            if len(path)>ans['max']:\n",
    "                ans['max']=len(path)\n",
    "                ans['best']=set(path)\n",
    "            return\n",
    "        r,c=v\n",
    "        for dr,dc in DIR:\n",
    "            nr,nc=r+dr,c+dc\n",
    "            if (\n",
    "                0<=nr and nr<R and 0<=nc and nc<C\n",
    "                and grid[nr][nc]!='#'\n",
    "                and (nr,nc) not in path\n",
    "            ):\n",
    "                nv=(nr,nc)\n",
    "                path.add(nv)\n",
    "                dfs(nv)\n",
    "                path.remove(nv)\n",
    "    path.add(start)\n",
    "    dfs(start)\n",
    "    return ans\n",
    "import sys\n",
    "sys.setrecursionlimit(10_000)\n",
    "deepest(grid,start,end)\n",
    "\n",
    "#answer is 1 less than the result that would be returned by dfs\n",
    "#submitting 6674 turned out to be correct"
   ]
  },
  {
   "cell_type": "markdown",
   "id": "3da89b5e",
   "metadata": {},
   "source": [
    "#### DP algorithm (ultimately did not use)"
   ]
  },
  {
   "cell_type": "code",
   "execution_count": 10,
   "id": "5b9f4eb1",
   "metadata": {
    "scrolled": true
   },
   "outputs": [
    {
     "name": "stdout",
     "output_type": "stream",
     "text": [
      "(0, 1) (140, 139)\n",
      "\tt=0.0007879734039306641 work=0 len(mem)=0\n",
      "\tt=10.00581979751587 work=657 len(mem)=224\n",
      "\tt=20.00356364250183 work=1327 len(mem)=475\n",
      "\tt=30.002221822738647 work=2027 len(mem)=735\n",
      "\tt=40.00143790245056 work=2661 len(mem)=975\n",
      "\tt=50.003055810928345 work=3356 len(mem)=1235\n",
      "\tt=60.00862789154053 work=4031 len(mem)=1492\n",
      "\tt=70.0062267780304 work=4688 len(mem)=1723\n",
      "\tt=80.00303077697754 work=5368 len(mem)=1976\n",
      "\tt=90.00075078010559 work=6027 len(mem)=2226\n",
      "\tt=100.00370979309082 work=6684 len(mem)=2483\n",
      "\tt=200.00420093536377 work=13652 len(mem)=4967\n",
      "\tt=300.01932072639465 work=20822 len(mem)=7457\n",
      "\tt=400.0016589164734 work=27762 len(mem)=9882\n",
      "\tt=500.00608682632446 work=34709 len(mem)=12225\n",
      "\tt=600.0010056495667 work=41266 len(mem)=14525\n",
      "\tt=700.019642829895 work=47940 len(mem)=17030\n",
      "\tt=800.0014998912811 work=55002 len(mem)=19507\n",
      "\tt=900.0061666965485 work=61756 len(mem)=21859\n",
      "\tt=1000.0023708343506 work=69034 len(mem)=24384\n"
     ]
    },
    {
     "name": "stderr",
     "output_type": "stream",
     "text": [
      "\n",
      "KeyboardInterrupt\n",
      "\n"
     ]
    }
   ],
   "source": [
    "grid=LINES()\n",
    "R,C=len(grid),len(grid[0])\n",
    "\n",
    "DIR=[(1,0),(0,1),(-1,0),(0,-1)]\n",
    "\n",
    "mem={}\n",
    "logger={'st':time.time(),'mark':0,'work':0}\n",
    "def nexts(grid,start,end,cur_path):\n",
    "    r,c=start\n",
    "    nexts=[]\n",
    "    for dr,dc in DIR:\n",
    "        nr,nc=r+dr,c+dc\n",
    "        if (\n",
    "            0<=nr and nr<R and 0<=nc and nc<C\n",
    "            and grid[nr][nc]!='#'\n",
    "            and (nr,nc) not in cur_path\n",
    "        ):\n",
    "            nexts.append((nr,nc))\n",
    "    return nexts\n",
    "def deepest(grid,start,end,cur_path):\n",
    "    t=time.time()-logger['st']\n",
    "    if t>=logger['mark']:\n",
    "        print(f'\\t{t=} work={logger[\"work\"]} {len(mem)=}')\n",
    "        logger['mark']+=10**int(np.log10(max(10,logger['mark'])))\n",
    "    logger['work']+=1\n",
    "    \n",
    "    add=0\n",
    "    while start!=end:\n",
    "        nvs=nexts(grid,start,end,cur_path)\n",
    "        if len(nvs)==0:\n",
    "#             print(start,end,cur_path)\n",
    "            return -float('inf')\n",
    "        if len(nvs)>1:\n",
    "            break\n",
    "        nv,=nvs\n",
    "        start=nv\n",
    "        cur_path|={nv}\n",
    "        add+=1\n",
    "    stt=(start,end,cur_path)\n",
    "    if stt in mem:\n",
    "        return mem[stt]\n",
    "    out=None\n",
    "    if start==end:\n",
    "        out=0\n",
    "    else:\n",
    "        nvs=nexts(grid,start,end,cur_path)\n",
    "    #     assert len(nvs)>1\n",
    "        out=-float('inf')\n",
    "        for nv in nvs:\n",
    "            out=max(\n",
    "                out,\n",
    "                1+deepest(grid,nv,end,cur_path|{nv})\n",
    "            )\n",
    "    out+=add\n",
    "    mem[stt]=out\n",
    "    return out\n",
    "start=[(0,c) for c in range(C) if grid[0][c]!='#'][0]\n",
    "end=[(R-1,c) for c in range(C) if grid[R-1][c]!='#'][0]\n",
    "print(start,end)\n",
    "import sys\n",
    "sys.setrecursionlimit(10_000)\n",
    "deepest(grid,start,end,frozenset({start})),len(mem)#,mem"
   ]
  },
  {
   "cell_type": "markdown",
   "id": "76b98f6c",
   "metadata": {},
   "source": [
    "### a better solution for Day 23"
   ]
  },
  {
   "cell_type": "code",
   "execution_count": 3,
   "id": "7db2eded",
   "metadata": {},
   "outputs": [
    {
     "name": "stdout",
     "output_type": "stream",
     "text": [
      "(0, 1) (140, 139)\n",
      "part 1\n",
      "compress: (9416 verts, 18762 edges) -> (213 verts, 356 edges)\n",
      "answer=2218 time=0.1061849594116211\n",
      "part 2\n",
      "compress: (9416 verts, 18880 edges) -> (36 verts, 120 edges)\n",
      "answer=6674 time=20.441407918930054\n"
     ]
    }
   ],
   "source": [
    "grid=LINES()\n",
    "\n",
    "'''\n",
    "weighted directed graph:\n",
    "{v:\n",
    "    {n:(weight w of edge v-->n)\n",
    "        for each out-neighbor n to v\n",
    "    }\n",
    "    for each vertex v\n",
    "}\n",
    "since we want to find the *longest* simple path in a graph,\n",
    "    if we have multiple edges v-->n, we only need to store\n",
    "    the highest weight\n",
    "'''\n",
    "def add_warc(G,u,v,w):\n",
    "    if u not in G:\n",
    "        G[u]={}\n",
    "#     if v not in G[u]:\n",
    "#         G[u][v]=[]\n",
    "#     G[u][v].append(w)\n",
    "    G[u][v]=max(G[u].get(v,-float('inf')),w)\n",
    "\n",
    "DIR=[(1,0),(0,1),(-1,0),(0,-1)]\n",
    "def dimgraph(grid,enforce_downhill):\n",
    "    G={}\n",
    "    for r in range(R):\n",
    "        for c in range(C):\n",
    "            if grid[r][c]!='#':\n",
    "                for dr,dc in DIR:\n",
    "                    nr,nc=r+dr,c+dc\n",
    "                    if (\n",
    "                        0<=nr and nr<R and 0<=nc and nc<C\n",
    "                        and grid[nr][nc]!='#'\n",
    "                        and (\n",
    "                            not enforce_downhill \n",
    "                            or (\n",
    "                                grid[r][c]=='.'\n",
    "                                or (dr,dc)=={'v':(1,0),'>':(0,1),'^':(-1,0),'<':(0,-1)}[grid[r][c]]\n",
    "                            )\n",
    "                        )\n",
    "                    ):\n",
    "                        add_warc(G,(r,c),(nr,nc),1)\n",
    "    return G\n",
    "\n",
    "def compressed(G0,start,end):\n",
    "    G={v:dict(N) for v,N in G0.items()}\n",
    "    while True:\n",
    "        reduced=False\n",
    "        verts=set(G.keys())\n",
    "        for v in verts-{start,end}:\n",
    "            if len(G[v])!=2:\n",
    "                continue\n",
    "            a,b=G[v].keys()\n",
    "            if v in G[a] and v in G[b]:\n",
    "#                 for av in G[a][v]:\n",
    "#                     for vb in G[v][b]:\n",
    "#                         add_warc(G,a,b,av+vb)\n",
    "#                 for bv in G[b][v]:\n",
    "#                     for va in G[v][a]:\n",
    "#                         add_warc(G,b,a,bv+va)\n",
    "                add_warc(G,a,b,G[a][v]+G[v][b])\n",
    "                add_warc(G,b,a,G[b][v]+G[v][a])\n",
    "                G[a].pop(v)\n",
    "                G[b].pop(v)\n",
    "                G.pop(v)\n",
    "                reduced=True\n",
    "        if not reduced:\n",
    "            break\n",
    "    return G\n",
    "\n",
    "def n_edges(G):\n",
    "    return sum(len(N) for N in G.values())\n",
    "def deepest(G,start,end):\n",
    "    print(f'compress: ({len(G)} verts, {n_edges(G)} edges) -> ',end='')\n",
    "    G=compressed(G,start,end)\n",
    "    print(f'({len(G)} verts, {n_edges(G)} edges)')\n",
    "#     display(G)\n",
    "    ans={'max':0,'best':None}\n",
    "    path=set()\n",
    "    def dfs(v,cost):\n",
    "        if v==end:\n",
    "            if cost>ans['max']:\n",
    "                ans['max']=cost\n",
    "                ans['best']=set(path)\n",
    "            return\n",
    "        for n in G[v]:\n",
    "            if n not in path:\n",
    "                path.add(n)\n",
    "                dfs(n,cost+G[v][n])\n",
    "                path.remove(n)\n",
    "    path.add(start)\n",
    "    dfs(start,0)\n",
    "    return ans\n",
    "\n",
    "R,C=len(grid),len(grid[0])\n",
    "start=[(0,c) for c in range(C) if grid[0][c]!='#'][0]\n",
    "end=[(R-1,c) for c in range(C) if grid[R-1][c]!='#'][0]\n",
    "print(start,end)\n",
    "\n",
    "for downhill in [True,False]:\n",
    "    print(f'part {1 if downhill else 2}')\n",
    "    st=time.time()\n",
    "    print(f'answer={deepest(dimgraph(grid,downhill),start,end)[\"max\"]} time={time.time()-st}')"
   ]
  },
  {
   "cell_type": "markdown",
   "id": "1565eaaa",
   "metadata": {},
   "source": [
    "## Day 22"
   ]
  },
  {
   "cell_type": "markdown",
   "id": "0d3f715f",
   "metadata": {},
   "source": [
    "### 22a"
   ]
  },
  {
   "cell_type": "code",
   "execution_count": 44,
   "id": "90b7a26f",
   "metadata": {},
   "outputs": [
    {
     "data": {
      "text/plain": [
       "446"
      ]
     },
     "execution_count": 44,
     "metadata": {},
     "output_type": "execute_result"
    }
   ],
   "source": [
    "bricks=[\n",
    "    [\n",
    "        [int(v) for v in tok.split(',')]\n",
    "        for tok in l.split('~')\n",
    "    ]\n",
    "    for l in LINES()\n",
    "]\n",
    "def intx1d(i0,i1):\n",
    "    l0,r0=i0\n",
    "    l1,r1=i1\n",
    "    return max(l0,l1)<=min(r0,r1)\n",
    "def get_intv(a,b):\n",
    "    return [min(a,b),max(a,b)]\n",
    "def intv_r1(a,b):\n",
    "    a,b=get_intv(a,b)\n",
    "    return a,b+1\n",
    "def intx(b0,b1):\n",
    "    return all(\n",
    "        intx1d(\n",
    "            get_intv(b0[0][ax],b0[1][ax]),\n",
    "            get_intv(b1[0][ax],b1[1][ax]),\n",
    "        )\n",
    "        for ax in range(3)\n",
    "    )\n",
    "def zlow(brick):\n",
    "    return min(pt[2] for pt in brick)\n",
    "def zplaced(brick,z):\n",
    "    shift=z-zlow(brick)\n",
    "    return [[c+(shift if ax==2 else 0) for ax,c in enumerate(pt)] for pt in brick]\n",
    "def fall(bricks):\n",
    "    stack_heights={}\n",
    "    out={}\n",
    "    for name,b in sorted(bricks.items(),key=lambda pair:zlow(pair[1])):\n",
    "        goodz=0\n",
    "        for x in range(*intv_r1(b[0][0],b[1][0])):\n",
    "            for y in range(*intv_r1(b[0][1],b[1][1])):\n",
    "                goodz=max(goodz,stack_heights.get((x,y),0))\n",
    "        goodz+=1\n",
    "        nb=zplaced(b,goodz)\n",
    "        out[name]=nb\n",
    "        nz=max(pt[2] for pt in nb)\n",
    "        for x in range(*intv_r1(b[0][0],b[1][0])):\n",
    "            for y in range(*intv_r1(b[0][1],b[1][1])):\n",
    "                stack_heights[(x,y)]=nz\n",
    "#         display(stack_heights)\n",
    "    return out\n",
    "def safes(bricks):\n",
    "    base=fall(bricks)\n",
    "    names=[]\n",
    "    for name,b in bricks.items():\n",
    "        nbricks=dict(bricks)\n",
    "        del nbricks[name]\n",
    "        nbase=fall(nbricks)\n",
    "        if all(nbase[m]==base[m] for m in nbase):\n",
    "            names.append(name)\n",
    "    return names\n",
    "bricks=dict(enumerate(bricks))\n",
    "# bricks,fall(bricks)\n",
    "ret=safes(bricks)\n",
    "len(ret)#,ret"
   ]
  },
  {
   "cell_type": "markdown",
   "id": "b35595eb",
   "metadata": {},
   "source": [
    "### 22b"
   ]
  },
  {
   "cell_type": "code",
   "execution_count": 43,
   "id": "9b8389e3",
   "metadata": {},
   "outputs": [
    {
     "data": {
      "text/plain": [
       "60287"
      ]
     },
     "execution_count": 43,
     "metadata": {},
     "output_type": "execute_result"
    }
   ],
   "source": [
    "bricks=[\n",
    "    [\n",
    "        [int(v) for v in tok.split(',')]\n",
    "        for tok in l.split('~')\n",
    "    ]\n",
    "    for l in LINES()\n",
    "]\n",
    "def intx1d(i0,i1):\n",
    "    l0,r0=i0\n",
    "    l1,r1=i1\n",
    "    return max(l0,l1)<=min(r0,r1)\n",
    "def get_intv(a,b):\n",
    "    return [min(a,b),max(a,b)]\n",
    "def intv_r1(a,b):\n",
    "    a,b=get_intv(a,b)\n",
    "    return a,b+1\n",
    "def intx(b0,b1):\n",
    "    return all(\n",
    "        intx1d(\n",
    "            get_intv(b0[0][ax],b0[1][ax]),\n",
    "            get_intv(b1[0][ax],b1[1][ax]),\n",
    "        )\n",
    "        for ax in range(3)\n",
    "    )\n",
    "def zlow(brick):\n",
    "    return min(pt[2] for pt in brick)\n",
    "def zplaced(brick,z):\n",
    "    shift=z-zlow(brick)\n",
    "    return [[c+(shift if ax==2 else 0) for ax,c in enumerate(pt)] for pt in brick]\n",
    "def fall(bricks):\n",
    "    stack_heights={}\n",
    "    out={}\n",
    "    for name,b in sorted(bricks.items(),key=lambda pair:zlow(pair[1])):\n",
    "        goodz=0\n",
    "        for x in range(*intv_r1(b[0][0],b[1][0])):\n",
    "            for y in range(*intv_r1(b[0][1],b[1][1])):\n",
    "                goodz=max(goodz,stack_heights.get((x,y),0))\n",
    "        goodz+=1\n",
    "        nb=zplaced(b,goodz)\n",
    "        out[name]=nb\n",
    "        nz=max(pt[2] for pt in nb)\n",
    "        for x in range(*intv_r1(b[0][0],b[1][0])):\n",
    "            for y in range(*intv_r1(b[0][1],b[1][1])):\n",
    "                stack_heights[(x,y)]=nz\n",
    "#         display(stack_heights)\n",
    "    return out\n",
    "def ncollapsess(bricks):\n",
    "    base=fall(bricks)\n",
    "    out=0\n",
    "    for name,b in bricks.items():\n",
    "        nbricks=dict(bricks)\n",
    "        del nbricks[name]\n",
    "        nbase=fall(nbricks)\n",
    "        out+=sum(1 for m in nbase if nbase[m]!=base[m])\n",
    "    return out\n",
    "bricks=dict(enumerate(bricks))\n",
    "ncollapsess(bricks)"
   ]
  },
  {
   "cell_type": "markdown",
   "id": "2ddeb7da",
   "metadata": {},
   "source": [
    "## Day 21"
   ]
  },
  {
   "cell_type": "markdown",
   "id": "d190f7a4",
   "metadata": {},
   "source": [
    "### 21a"
   ]
  },
  {
   "cell_type": "code",
   "execution_count": 16,
   "id": "d9dcf5cc",
   "metadata": {},
   "outputs": [
    {
     "data": {
      "text/plain": [
       "3699"
      ]
     },
     "execution_count": 16,
     "metadata": {},
     "output_type": "execute_result"
    }
   ],
   "source": [
    "grid=[list(s) for s in LINES()]\n",
    "R,C=len(grid),len(grid[0])\n",
    "start_locs=[\n",
    "    (r,c)\n",
    "    for r in range(R) for c in range(C)\n",
    "    if grid[r][c]=='S'\n",
    "]\n",
    "v0,=start_locs\n",
    "grid[v0[0]][v0[1]]='.'\n",
    "\n",
    "DIR=[(1,0),(0,1),(-1,0),(0,-1)]\n",
    "def dist_ring(grid,v0,D):\n",
    "    R,C=len(grid),len(grid[0])\n",
    "    front={v0}\n",
    "    for d in range(D):\n",
    "        nfront=set()\n",
    "        for r,c in front:\n",
    "            for dr,dc in DIR:\n",
    "                nr,nc=r+dr,c+dc\n",
    "                if 0<=nr and nr<R and 0<=nc and nc<C and grid[nr][nc]=='.':\n",
    "                    nv=(nr,nc)\n",
    "                    nfront.add(nv)\n",
    "        front=nfront\n",
    "    return front\n",
    "len(dist_ring(grid,v0,64))"
   ]
  },
  {
   "cell_type": "markdown",
   "id": "6431114f",
   "metadata": {},
   "source": [
    "### 21b\n",
    "**[solution from u/1234abcdcba4321](https://www.reddit.com/r/adventofcode/comments/18nevo3/comment/keairtt/)**\n",
    "* starting location `S` has no obstacles in its row and its column\n",
    "* no obstacles on the outer rim of input grid\n",
    "* $\\Rightarrow$ \\# of reached locations from $K$ steps is a quadratic polynomial w.r.t. $K$ for $K\\in r+L\\mathbb{Z}$, where $L=$ (input grid side length))"
   ]
  },
  {
   "cell_type": "code",
   "execution_count": 49,
   "id": "b80f6071",
   "metadata": {},
   "outputs": [
    {
     "name": "stderr",
     "output_type": "stream",
     "text": [
      "100%|███████████████████████████████████████| 1000/1000 [15:38<00:00,  1.07it/s]\n"
     ]
    },
    {
     "name": "stdout",
     "output_type": "stream",
     "text": [
      "65 3778\n",
      "196 33833\n",
      "327 93864\n",
      "458 183871\n",
      "589 303854\n",
      "720 453813\n",
      "851 633748\n",
      "982 843659\n"
     ]
    }
   ],
   "source": [
    "grid=[list(s) for s in LINES()]\n",
    "R,C=len(grid),len(grid[0])\n",
    "start_locs=[\n",
    "    (r,c)\n",
    "    for r in range(R) for c in range(C)\n",
    "    if grid[r][c]=='S'\n",
    "]\n",
    "v0,=start_locs\n",
    "grid[v0[0]][v0[1]]='.'\n",
    "\n",
    "DIR=[(1,0),(0,1),(-1,0),(0,-1)]\n",
    "'''\n",
    "grid wraps around in both coordinates\n",
    "count # repeats at each location\n",
    "'''\n",
    "def dist_rings_torus(grid,v0,D):\n",
    "    R,C=len(grid),len(grid[0])\n",
    "    layers=[{v0}]\n",
    "    for d in tqdm(range(D)):\n",
    "        nlayer=set()\n",
    "        for r,c in layers[-1]:\n",
    "            for dr,dc in DIR:\n",
    "                nr,nc=r+dr,c+dc\n",
    "                if grid[nr%R][nc%C]=='.':\n",
    "                    nlayer.add((nr,nc))\n",
    "        layers.append(nlayer)\n",
    "    return layers\n",
    "assert R==C\n",
    "TARGET=26501365\n",
    "layers=dist_rings_torus(grid,v0,1000)\n",
    "for d in range(len(layers)):\n",
    "    if d%R==TARGET%R:\n",
    "        print(d,len(layers[d]))"
   ]
  },
  {
   "cell_type": "code",
   "execution_count": 51,
   "id": "a521e7de",
   "metadata": {},
   "outputs": [
    {
     "data": {
      "text/plain": [
       "array([  3778,  33833,  93864, 183871, 303854, 453813, 633748, 843659])"
      ]
     },
     "metadata": {},
     "output_type": "display_data"
    },
    {
     "data": {
      "text/plain": [
       "array([ 30055,  60031,  90007, 119983, 149959, 179935, 209911])"
      ]
     },
     "metadata": {},
     "output_type": "display_data"
    },
    {
     "data": {
      "text/plain": [
       "array([29976, 29976, 29976, 29976, 29976, 29976])"
      ]
     },
     "metadata": {},
     "output_type": "display_data"
    }
   ],
   "source": [
    "A=np.array([len(layers[d]) for d in range(len(layers)) if d%R==TARGET%R])\n",
    "display(A,np.diff(A),np.diff(A,2))"
   ]
  },
  {
   "cell_type": "markdown",
   "id": "322ef28d",
   "metadata": {},
   "source": [
    "$\\Delta(\\Delta(A))_i=C_2$\n",
    "\n",
    "$\\Rightarrow \\Delta(A)_i=C_1+C_2i$\n",
    "\n",
    "$\\Rightarrow A_i=C_0+C_1i+C_2\\binom{i}{2}$\n",
    "\n",
    "where $\\Delta(A)_i:=A_{i+1}-A_i$"
   ]
  },
  {
   "cell_type": "code",
   "execution_count": 56,
   "id": "71da959a",
   "metadata": {},
   "outputs": [
    {
     "data": {
      "text/plain": [
       "[3778, 33833, 93864, 183871, 303854, 453813, 633748, 843659, 1083546, 1353409]"
      ]
     },
     "metadata": {},
     "output_type": "display_data"
    },
    {
     "data": {
      "text/plain": [
       "613391294577878"
      ]
     },
     "execution_count": 56,
     "metadata": {},
     "output_type": "execute_result"
    }
   ],
   "source": [
    "C=[3778,30055,29976]\n",
    "def discrete_integral(C,x):\n",
    "    return sum(C[i]*math.comb(x,i) for i in range(len(C)))\n",
    "display([discrete_integral(C,x) for x in range(10)])\n",
    "discrete_integral(C,TARGET//R)"
   ]
  },
  {
   "cell_type": "markdown",
   "id": "048d2585",
   "metadata": {},
   "source": [
    "## Day 20"
   ]
  },
  {
   "cell_type": "markdown",
   "id": "bf6d1d2e",
   "metadata": {},
   "source": [
    "### 20a"
   ]
  },
  {
   "cell_type": "code",
   "execution_count": 96,
   "id": "089c3faf",
   "metadata": {
    "scrolled": true
   },
   "outputs": [
    {
     "name": "stdout",
     "output_type": "stream",
     "text": [
      "883726240\n"
     ]
    }
   ],
   "source": [
    "BROADCAST='broadcaster'\n",
    "STATELESS='stateless'\n",
    "FF='%'\n",
    "CONJ='&'\n",
    "def parse_module(s):\n",
    "    modu,dests=s.split(' -> ')\n",
    "    typ,name=(\n",
    "        (STATELESS,modu)\n",
    "        if modu==BROADCAST else\n",
    "        (modu[0],modu[1:])\n",
    "    )\n",
    "    return typ,name,dests.split(', ')\n",
    "modules=[parse_module(s) for s in LINES()]\n",
    "\n",
    "names=set([\n",
    "    name for typ,name,dests in modules\n",
    "]+[\n",
    "    d for typ,name,dests in modules for d in dests\n",
    "])\n",
    "types={name:STATELESS for name in names}|{name:typ for typ,name,dests in modules}\n",
    "destss={name:[] for name in names}\n",
    "inputs={name:[] for name in names}\n",
    "for typ,name,dests in modules:\n",
    "    for d in dests:\n",
    "        destss[name].append(d)\n",
    "        inputs[d].append(name)\n",
    "# display(types,destss,inputs)\n",
    "\n",
    "LO,HI='lo','hi'\n",
    "'''\n",
    "state of a module is a bool for a flip-flop,\n",
    "    a dict(name:bool) for a conjunction\n",
    "'''\n",
    "def press_button(types,destss,state0):\n",
    "    state=dict(state0)\n",
    "    pulses=[(None,BROADCAST,LO)]\n",
    "#     print(state,'\\n\\t',pulses)\n",
    "    pi=0\n",
    "    while pi<len(pulses):\n",
    "        src,name,val=pulses[pi]\n",
    "        typ,st0=types[name],state[name]\n",
    "        if typ==CONJ:\n",
    "            nst=dict(st0)\n",
    "            nst[src]=val\n",
    "            state[name]=nst\n",
    "            ret=LO if all(mem==HI for mem in nst.values()) else HI\n",
    "            for d in destss[name]:\n",
    "                pulses.append((name,d,ret))\n",
    "        elif typ==FF:\n",
    "            if val==LO:\n",
    "                state[name]=not st0\n",
    "                ret=LO if st0 else HI\n",
    "                for d in destss[name]:\n",
    "                    pulses.append((name,d,ret))\n",
    "        else:\n",
    "            for d in destss[name]:\n",
    "                pulses.append((name,d,val))\n",
    "        pi+=1\n",
    "    return state,pulses\n",
    "\n",
    "state={\n",
    "    name:(\n",
    "        {inm:False for inm in inputs[name]} if typ==CONJ\n",
    "        else False if typ==FF\n",
    "        else None\n",
    "    )\n",
    "    for name,typ in types.items()\n",
    "}\n",
    "freq={LO:0,HI:0}\n",
    "for _ in range(1000):\n",
    "    nstate,pulses=press_button(types,destss,state)\n",
    "    state=nstate\n",
    "    for src,dest,val in pulses:\n",
    "        freq[val]+=1\n",
    "print(math.prod(freq.values()))\n",
    "# display(state,freq)"
   ]
  },
  {
   "cell_type": "markdown",
   "id": "17f7cf0a",
   "metadata": {},
   "source": [
    "### 20b"
   ]
  },
  {
   "cell_type": "markdown",
   "id": "c255085e",
   "metadata": {},
   "source": [
    "#### brute force attempt"
   ]
  },
  {
   "cell_type": "code",
   "execution_count": 16,
   "id": "3aef2aff",
   "metadata": {
    "scrolled": true
   },
   "outputs": [
    {
     "name": "stdout",
     "output_type": "stream",
     "text": [
      "0.00025582313537597656 1 0\n",
      "10.0000159740448 203862 0\n",
      "20.000038146972656 396409 0\n",
      "30.00000500679016 605151 0\n",
      "40.00001096725464 807101 0\n",
      "50.0 1025399 0\n",
      "60.0000479221344 1229069 0\n",
      "70.00001406669617 1434752 0\n",
      "80.0000307559967 1650852 0\n",
      "90.00000405311584 1868347 0\n",
      "100.00003004074097 2089333 0\n",
      "200.0000250339508 4268003 0\n",
      "300.0000319480896 6447438 0\n",
      "400.0000071525574 8495807 0\n",
      "500.0000319480896 10687850 0\n",
      "600.000020980835 12886293 0\n",
      "700.0000219345093 15021724 0\n"
     ]
    },
    {
     "ename": "KeyboardInterrupt",
     "evalue": "",
     "output_type": "error",
     "traceback": [
      "\u001b[0;31m---------------------------------------------------------------------------\u001b[0m",
      "\u001b[0;31mKeyboardInterrupt\u001b[0m                         Traceback (most recent call last)",
      "Cell \u001b[0;32mIn[16], line 73\u001b[0m\n\u001b[1;32m     71\u001b[0m mark\u001b[38;5;241m=\u001b[39m\u001b[38;5;241m0\u001b[39m\n\u001b[1;32m     72\u001b[0m \u001b[38;5;28;01mwhile\u001b[39;00m \u001b[38;5;28;01mTrue\u001b[39;00m:\n\u001b[0;32m---> 73\u001b[0m     nstate,pulses\u001b[38;5;241m=\u001b[39m\u001b[43mpress_button\u001b[49m\u001b[43m(\u001b[49m\u001b[43mtypes\u001b[49m\u001b[43m,\u001b[49m\u001b[43mdestss\u001b[49m\u001b[43m,\u001b[49m\u001b[43mstate\u001b[49m\u001b[43m)\u001b[49m\n\u001b[1;32m     74\u001b[0m     npresses\u001b[38;5;241m+\u001b[39m\u001b[38;5;241m=\u001b[39m\u001b[38;5;241m1\u001b[39m\n\u001b[1;32m     75\u001b[0m     nsends\u001b[38;5;241m=\u001b[39m\u001b[38;5;28msum\u001b[39m(\u001b[38;5;241m1\u001b[39m \u001b[38;5;28;01mfor\u001b[39;00m src,dest,val \u001b[38;5;129;01min\u001b[39;00m pulses \u001b[38;5;28;01mif\u001b[39;00m dest\u001b[38;5;241m==\u001b[39m\u001b[38;5;124m'\u001b[39m\u001b[38;5;124mrx\u001b[39m\u001b[38;5;124m'\u001b[39m \u001b[38;5;129;01mand\u001b[39;00m val\u001b[38;5;241m==\u001b[39mLO)\n",
      "Cell \u001b[0;32mIn[16], line 43\u001b[0m, in \u001b[0;36mpress_button\u001b[0;34m(types, destss, state0)\u001b[0m\n\u001b[1;32m     41\u001b[0m typ,st0\u001b[38;5;241m=\u001b[39mtypes[name],state[name]\n\u001b[1;32m     42\u001b[0m \u001b[38;5;28;01mif\u001b[39;00m typ\u001b[38;5;241m==\u001b[39mCONJ:\n\u001b[0;32m---> 43\u001b[0m     nst\u001b[38;5;241m=\u001b[39m\u001b[38;5;28;43mdict\u001b[39;49m\u001b[43m(\u001b[49m\u001b[43mst0\u001b[49m\u001b[43m)\u001b[49m\n\u001b[1;32m     44\u001b[0m     nst[src]\u001b[38;5;241m=\u001b[39mval\n\u001b[1;32m     45\u001b[0m     state[name]\u001b[38;5;241m=\u001b[39mnst\n",
      "\u001b[0;31mKeyboardInterrupt\u001b[0m: "
     ]
    }
   ],
   "source": [
    "BROADCAST='broadcaster'\n",
    "STATELESS='stateless'\n",
    "FF='%'\n",
    "CONJ='&'\n",
    "def parse_module(s):\n",
    "    modu,dests=s.split(' -> ')\n",
    "    typ,name=(\n",
    "        (STATELESS,modu)\n",
    "        if modu==BROADCAST else\n",
    "        (modu[0],modu[1:])\n",
    "    )\n",
    "    return typ,name,dests.split(', ')\n",
    "modules=[parse_module(s) for s in LINES()]\n",
    "\n",
    "names=set([\n",
    "    name for typ,name,dests in modules\n",
    "]+[\n",
    "    d for typ,name,dests in modules for d in dests\n",
    "])\n",
    "types={name:STATELESS for name in names}|{name:typ for typ,name,dests in modules}\n",
    "destss={name:[] for name in names}\n",
    "inputs={name:[] for name in names}\n",
    "for typ,name,dests in modules:\n",
    "    for d in dests:\n",
    "        destss[name].append(d)\n",
    "        inputs[d].append(name)\n",
    "# display(types,destss,inputs)\n",
    "\n",
    "LO,HI='lo','hi'\n",
    "'''\n",
    "state of a module is a bool for a flip-flop,\n",
    "    a dict(name:bool) for a conjunction\n",
    "'''\n",
    "def press_button(types,destss,state0):\n",
    "    state=dict(state0)\n",
    "    pulses=[(None,BROADCAST,LO)]\n",
    "#     print(state,'\\n\\t',pulses)\n",
    "    pi=0\n",
    "    while pi<len(pulses):\n",
    "        src,name,val=pulses[pi]\n",
    "        typ,st0=types[name],state[name]\n",
    "        if typ==CONJ:\n",
    "            nst=dict(st0)\n",
    "            nst[src]=val\n",
    "            state[name]=nst\n",
    "            ret=LO if all(mem==HI for mem in nst.values()) else HI\n",
    "            for d in destss[name]:\n",
    "                pulses.append((name,d,ret))\n",
    "        elif typ==FF:\n",
    "            if val==LO:\n",
    "                state[name]=not st0\n",
    "                ret=LO if st0 else HI\n",
    "                for d in destss[name]:\n",
    "                    pulses.append((name,d,ret))\n",
    "        else:\n",
    "            for d in destss[name]:\n",
    "                pulses.append((name,d,val))\n",
    "        pi+=1\n",
    "    return state,pulses\n",
    "\n",
    "state={\n",
    "    name:(\n",
    "        {inm:False for inm in inputs[name]} if typ==CONJ\n",
    "        else False if typ==FF\n",
    "        else None\n",
    "    )\n",
    "    for name,typ in types.items()\n",
    "}\n",
    "npresses=0\n",
    "st=time.time()\n",
    "mark=0\n",
    "for _ in range(100):\n",
    "    nstate,pulses=press_button(types,destss,state)\n",
    "    npresses+=1\n",
    "    nsends=sum(1 for src,dest,val in pulses if dest=='rx' and val==LO)\n",
    "    if nsends==1:\n",
    "        print(npresses)\n",
    "        break\n",
    "    state=nstate\n",
    "    print([state[chr(ord('a')+i)] for i in range(6)])\n",
    "    t=time.time()-st\n",
    "    if t>=mark:\n",
    "        print(t,npresses,nsends)\n",
    "        mark+=10**int(np.log10(max(10,mark)))"
   ]
  },
  {
   "cell_type": "markdown",
   "id": "ee699310",
   "metadata": {},
   "source": [
    "#### network visualization"
   ]
  },
  {
   "cell_type": "code",
   "execution_count": 58,
   "id": "d9a5429e",
   "metadata": {
    "scrolled": true
   },
   "outputs": [
    {
     "data": {
      "image/png": "[encoded data removed]",
      "text/plain": [
       "<Figure size 1000x1000 with 1 Axes>"
      ]
     },
     "metadata": {},
     "output_type": "display_data"
    },
    {
     "data": {
      "image/png": "[encoded data removed]",
      "text/plain": [
       "<Figure size 1000x1000 with 1 Axes>"
      ]
     },
     "metadata": {},
     "output_type": "display_data"
    }
   ],
   "source": [
    "import networkx as nx, matplotlib.pyplot as plt\n",
    "G=nx.DiGraph()\n",
    "G.add_nodes_from(names)\n",
    "G.add_edges_from([\n",
    "    (src,d)\n",
    "    for src,dests in destss.items()\n",
    "    for d in dests\n",
    "])\n",
    "for root in ['broadcaster','rx']:\n",
    "    bfs_nodes=[root]\n",
    "    depth={root:0}\n",
    "    for u,v in nx.bfs_edges(G,root,reverse=(root=='rx')):\n",
    "        depth[v]=depth[u]+1\n",
    "        bfs_nodes.append(v)\n",
    "    layers=[[] for d in range(max(depth.values())+1)]\n",
    "    for v in bfs_nodes:\n",
    "        layers[depth[v]].append(v)\n",
    "    pos={}\n",
    "    for d,verts in enumerate(layers):\n",
    "        for i,v in enumerate(verts):\n",
    "            pos[v]=((i+0.5)/len(verts),-d)\n",
    "\n",
    "    fig,ax=plt.subplots(figsize=(10,10))\n",
    "    nx.draw_networkx(G,pos=pos,ax=ax,with_labels=True,node_color=[\n",
    "        'red' if types[v]==CONJ else 'tan'\n",
    "        for v in G.nodes\n",
    "    ])"
   ]
  },
  {
   "cell_type": "markdown",
   "id": "3c4799e9",
   "metadata": {},
   "source": [
    "#### hardcoded solution\n",
    "rx gets low => bb sends low\n",
    "\n",
    "=> ks,xc,ct,kp all send high"
   ]
  },
  {
   "cell_type": "code",
   "execution_count": 95,
   "id": "e4a3497d",
   "metadata": {},
   "outputs": [
    {
     "data": {
      "text/plain": [
       "(5955, 2048, [3907])"
      ]
     },
     "metadata": {},
     "output_type": "display_data"
    },
    {
     "data": {
      "text/plain": [
       "(5871, 2048, [3823])"
      ]
     },
     "metadata": {},
     "output_type": "display_data"
    },
    {
     "data": {
      "text/plain": [
       "(5781, 2048, [3733])"
      ]
     },
     "metadata": {},
     "output_type": "display_data"
    },
    {
     "data": {
      "text/plain": [
       "(5845, 2048, [3797])"
      ]
     },
     "metadata": {},
     "output_type": "display_data"
    },
    {
     "data": {
      "text/plain": [
       "[(0, 3907), (0, 3823), (0, 3733), (0, 3797)]"
      ]
     },
     "metadata": {},
     "output_type": "display_data"
    },
    {
     "data": {
      "text/plain": [
       "211712400442661"
      ]
     },
     "execution_count": 95,
     "metadata": {},
     "output_type": "execute_result"
    }
   ],
   "source": [
    "REMOVE={'broadcaster','bb','rx'}\n",
    "STATELESS='stateless'\n",
    "FF='%'\n",
    "CONJ='&'\n",
    "def parse_module(s):\n",
    "    modu,dests=s.split(' -> ')\n",
    "    typ,name=(\n",
    "        (STATELESS,modu)\n",
    "        if modu==BROADCAST else\n",
    "        (modu[0],modu[1:])\n",
    "    )\n",
    "    return (\n",
    "        None if name in REMOVE else\n",
    "        (typ,name,[tok for tok in dests.split(', ') if tok not in REMOVE])\n",
    "    )\n",
    "modules=[e for e in [parse_module(s) for s in LINES()] if e is not None]\n",
    "\n",
    "names=set([\n",
    "    name for typ,name,dests in modules\n",
    "]+[\n",
    "    d for typ,name,dests in modules for d in dests\n",
    "])\n",
    "types={name:STATELESS for name in names}|{name:typ for typ,name,dests in modules}\n",
    "destss={name:[] for name in names}\n",
    "inputs={name:[] for name in names}\n",
    "for typ,name,dests in modules:\n",
    "    for d in dests:\n",
    "        destss[name].append(d)\n",
    "        inputs[d].append(name)\n",
    "\n",
    "def bfs(v0):\n",
    "    out=[v0]\n",
    "    seen={v0}\n",
    "    i=0\n",
    "    while i<len(out):\n",
    "        v=out[i]\n",
    "        for n in destss[v]:\n",
    "            if n not in seen:\n",
    "                seen.add(n)\n",
    "                out.append(n)\n",
    "        i+=1\n",
    "    return out\n",
    "sec_in2out=dict(zip(['fr','jf','mf','bv'],['ks','xc','kp','ct']))\n",
    "for ot in sec_in2out.values():\n",
    "    types[ot]=STATELESS\n",
    "regions={st:bfs(st) for st in sec_in2out}\n",
    "assert all(ot in regions[st] for st,ot in sec_in2out.items())\n",
    "assert all(rm not in R for R in regions.values() for rm in REMOVE)\n",
    "# display(types,destss,inputs)\n",
    "# display(regions)\n",
    "    \n",
    "\n",
    "LO,HI='lo','hi'\n",
    "'''\n",
    "state of a module is a bool for a flip-flop,\n",
    "    a dict(name:bool) for a conjunction\n",
    "'''\n",
    "def press_button(types,destss,state0,button):\n",
    "    state=dict(state0)\n",
    "    pulses=[(None,button,LO)]\n",
    "#     print(state,'\\n\\t',pulses)\n",
    "    pi=0\n",
    "    while pi<len(pulses):\n",
    "        src,name,val=pulses[pi]\n",
    "        typ,st0=types[name],state[name]\n",
    "        if typ==CONJ:\n",
    "            nst=dict(st0)\n",
    "            nst[src]=val\n",
    "            state[name]=nst\n",
    "            ret=LO if all(mem==HI for mem in nst.values()) else HI\n",
    "            for d in destss[name]:\n",
    "                pulses.append((name,d,ret))\n",
    "        elif typ==FF:\n",
    "            if val==LO:\n",
    "                state[name]=not st0\n",
    "                ret=LO if st0 else HI\n",
    "                for d in destss[name]:\n",
    "                    pulses.append((name,d,ret))\n",
    "        else:\n",
    "            for d in destss[name]:\n",
    "                pulses.append((name,d,val))\n",
    "        pi+=1\n",
    "    return state,pulses\n",
    "def default_state(names):\n",
    "    return {\n",
    "        name:(\n",
    "            {inm:False for inm in inputs[name]} if types[name]==CONJ\n",
    "            else False if types[name]==FF\n",
    "            else None\n",
    "        )\n",
    "        for name in names\n",
    "    }\n",
    "def encode_dict(D):\n",
    "    return tuple(sorted([\n",
    "        (k,encode_dict(v) if isinstance(v,dict) else v)\n",
    "        for k,v in D.items()\n",
    "    ]))\n",
    "\n",
    "mod_constraints=[]\n",
    "for button,R in regions.items():\n",
    "    state,pulses=default_state(R),{}\n",
    "    hist={}\n",
    "    back_i=None\n",
    "    good_idxs=[]\n",
    "    while True:\n",
    "        _c=encode_dict(state)\n",
    "        if _c in hist:\n",
    "            back_i=hist[_c]\n",
    "            break\n",
    "        hist_idx=len(hist)\n",
    "        hist[_c]=hist_idx\n",
    "        if sum(\n",
    "            1 for src,dest,val in pulses\n",
    "            if dest==sec_in2out[button]\n",
    "            and val==LO\n",
    "        )==1:\n",
    "            good_idxs.append(hist_idx)\n",
    "        state,pulses=press_button(types,destss,state,button)\n",
    "    display((len(hist),back_i,good_idxs))\n",
    "    assert len(good_idxs)==1\n",
    "    G,=good_idxs\n",
    "    assert G>=back_i\n",
    "    '''\n",
    "    for L=len(hist), B=back_i, [G]=good_idxs\n",
    "    need x-th elem (0-indexed)\n",
    "        of sequence 0,1,2,...,B-1, B,B+1,...,L-1, B,B+1,...,L-1, ...\n",
    "        to be G\n",
    "    if G>=B, then this means (x-B)%(L-B)+B==G ==> x~G mod (L-B)\n",
    "    '''\n",
    "    period=len(hist)-back_i\n",
    "    mod_constraints.append((G%period,period))\n",
    "display(mod_constraints)\n",
    "assert all(r==0 for r,m in mod_constraints)\n",
    "math.lcm(*[m for r,m in mod_constraints])"
   ]
  },
  {
   "cell_type": "markdown",
   "id": "b248fbb7",
   "metadata": {},
   "source": [
    "## Day 19"
   ]
  },
  {
   "cell_type": "markdown",
   "id": "0f2e9e44",
   "metadata": {},
   "source": [
    "### 19a"
   ]
  },
  {
   "cell_type": "code",
   "execution_count": 25,
   "id": "99dd43fe",
   "metadata": {},
   "outputs": [
    {
     "data": {
      "text/plain": [
       "406849"
      ]
     },
     "execution_count": 25,
     "metadata": {},
     "output_type": "execute_result"
    }
   ],
   "source": [
    "flows,objs=[\n",
    "    part.split('\\n')\n",
    "    for part in ('\\n'.join(LINES())).split('\\n\\n')\n",
    "]\n",
    "def parse_flow(l):\n",
    "    out=[]\n",
    "    for tok in l.split(','):\n",
    "        if ':' in tok:\n",
    "            condition,ret=tok.split(':')\n",
    "            attr,cmp,val=None,None,None\n",
    "            for test_cmp in ['>','<']:\n",
    "                if test_cmp in condition:\n",
    "                    cmp=test_cmp\n",
    "                    attr,val=condition.split(cmp)\n",
    "                    val=int(val)\n",
    "                    break\n",
    "            assert attr is not None, (attr,cmp,val)\n",
    "            out.append(((attr,cmp,val),ret))\n",
    "        else:\n",
    "            out.append(tok)\n",
    "    return out\n",
    "def parse_obj(l):\n",
    "    out={}\n",
    "    for tok in l[1:-1].split(','):\n",
    "        attr,val=tok.split('=')\n",
    "        val=int(val)\n",
    "        out[attr]=val\n",
    "    return out\n",
    "flows=dict(\n",
    "    l[:-1].split('{')\n",
    "    for l in flows\n",
    ")\n",
    "flows={\n",
    "    k:parse_flow(v)\n",
    "    for k,v in flows.items()\n",
    "}\n",
    "objs=[parse_obj(l) for l in objs]\n",
    "flows,objs\n",
    "\n",
    "def process(flow,obj):\n",
    "    for (attr,cmp,val),ret in flow[:-1]:\n",
    "        if {\n",
    "            '<':(obj[attr]<val),\n",
    "            '>':(obj[attr]>val)\n",
    "        }[cmp]:\n",
    "            return ret\n",
    "    return flow[-1]\n",
    "accepts=[]\n",
    "for obj in objs:\n",
    "#     print(obj,end='\\n\\t')\n",
    "    flow_name='in'\n",
    "    while flow_name not in {'A','R'}:\n",
    "#         print(flow_name,end=',')\n",
    "        flow_name=process(flows[flow_name],obj)\n",
    "#     print(flow_name)\n",
    "    if flow_name=='A':\n",
    "        accepts.append(obj)\n",
    "accepts\n",
    "sum(sum(obj.values()) for obj in accepts)"
   ]
  },
  {
   "cell_type": "markdown",
   "id": "1abf32d2",
   "metadata": {},
   "source": [
    "### 19b"
   ]
  },
  {
   "cell_type": "code",
   "execution_count": 35,
   "id": "7fb8b8e8",
   "metadata": {},
   "outputs": [
    {
     "data": {
      "text/plain": [
       "138625360533574"
      ]
     },
     "execution_count": 35,
     "metadata": {},
     "output_type": "execute_result"
    }
   ],
   "source": [
    "flows,objs=[\n",
    "    part.split('\\n')\n",
    "    for part in ('\\n'.join(LINES())).split('\\n\\n')\n",
    "]\n",
    "def parse_flow(l):\n",
    "    out=[]\n",
    "    for tok in l.split(','):\n",
    "        if ':' in tok:\n",
    "            condition,ret=tok.split(':')\n",
    "            attr,cmp,val=None,None,None\n",
    "            for test_cmp in ['>','<']:\n",
    "                if test_cmp in condition:\n",
    "                    cmp=test_cmp\n",
    "                    attr,val=condition.split(cmp)\n",
    "                    val=int(val)\n",
    "                    break\n",
    "            assert attr is not None, (attr,cmp,val)\n",
    "            out.append(((attr,cmp,val),ret))\n",
    "        else:\n",
    "            out.append(tok)\n",
    "    return out\n",
    "def parse_obj(l):\n",
    "    out={}\n",
    "    for tok in l[1:-1].split(','):\n",
    "        attr,val=tok.split('=')\n",
    "        val=int(val)\n",
    "        out[attr]=val\n",
    "    return out\n",
    "flows=dict(\n",
    "    l[:-1].split('{')\n",
    "    for l in flows\n",
    ")\n",
    "flows={\n",
    "    k:parse_flow(v)\n",
    "    for k,v in flows.items()\n",
    "}\n",
    "objs=[parse_obj(l) for l in objs]\n",
    "# display(flows,objs)\n",
    "\n",
    "'''\n",
    "return # of combos of attribute values\n",
    "    that will be accepted\n",
    "    if we start at flow name fname\n",
    "    and each attribute a is in the range attr_ranges[a]\n",
    "        with both endpoints included\n",
    "'''\n",
    "def enforced(constraints,branch):\n",
    "    attr,cmp,val=branch\n",
    "    lo,hi=constraints[attr]\n",
    "    if cmp=='<':\n",
    "        hi=min(hi,val-1)\n",
    "    elif cmp=='>':\n",
    "        lo=max(lo,val+1)\n",
    "    else:\n",
    "        raise\n",
    "    nconstraints=dict(constraints)\n",
    "    nconstraints[attr]=(lo,hi)\n",
    "    return nconstraints\n",
    "def branch_not(branch):\n",
    "    attr,cmp,val=branch\n",
    "    if cmp=='<':\n",
    "        return (attr,'>',val-1)\n",
    "    elif cmp=='>':\n",
    "        return (attr,'<',val+1)\n",
    "    else:\n",
    "        raise\n",
    "\n",
    "_mem={}\n",
    "def dp(fname,attr_ranges):\n",
    "    if fname=='A':\n",
    "        return math.prod(hi-lo+1 for lo,hi in attr_ranges.values())\n",
    "    if fname=='R':\n",
    "        return 0\n",
    "    state=fname,tuple(sorted(attr_ranges.items()))\n",
    "    if state in _mem:\n",
    "        return _mem[state]\n",
    "    nconstraints=dict(attr_ranges)\n",
    "    flow=flows[fname]\n",
    "    out=0\n",
    "    for branch,ret in flow[:-1]:\n",
    "        out+=dp(ret,enforced(nconstraints,branch))\n",
    "        nconstraints=enforced(nconstraints,branch_not(branch))\n",
    "#     display(nconstraints)\n",
    "    out+=dp(flow[-1],nconstraints)\n",
    "    _mem[state]=out\n",
    "    return out\n",
    "    \n",
    "dp('in',{a:(1,4000) for a in ['x','m','a','s']})"
   ]
  },
  {
   "cell_type": "markdown",
   "id": "58e8be03",
   "metadata": {},
   "source": [
    "## Day 18"
   ]
  },
  {
   "cell_type": "markdown",
   "id": "5257596b",
   "metadata": {},
   "source": [
    "### 18a"
   ]
  },
  {
   "cell_type": "code",
   "execution_count": 12,
   "id": "82797b12",
   "metadata": {},
   "outputs": [
    {
     "data": {
      "text/plain": [
       "50746.0"
      ]
     },
     "execution_count": 12,
     "metadata": {},
     "output_type": "execute_result"
    }
   ],
   "source": [
    "acts=[]\n",
    "for l in LINES():\n",
    "    direc,dist,col=l.split(' ')\n",
    "    acts.append((direc,int(dist),col[2:-1]))\n",
    "OFFSET={\n",
    "    'D':(1,0), 'R':(0,1), 'U':(-1,0), 'L':(0,-1)\n",
    "}\n",
    "v0=(0,0)\n",
    "pts=[]\n",
    "v=v0\n",
    "for direc,dist,col in acts:\n",
    "    r,c=v\n",
    "    off=OFFSET[direc]\n",
    "    v=(r+dist*off[0],c+dist*off[1])\n",
    "    pts.append(v)\n",
    "assert pts[-1]==v0\n",
    "\n",
    "def poly_area(coords):\n",
    "    return sum(\n",
    "        (y+ny)*(x-nx)\n",
    "        for (x,y),(nx,ny) in zip(coords,coords[1:]+[coords[0]])\n",
    "    )/2\n",
    "loop_len=sum(dist for direc,dist,col in acts)\n",
    "n_in=abs(poly_area(pts))+1-loop_len/2\n",
    "n_in+loop_len\n",
    "# print(abs(poly_area(loop))+1-len(loop)/2)"
   ]
  },
  {
   "cell_type": "markdown",
   "id": "376caa23",
   "metadata": {},
   "source": [
    "### 18b"
   ]
  },
  {
   "cell_type": "code",
   "execution_count": 23,
   "id": "6dc31bea",
   "metadata": {},
   "outputs": [
    {
     "data": {
      "text/plain": [
       "70086216556038.0"
      ]
     },
     "execution_count": 23,
     "metadata": {},
     "output_type": "execute_result"
    }
   ],
   "source": [
    "acts=[]\n",
    "for l in LINES():\n",
    "    col=l.split(' ')[-1][2:-1]\n",
    "#     print(col)\n",
    "    dist=int(col[:-1],16)\n",
    "    direc=['R','D','L','U'][int(col[-1])]\n",
    "#     print(col,dist,direc)\n",
    "    acts.append((direc,dist))\n",
    "\n",
    "OFFSET={\n",
    "    'D':(1,0), 'R':(0,1), 'U':(-1,0), 'L':(0,-1)\n",
    "}\n",
    "v0=(0,0)\n",
    "pts=[]\n",
    "v=v0\n",
    "for direc,dist in acts:\n",
    "    r,c=v\n",
    "    off=OFFSET[direc]\n",
    "    v=(r+dist*off[0],c+dist*off[1])\n",
    "    pts.append(v)\n",
    "assert pts[-1]==v0\n",
    "\n",
    "def poly_area(coords):\n",
    "    return sum(\n",
    "        (y+ny)*(x-nx)\n",
    "        for (x,y),(nx,ny) in zip(coords,coords[1:]+[coords[0]])\n",
    "    )/2\n",
    "loop_len=sum(dist for direc,dist in acts)\n",
    "n_in=abs(poly_area(pts))+1-loop_len/2\n",
    "n_in+loop_len\n",
    "# print(abs(poly_area(loop))+1-len(loop)/2)"
   ]
  },
  {
   "cell_type": "markdown",
   "id": "0a3c050d",
   "metadata": {},
   "source": [
    "## Day 17"
   ]
  },
  {
   "cell_type": "markdown",
   "id": "dfc54d47",
   "metadata": {},
   "source": [
    "### 17a"
   ]
  },
  {
   "cell_type": "code",
   "execution_count": 13,
   "id": "9acdaf54",
   "metadata": {},
   "outputs": [
    {
     "data": {
      "text/plain": [
       "967"
      ]
     },
     "execution_count": 13,
     "metadata": {},
     "output_type": "execute_result"
    }
   ],
   "source": [
    "grid=[[int(v) for v in l] for l in LINES()]\n",
    "DR,DC=[1,0,-1,0],[0,1,0,-1]\n",
    "def solve(grid):\n",
    "    R,C=len(grid),len(grid[0])\n",
    "    #don't include start pt unless we enter it again\n",
    "    cost={(0,0,d):0 for d in range(4)}\n",
    "    front=set(cost.keys())\n",
    "    while len(front)>0:\n",
    "        v=min(front,key=lambda v:cost[v])\n",
    "        front.remove(v)\n",
    "        r,c,d=v\n",
    "        for s in range(1,4):\n",
    "            nr,nc=r+DR[d]*s,c+DC[d]*s\n",
    "            if 0<=nr and nr<R and 0<=nc and nc<C:\n",
    "                ncost=cost[v]+sum(\n",
    "                    grid[r+DR[d]*i][c+DC[d]*i]\n",
    "                    for i in range(1,s+1)\n",
    "                )\n",
    "                for rot in [-1,1]:\n",
    "                    nd=(d+rot)%4\n",
    "                    nv=(nr,nc,nd)\n",
    "                    if ncost<cost.get(nv,float('inf')):\n",
    "                        cost[nv]=ncost\n",
    "                        front.add(nv)\n",
    "#     display(cost)\n",
    "#     display(R,C,[cost.get((R-1,C-1,d),float('inf')) for d in range(4)])\n",
    "#     path=[]\n",
    "#     v=min([(R-1,C-1,d) for d in range(4)],key=lambda v:cost.get(v,float('inf')))\n",
    "#     display(v)\n",
    "#     while v!=0:\n",
    "        \n",
    "    return min(cost.get((R-1,C-1,d),float('inf')) for d in range(4))\n",
    "solve(grid)"
   ]
  },
  {
   "cell_type": "markdown",
   "id": "5e696358",
   "metadata": {},
   "source": [
    "### 17b"
   ]
  },
  {
   "cell_type": "code",
   "execution_count": 16,
   "id": "9be9bc44",
   "metadata": {},
   "outputs": [
    {
     "data": {
      "text/plain": [
       "1101"
      ]
     },
     "execution_count": 16,
     "metadata": {},
     "output_type": "execute_result"
    }
   ],
   "source": [
    "grid=[[int(v) for v in l] for l in LINES()]\n",
    "DR,DC=[1,0,-1,0],[0,1,0,-1]\n",
    "def solve(grid):\n",
    "    R,C=len(grid),len(grid[0])\n",
    "    #don't include start pt unless we enter it again\n",
    "    cost={(0,0,d):0 for d in range(4)}\n",
    "    front=set(cost.keys())\n",
    "    while len(front)>0:\n",
    "        v=min(front,key=lambda v:cost[v])\n",
    "        front.remove(v)\n",
    "        r,c,d=v\n",
    "        for s in range(4,11):\n",
    "            nr,nc=r+DR[d]*s,c+DC[d]*s\n",
    "            if 0<=nr and nr<R and 0<=nc and nc<C:\n",
    "                ncost=cost[v]+sum(\n",
    "                    grid[r+DR[d]*i][c+DC[d]*i]\n",
    "                    for i in range(1,s+1)\n",
    "                )\n",
    "                for rot in [-1,1]:\n",
    "                    nd=(d+rot)%4\n",
    "                    nv=(nr,nc,nd)\n",
    "                    if ncost<cost.get(nv,float('inf')):\n",
    "                        cost[nv]=ncost\n",
    "                        front.add(nv)\n",
    "    return min(cost.get((R-1,C-1,d),float('inf')) for d in range(4))\n",
    "solve(grid)"
   ]
  },
  {
   "cell_type": "markdown",
   "id": "ed679e7c",
   "metadata": {},
   "source": [
    "## Day 16"
   ]
  },
  {
   "cell_type": "markdown",
   "id": "1d2d1155",
   "metadata": {},
   "source": [
    "### 16a"
   ]
  },
  {
   "cell_type": "code",
   "execution_count": 16,
   "id": "3c212863",
   "metadata": {
    "scrolled": false
   },
   "outputs": [
    {
     "data": {
      "text/plain": [
       "6978"
      ]
     },
     "execution_count": 16,
     "metadata": {},
     "output_type": "execute_result"
    }
   ],
   "source": [
    "grid=LINES()\n",
    "def transform(obj,od):\n",
    "    if obj=='.':\n",
    "        return [od]\n",
    "    elif obj=='/':\n",
    "        return [[1,0,3,2][od]]\n",
    "    elif obj=='\\\\':\n",
    "        return [[3,2,1,0][od]]\n",
    "    elif obj=='-':\n",
    "        return [[0],[0,2],[2],[0,2]][od]\n",
    "    elif obj=='|':\n",
    "        return [[1,3],[1],[1,3],[3]][od]\n",
    "    else:\n",
    "        raise\n",
    "    \n",
    "def beam_region(grid):\n",
    "    R,C=len(grid),len(grid[0])\n",
    "    DR,DC=[0,-1,0,1],[1,0,-1,0]\n",
    "    #(r,c,d)=at loc (r,c) in dir d\n",
    "    seen=set()\n",
    "    front=[]\n",
    "    for d in transform(grid[0][0],0):\n",
    "        v=(0,0,d)\n",
    "        seen.add(d)\n",
    "        front.append(v)\n",
    "    i=0\n",
    "    while i<len(front):\n",
    "        r,c,d=front[i]\n",
    "        nr,nc=r+DR[d],c+DC[d]\n",
    "        if 0<=nr and nr<R and 0<=nc and nc<C:\n",
    "            obj=grid[nr][nc]\n",
    "#             nds=None\n",
    "#             if obj=='.':\n",
    "#                 nds=d\n",
    "#             elif obj=='/':\n",
    "#                 nds=[1,0,3,2][d]\n",
    "#             elif obj=='\\\\':\n",
    "#                 nds=[3,2,1,0][d]\n",
    "#             elif obj=='-':\n",
    "#                 nds=[[0],[0,2],[2],[0,2]][d]\n",
    "#             elif obj=='|':\n",
    "#                 nds=[[1,3],[1],[1,3],[3]][d]\n",
    "#             else:\n",
    "#                 raise\n",
    "            nds=transform(obj,d)\n",
    "            if isinstance(nds,int):\n",
    "                nds=[nds]\n",
    "            for nd in nds:\n",
    "                nv=(nr,nc,nd)\n",
    "                if nv not in seen:\n",
    "                    seen.add(nv)\n",
    "                    front.append(nv)\n",
    "        i+=1\n",
    "    return front\n",
    "R,C=len(grid),len(grid[0])\n",
    "region=beam_region(grid)\n",
    "cnt=[[0]*C for _ in range(R)]\n",
    "for r,c,d in region:\n",
    "    cnt[r][c]+=1\n",
    "# print('\\n'.join(''.join(str({0:'.',1:'#'}.get(v,v)) for v in row) for row in cnt))\n",
    "len(set((r,c) for r,c,d in region))"
   ]
  },
  {
   "cell_type": "markdown",
   "id": "6eee9f82",
   "metadata": {},
   "source": [
    "### 16b"
   ]
  },
  {
   "cell_type": "code",
   "execution_count": 20,
   "id": "50659f5b",
   "metadata": {},
   "outputs": [
    {
     "data": {
      "text/plain": [
       "7315"
      ]
     },
     "execution_count": 20,
     "metadata": {},
     "output_type": "execute_result"
    }
   ],
   "source": [
    "grid=LINES()\n",
    "def transform(obj,od):\n",
    "    if obj=='.':\n",
    "        return [od]\n",
    "    elif obj=='/':\n",
    "        return [[1,0,3,2][od]]\n",
    "    elif obj=='\\\\':\n",
    "        return [[3,2,1,0][od]]\n",
    "    elif obj=='-':\n",
    "        return [[0],[0,2],[2],[0,2]][od]\n",
    "    elif obj=='|':\n",
    "        return [[1,3],[1],[1,3],[3]][od]\n",
    "    else:\n",
    "        raise\n",
    "    \n",
    "def beam_region(grid,r0,c0,d0):\n",
    "    R,C=len(grid),len(grid[0])\n",
    "    DR,DC=[0,-1,0,1],[1,0,-1,0]\n",
    "    #(r,c,d)=at loc (r,c) in dir d\n",
    "    seen=set()\n",
    "    front=[]\n",
    "    for d in transform(grid[r0][c0],d0):\n",
    "        v=(r0,c0,d)\n",
    "        seen.add(d)\n",
    "        front.append(v)\n",
    "    i=0\n",
    "    while i<len(front):\n",
    "        r,c,d=front[i]\n",
    "        nr,nc=r+DR[d],c+DC[d]\n",
    "        if 0<=nr and nr<R and 0<=nc and nc<C:\n",
    "            obj=grid[nr][nc]\n",
    "            nds=transform(obj,d)\n",
    "            if isinstance(nds,int):\n",
    "                nds=[nds]\n",
    "            for nd in nds:\n",
    "                nv=(nr,nc,nd)\n",
    "                if nv not in seen:\n",
    "                    seen.add(nv)\n",
    "                    front.append(nv)\n",
    "        i+=1\n",
    "    return front\n",
    "def coverage(region):\n",
    "    return len(set((r,c) for r,c,d in region))\n",
    "R,C=len(grid),len(grid[0])\n",
    "max([\n",
    "    v\n",
    "    for r in range(R)\n",
    "    for v in [\n",
    "        coverage(beam_region(grid,r,0,0)),\n",
    "        coverage(beam_region(grid,r,C-1,2)),\n",
    "    ]\n",
    "]+[\n",
    "    v\n",
    "    for c in range(C)\n",
    "    for v in [\n",
    "        coverage(beam_region(grid,0,c,3)),\n",
    "        coverage(beam_region(grid,R-1,c,1)),\n",
    "    ]\n",
    "])"
   ]
  },
  {
   "cell_type": "markdown",
   "id": "6a181690",
   "metadata": {},
   "source": [
    "## Day 15"
   ]
  },
  {
   "cell_type": "markdown",
   "id": "b3d6f651",
   "metadata": {},
   "source": [
    "### 15a"
   ]
  },
  {
   "cell_type": "code",
   "execution_count": 8,
   "id": "362b499d",
   "metadata": {},
   "outputs": [
    {
     "data": {
      "text/plain": [
       "504449"
      ]
     },
     "execution_count": 8,
     "metadata": {},
     "output_type": "execute_result"
    }
   ],
   "source": [
    "toks=LINES()[0].split(',')\n",
    "def H(s):\n",
    "    out=0\n",
    "    for ch in s:\n",
    "        out=( (out+ord(ch))*17 ) % 256\n",
    "    return out\n",
    "sum(H(s) for s in toks)\n",
    "# for s in toks:\n",
    "#     print(s,H(s))"
   ]
  },
  {
   "cell_type": "markdown",
   "id": "abc6abcd",
   "metadata": {},
   "source": [
    "### 15b"
   ]
  },
  {
   "cell_type": "code",
   "execution_count": 18,
   "id": "c42bf53b",
   "metadata": {},
   "outputs": [
    {
     "data": {
      "text/plain": [
       "262044"
      ]
     },
     "execution_count": 18,
     "metadata": {},
     "output_type": "execute_result"
    }
   ],
   "source": [
    "toks=LINES()[0].split(',')\n",
    "def H(s):\n",
    "    out=0\n",
    "    for ch in s:\n",
    "        out=( (out+ord(ch))*17 ) % 256\n",
    "    return out\n",
    "\n",
    "boxes=[[] for _ in range(256)]\n",
    "for s in toks:\n",
    "    label,action=None,None\n",
    "    if s.find('=')>=0:\n",
    "        label,action=s.split('=')\n",
    "        action=int(action)\n",
    "    else:\n",
    "        assert s[-1]=='-'\n",
    "        label,action=s[:-1],'-'\n",
    "    # print(s,label,action,H(label))\n",
    "    h=H(label)\n",
    "    box=boxes[h]\n",
    "    if action=='-':\n",
    "        for i in range(len(box)-1,-1,-1):\n",
    "            if box[i][0]==label:\n",
    "                del box[i]\n",
    "    else:\n",
    "        done=False\n",
    "        for i in range(len(box)):\n",
    "            if box[i][0]==label:\n",
    "                box[i]=(label,action)\n",
    "                done=True\n",
    "                break\n",
    "        if not done:\n",
    "            box.append((label,action))\n",
    "#     display({i:box for i,box in enumerate(boxes) if len(box)>0})\n",
    "sum((bi+1)*(i+1)*boxes[bi][i][1] for bi in range(len(boxes)) for i in range(len(boxes[bi])))"
   ]
  },
  {
   "cell_type": "markdown",
   "id": "154791a6",
   "metadata": {},
   "source": [
    "## Day 14"
   ]
  },
  {
   "cell_type": "markdown",
   "id": "906ad6eb",
   "metadata": {},
   "source": [
    "### 14a"
   ]
  },
  {
   "cell_type": "code",
   "execution_count": 50,
   "id": "17ce0b21",
   "metadata": {},
   "outputs": [
    {
     "data": {
      "text/plain": [
       "113078"
      ]
     },
     "execution_count": 50,
     "metadata": {},
     "output_type": "execute_result"
    }
   ],
   "source": [
    "grid=LINES()\n",
    "def rnorth(grid):\n",
    "    R,C=len(grid),len(grid[0])\n",
    "    out=[['.']*C for r in range(R)]\n",
    "    for c in range(C):\n",
    "        roll_i=0\n",
    "        for r in range(R):\n",
    "            if grid[r][c]=='#':\n",
    "                out[r][c]='#'\n",
    "                roll_i=r+1\n",
    "            elif grid[r][c]=='O':\n",
    "                out[roll_i][c]='O'\n",
    "                roll_i+=1\n",
    "    return out\n",
    "def load(grid):\n",
    "    R,C=len(grid),len(grid[0])\n",
    "    return sum(\n",
    "        R-r\n",
    "        for r in range(R)\n",
    "        for c in range(C)\n",
    "        if grid[r][c]=='O'\n",
    "    )\n",
    "load(rnorth(grid))"
   ]
  },
  {
   "cell_type": "markdown",
   "id": "8fa5a486",
   "metadata": {},
   "source": [
    "### 14b"
   ]
  },
  {
   "cell_type": "code",
   "execution_count": 75,
   "id": "a1092616",
   "metadata": {},
   "outputs": [
    {
     "name": "stdout",
     "output_type": "stream",
     "text": [
      "117 103 1000000000\n"
     ]
    },
    {
     "data": {
      "text/plain": [
       "94255"
      ]
     },
     "execution_count": 75,
     "metadata": {},
     "output_type": "execute_result"
    }
   ],
   "source": [
    "grid=LINES()\n",
    "def rnorth(grid):\n",
    "    R,C=len(grid),len(grid[0])\n",
    "    out=[['.']*C for r in range(R)]\n",
    "    for c in range(C):\n",
    "        roll_i=0\n",
    "        for r in range(R):\n",
    "            if grid[r][c]=='#':\n",
    "                out[r][c]='#'\n",
    "                roll_i=r+1\n",
    "            elif grid[r][c]=='O':\n",
    "                out[roll_i][c]='O'\n",
    "                roll_i+=1\n",
    "    return out\n",
    "def rsouth(grid):\n",
    "    return rnorth(grid[::-1])[::-1]\n",
    "def rwest(grid):\n",
    "    R,C=len(grid),len(grid[0])\n",
    "    out=[['.']*C for r in range(R)]\n",
    "    for r in range(R):\n",
    "        roll_i=0\n",
    "        for c in range(C):\n",
    "            ch=grid[r][c]\n",
    "            if ch=='#':\n",
    "                out[r][c]='#'\n",
    "                roll_i=c+1\n",
    "            elif ch=='O':\n",
    "                out[r][roll_i]='O'\n",
    "                roll_i+=1\n",
    "    return out\n",
    "def rrev(grid):\n",
    "    return [row[::-1] for row in grid]\n",
    "def reast(grid):\n",
    "    return rrev(rwest(rrev(grid)))\n",
    "def spin(grid):\n",
    "    return reast(rsouth(rwest(rnorth(grid))))\n",
    "def load(grid):\n",
    "    R,C=len(grid),len(grid[0])\n",
    "    return sum(\n",
    "        R-r\n",
    "        for r in range(R)\n",
    "        for c in range(C)\n",
    "        if grid[r][c]=='O'\n",
    "    )\n",
    "def encode(grid):\n",
    "    return '\\n'.join(''.join(list(row)) for row in grid)\n",
    "\n",
    "# display(grid)\n",
    "\n",
    "hist={encode(grid):0}\n",
    "M=grid\n",
    "back_i=None\n",
    "for _ in range(1000):\n",
    "    M=spin(M)\n",
    "    c=encode(M)\n",
    "    if c in hist:\n",
    "        back_i=hist[c]\n",
    "        break\n",
    "    hist[c]=len(hist)\n",
    "#     display([''.join(row) for row in M])\n",
    "\n",
    "'''\n",
    "find t-th term (0-indexed) in sequence\n",
    "0,1,...,h-1, b,b+1,...,h-1, b,b+1,...,h-1, ...\n",
    "'''\n",
    "def solve(h,b,t):\n",
    "    print(h,b,t)\n",
    "    if t<h:\n",
    "        return t\n",
    "    period=h-b\n",
    "#     print(period)\n",
    "    return ((t-h)%period)+b\n",
    "ans_i=solve(len(hist),back_i,10**9)\n",
    "hist_list={i:v for v,i in hist.items()}\n",
    "def to_grid(code):\n",
    "    return code.split('\\n')\n",
    "load(to_grid(hist_list[ans_i]))"
   ]
  },
  {
   "cell_type": "markdown",
   "id": "ea16065a",
   "metadata": {},
   "source": [
    "## Day 13"
   ]
  },
  {
   "cell_type": "markdown",
   "id": "8face59b",
   "metadata": {},
   "source": [
    "### 13a"
   ]
  },
  {
   "cell_type": "code",
   "execution_count": 26,
   "id": "2f2f6a8f",
   "metadata": {},
   "outputs": [
    {
     "data": {
      "text/plain": [
       "33195"
      ]
     },
     "execution_count": 26,
     "metadata": {},
     "output_type": "execute_result"
    }
   ],
   "source": [
    "def is_refl(vs,i):\n",
    "    if i<0 or i+1>=len(vs):\n",
    "        return False\n",
    "    l,r=i,i+1\n",
    "    while l>=0 and r<len(vs):\n",
    "        if vs[l]!=vs[r]:\n",
    "            return False\n",
    "        l-=1\n",
    "        r+=1\n",
    "    return True\n",
    "def pts(rows):\n",
    "    R,C=len(rows),len(rows[0])\n",
    "    clms=[''.join(rows[r][c] for r in range(R)) for c in range(C)]\n",
    "    ris=[r for r in range(R) if is_refl(rows,r)]\n",
    "    cis=[c for c in range(C) if is_refl(clms,c)]\n",
    "    assert len(ris)+len(cis)==1, (ris,cis)\n",
    "#     print(ris,cis)\n",
    "    return 100*(ris[0]+1) if len(ris)>0 else (cis[0]+1)\n",
    "\n",
    "grids=[tok.split('\\n') for tok in '\\n'.join(LINES()).split('\\n\\n')]\n",
    "grids\n",
    "\n",
    "sum([pts(M) for M in grids])"
   ]
  },
  {
   "cell_type": "markdown",
   "id": "b17c364a",
   "metadata": {},
   "source": [
    "### 13b"
   ]
  },
  {
   "cell_type": "code",
   "execution_count": 44,
   "id": "8f7729bc",
   "metadata": {
    "scrolled": true
   },
   "outputs": [
    {
     "data": {
      "text/plain": [
       "31836"
      ]
     },
     "execution_count": 44,
     "metadata": {},
     "output_type": "execute_result"
    }
   ],
   "source": [
    "def is_refl(vs,i):\n",
    "    if i<0 or i+1>=len(vs):\n",
    "        return False\n",
    "    l,r=i,i+1\n",
    "    while l>=0 and r<len(vs):\n",
    "        if vs[l]!=vs[r]:\n",
    "            return False\n",
    "        l-=1\n",
    "        r+=1\n",
    "    return True\n",
    "def refl_coords(rows):\n",
    "    R,C=len(rows),len(rows[0])\n",
    "    clms=[''.join(rows[r][c] for r in range(R)) for c in range(C)]\n",
    "    ris=[r for r in range(R) if is_refl(rows,r)]\n",
    "    cis=[c for c in range(C) if is_refl(clms,c)]\n",
    "    return ris,cis\n",
    "def smudge(rows):\n",
    "    R,C=len(rows),len(rows[0])\n",
    "    refls=refl_coords(rows)\n",
    "    out=None\n",
    "    b_unseen_refls=None\n",
    "    for r in range(R):\n",
    "        for c in range(C):\n",
    "            M=[list(row) for row in rows]\n",
    "            M[r][c]=('#' if M[r][c]=='.' else '.')\n",
    "            M=[''.join(row) for row in M]\n",
    "            nris,ncis=refl_coords(M)\n",
    "            if len(set(nris)-set(refls[0]))>0 or len(set(ncis)-set(refls[1]))>0:\n",
    "#                 print(r,c,refls,nris,ncis)\n",
    "                unseens=(set(nris)-set(refls[0]),set(ncis)-set(refls[1]))\n",
    "                if b_unseen_refls is None:\n",
    "                    b_unseen_refls=unseens\n",
    "                assert b_unseen_refls==unseens\n",
    "                assert len(unseens[0])+len(unseens[1])==1\n",
    "                out=list([100*(v+1) for v in unseens[0]]+[v+1 for v in unseens[1]])[0]\n",
    "    assert out is not None\n",
    "    return out\n",
    "\n",
    "grids=[tok.split('\\n') for tok in '\\n'.join(LINES()).split('\\n\\n')]\n",
    "grids\n",
    "\n",
    "sum([smudge(M) for M in grids])"
   ]
  },
  {
   "cell_type": "markdown",
   "id": "c15bfa6c",
   "metadata": {},
   "source": [
    "## Day 12"
   ]
  },
  {
   "cell_type": "markdown",
   "id": "4860b007",
   "metadata": {},
   "source": [
    "### 12a"
   ]
  },
  {
   "cell_type": "code",
   "execution_count": 42,
   "id": "0e7c86c2",
   "metadata": {},
   "outputs": [
    {
     "data": {
      "text/plain": [
       "7792"
      ]
     },
     "execution_count": 42,
     "metadata": {},
     "output_type": "execute_result"
    }
   ],
   "source": [
    "masks,runss=[],[]\n",
    "for l in LINES():\n",
    "    m,rs=l.split()\n",
    "    masks.append(m)\n",
    "    runss.append([int(v) for v in rs.split(',')])\n",
    "masks,runss\n",
    "def get_runs(s):\n",
    "    c_='#'\n",
    "    out=[]\n",
    "    i=0\n",
    "    while i<len(s):\n",
    "        if s[i]==c_:\n",
    "            j=i\n",
    "            while j<len(s) and s[j]==c_:\n",
    "                j+=1\n",
    "            out.append(j-i)\n",
    "            i=j\n",
    "        else:\n",
    "            i+=1\n",
    "    return out\n",
    "ans=0\n",
    "for m,rs in zip(masks,runss):\n",
    "    idxs=[c for c in range(len(m)) if m[c]=='?']\n",
    "#     print(m,rs,idxs)\n",
    "    cnt=0\n",
    "    for states in it.product(['.','#'],repeat=len(idxs)):\n",
    "        nm=list(m)\n",
    "        for i,v in zip(idxs,states):\n",
    "            nm[i]=v\n",
    "        nm=''.join(nm)\n",
    "#         print('\\t',states,nm,get_runs(nm))\n",
    "        if get_runs(nm)==rs:\n",
    "            cnt+=1\n",
    "#     print(cnt)\n",
    "    ans+=cnt\n",
    "ans"
   ]
  },
  {
   "cell_type": "markdown",
   "id": "6700538f",
   "metadata": {},
   "source": [
    "### 12b"
   ]
  },
  {
   "cell_type": "code",
   "execution_count": 41,
   "id": "648e7eec",
   "metadata": {},
   "outputs": [
    {
     "data": {
      "text/plain": [
       "13012052341533"
      ]
     },
     "execution_count": 41,
     "metadata": {},
     "output_type": "execute_result"
    }
   ],
   "source": [
    "masks,runss=[],[]\n",
    "for l in LINES():\n",
    "    m,rs=l.split()\n",
    "    masks.append(m)\n",
    "    runss.append([int(v) for v in rs.split(',')])\n",
    "masks,runss\n",
    "\n",
    "C_='#'\n",
    "def get_runs(s):\n",
    "    out=[]\n",
    "    i=0\n",
    "    while i<len(s):\n",
    "        if s[i]==C_:\n",
    "            j=i\n",
    "            while j<len(s) and s[j]==C_:\n",
    "                j+=1\n",
    "            out.append(j-i)\n",
    "            i=j\n",
    "        else:\n",
    "            i+=1\n",
    "    return out\n",
    "\n",
    "def dp(M,runs):\n",
    "    runs=tuple(runs)\n",
    "    mem={}\n",
    "    def solve(M,runs,ntrailing):\n",
    "        out=None\n",
    "        state=(M,runs,ntrailing)\n",
    "        if state in mem:\n",
    "            out=mem[state]\n",
    "        else:\n",
    "            if M=='':\n",
    "                out=1 if runs==(tuple() if ntrailing==0 else (ntrailing,)) else 0\n",
    "            elif M[-1]=='#':\n",
    "                out=solve(M[:-1],runs,ntrailing+1)\n",
    "            elif M[-1]=='.':\n",
    "                if ntrailing==0:\n",
    "                    out=solve(M[:-1],runs,0)\n",
    "                else:\n",
    "                    out=solve(M[:-1],runs[:-1],0) if len(runs)>0 and runs[-1]==ntrailing else 0\n",
    "            else:\n",
    "                assert M[-1]=='?'\n",
    "                out=solve(M[:-1]+'.',runs,ntrailing)+solve(M[:-1]+'#',runs,ntrailing)\n",
    "#             print('\\t',M,runs,ntrailing,':',out)\n",
    "        mem[state]=out\n",
    "        return out\n",
    "#     display(mem)\n",
    "    return solve(M,runs,0)\n",
    "\n",
    "ans=0\n",
    "for m,rs in zip(masks,runss):\n",
    "    cnt=dp('?'.join([m]*5),rs*5)\n",
    "#     print(cnt)\n",
    "    ans+=cnt\n",
    "ans"
   ]
  },
  {
   "cell_type": "code",
   "execution_count": null,
   "id": "183a7ece",
   "metadata": {},
   "outputs": [],
   "source": []
  },
  {
   "cell_type": "code",
   "execution_count": null,
   "id": "0cf8176f",
   "metadata": {},
   "outputs": [],
   "source": []
  },
  {
   "cell_type": "code",
   "execution_count": null,
   "id": "7f919926",
   "metadata": {},
   "outputs": [],
   "source": []
  },
  {
   "cell_type": "code",
   "execution_count": null,
   "id": "efd210af",
   "metadata": {},
   "outputs": [],
   "source": []
  },
  {
   "cell_type": "code",
   "execution_count": null,
   "id": "426bcecd",
   "metadata": {},
   "outputs": [],
   "source": []
  },
  {
   "cell_type": "markdown",
   "id": "05217b1e",
   "metadata": {},
   "source": [
    "## Day 11"
   ]
  },
  {
   "cell_type": "markdown",
   "id": "36aeb0f4",
   "metadata": {},
   "source": [
    "### 11a"
   ]
  },
  {
   "cell_type": "code",
   "execution_count": 18,
   "id": "27d98de8",
   "metadata": {},
   "outputs": [
    {
     "data": {
      "text/plain": [
       "9608724"
      ]
     },
     "execution_count": 18,
     "metadata": {},
     "output_type": "execute_result"
    }
   ],
   "source": [
    "grid=LINES()\n",
    "R,C=len(grid),len(grid[0])\n",
    "pts=[(r,c) for r in range(R) for c in range(C) if grid[r][c]=='#']\n",
    "ptrs,ptcs={r for r,c in pts},{c for r,c in pts}\n",
    "rgaps,cgaps=[r for r in range(R) if r not in ptrs],[c for c in range(C) if c not in ptcs]\n",
    "# display(rgaps,cgaps)\n",
    "# xgrow,cgrow=[(1 if r in ptrs else 2) for r in range(R)],[(1 if c in ptcs else 2) for c in range(C)]\n",
    "# xgrow,cgrow\n",
    "def expand(A):\n",
    "    A=set(A)\n",
    "    A.add(0)\n",
    "    A=sorted(A)\n",
    "    out={}\n",
    "    pad=0\n",
    "    for i in range(len(A)):\n",
    "        a=A[i]\n",
    "        if i>0 and A[i]-A[i-1]>1:\n",
    "            pad+=(A[i]-A[i-1])-1\n",
    "        out[a]=a+pad\n",
    "    return out\n",
    "rM,cM=expand(ptrs),expand(ptcs)\n",
    "npts=[(rM[r],cM[c]) for r,c in pts]\n",
    "def dist(p0,p1):\n",
    "    return sum(abs(p0[i]-p1[i]) for i in range(2))\n",
    "sum(dist(p0,p1) for p0,p1 in it.combinations(npts,2))"
   ]
  },
  {
   "cell_type": "markdown",
   "id": "80869f14",
   "metadata": {},
   "source": [
    "### 11b"
   ]
  },
  {
   "cell_type": "code",
   "execution_count": 39,
   "id": "c9aad941",
   "metadata": {},
   "outputs": [
    {
     "data": {
      "text/plain": [
       "904633799472"
      ]
     },
     "execution_count": 39,
     "metadata": {},
     "output_type": "execute_result"
    }
   ],
   "source": [
    "grid=LINES()\n",
    "R,C=len(grid),len(grid[0])\n",
    "pts=[(r,c) for r in range(R) for c in range(C) if grid[r][c]=='#']\n",
    "ptrs,ptcs={r for r,c in pts},{c for r,c in pts}\n",
    "rgaps,cgaps=[r for r in range(R) if r not in ptrs],[c for c in range(C) if c not in ptcs]\n",
    "# display(rgaps,cgaps)\n",
    "G=10**6\n",
    "xgrow=np.array([(1 if r in ptrs else G) for r in range(R)])\n",
    "cgrow=np.array([(1 if c in ptcs else G) for c in range(C)])\n",
    "nxs,ncs=np.cumsum(xgrow)-1,np.cumsum(cgrow)-1\n",
    "xgrow,cgrow,nxs,ncs\n",
    "npts=[(nxs[r],ncs[c]) for r,c in pts]\n",
    "# display(npts)\n",
    "def dist(p0,p1):\n",
    "    return sum(abs(p0[i]-p1[i]) for i in range(2))\n",
    "sum(dist(p0,p1) for p0,p1 in it.combinations(npts,2))"
   ]
  },
  {
   "cell_type": "markdown",
   "id": "1b3081e9",
   "metadata": {},
   "source": [
    "## Day 10"
   ]
  },
  {
   "cell_type": "markdown",
   "id": "8eb077ba",
   "metadata": {},
   "source": [
    "### 10a"
   ]
  },
  {
   "cell_type": "code",
   "execution_count": 44,
   "id": "d293a1bc",
   "metadata": {},
   "outputs": [
    {
     "name": "stdout",
     "output_type": "stream",
     "text": [
      "80\n"
     ]
    }
   ],
   "source": [
    "grid=LINES()\n",
    "dcoordss={\n",
    "    '|':[(1,0),(-1,0)],\n",
    "    '-':[(0,1),(0,-1)],\n",
    "    'L':[(-1,0),(0,1)],\n",
    "    'J':[(-1,0),(0,-1)],\n",
    "    '7':[(1,0),(0,-1)],\n",
    "    'F':[(1,0),(0,1)],\n",
    "}\n",
    "def grid2graph(grid):\n",
    "    graph={}\n",
    "    R,C=len(grid),len(grid[0])\n",
    "    for r in range(R):\n",
    "        for c in range(C):\n",
    "            t=grid[r][c]\n",
    "            neighbors=[]\n",
    "            for dr,dc in dcoordss.get(t,[]):\n",
    "                nr,nc=r+dr,c+dc\n",
    "                if 0<=nr and nr<R and 0<=nc and nc<C:\n",
    "                    neighbors.append((nr,nc))\n",
    "            if len(neighbors)>0:\n",
    "                graph[(r,c)]=neighbors\n",
    "    return graph\n",
    "G=grid2graph(grid)\n",
    "\n",
    "R,C=len(grid),len(grid[0])\n",
    "starts=[(r,c) for r in range(R) for c in range(C) if grid[r][c]=='S']\n",
    "assert len(starts)==1\n",
    "(sr,sc)=starts[0]\n",
    "# display(G)\n",
    "G[(sr,sc)]=[(r,c) for (r,c) in G if (sr,sc) in G[(r,c)]]\n",
    "# display(G)\n",
    "\n",
    "def bfs(G,v0):\n",
    "    out=[v0]\n",
    "    depths={v0:0}\n",
    "    i=0\n",
    "    while i<len(out):\n",
    "        v=out[i]\n",
    "        for n in G[v]:\n",
    "            if n not in depths:\n",
    "                depths[n]=depths[v]+1\n",
    "                out.append(n)\n",
    "        i+=1\n",
    "    return depths\n",
    "print(max(bfs(G,(sr,sc)).values()))"
   ]
  },
  {
   "cell_type": "markdown",
   "id": "d34e1953",
   "metadata": {},
   "source": [
    "### 10b"
   ]
  },
  {
   "cell_type": "code",
   "execution_count": 75,
   "id": "75d562d8",
   "metadata": {},
   "outputs": [
    {
     "name": "stdout",
     "output_type": "stream",
     "text": [
      "start joint: L\n",
      "371.0\n"
     ]
    }
   ],
   "source": [
    "grid=LINES()\n",
    "dcoordss={\n",
    "    '|':[(1,0),(-1,0)],\n",
    "    '-':[(0,1),(0,-1)],\n",
    "    'L':[(-1,0),(0,1)],\n",
    "    'J':[(-1,0),(0,-1)],\n",
    "    '7':[(1,0),(0,-1)],\n",
    "    'F':[(1,0),(0,1)],\n",
    "    '.':[(1,0),(-1,0),(0,1),(0,-1)]\n",
    "}\n",
    "def neighbors_of(R,C,r,c,dcs):\n",
    "    out=[]\n",
    "    for dr,dc in dcs:\n",
    "        nr,nc=r+dr,c+dc\n",
    "        if 0<=nr and nr<R and 0<=nc and nc<C:\n",
    "            out.append((nr,nc))\n",
    "    return out\n",
    "def grid2graph(grid):\n",
    "    graph={}\n",
    "    R,C=len(grid),len(grid[0])\n",
    "    for r in range(R):\n",
    "        for c in range(C):\n",
    "            t=grid[r][c]\n",
    "            neighbors=[]\n",
    "#             for dr,dc in dcoordss.get(t,[]):\n",
    "#                 nr,nc=r+dr,c+dc\n",
    "#                 if (0<=nr and nr<R and 0<=nc and nc<C\n",
    "#                     and (t!='.' or grid[nr][nc]=='.')):\n",
    "#                     neighbors.append((nr,nc))\n",
    "            for nr,nc in neighbors_of(R,C,r,c,dcoordss.get(t,[])):\n",
    "                if t!='.' or grid[nr][nc]=='.':\n",
    "                    neighbors.append((nr,nc))\n",
    "            if len(neighbors)>0:\n",
    "                graph[(r,c)]=neighbors\n",
    "    return graph\n",
    "G=grid2graph(grid)\n",
    "\n",
    "R,C=len(grid),len(grid[0])\n",
    "starts=[(r,c) for r in range(R) for c in range(C) if grid[r][c]=='S']\n",
    "assert len(starts)==1\n",
    "(sr,sc)=starts[0]\n",
    "# display(G)\n",
    "G[(sr,sc)]=[(r,c) for (r,c) in G if (sr,sc) in G[(r,c)]]\n",
    "start_typs=[typ for typ,dcs in dcoordss.items() if set(G[(sr,sc)])==set(neighbors_of(R,C,sr,sc,dcs))]\n",
    "assert len(start_typs)\n",
    "start_typ,=start_typs\n",
    "print('start joint:',start_typ)\n",
    "# display(G)\n",
    "\n",
    "def dfs(G,v0):\n",
    "    # max recursion depth exceeded\n",
    "#     seen={v0}\n",
    "#     seen_l=[v0]\n",
    "#     def _dfs(v):\n",
    "#         for n in G[v]:\n",
    "#             if n not in seen:\n",
    "#                 seen.add(n)\n",
    "#                 seen_l.append(n)\n",
    "#                 _dfs(n)\n",
    "#     _dfs(v0)\n",
    "#     return seen_l\n",
    "    stack=[(v0,0)]\n",
    "    out=[]\n",
    "    seen={v0}\n",
    "    while len(stack)>0:\n",
    "        si=len(stack)-1\n",
    "        v,ni=stack[si]\n",
    "        if ni==0:\n",
    "            out.append(v)\n",
    "        if ni==len(G[v]):\n",
    "            del stack[-1]\n",
    "        else:\n",
    "            n=G[v][ni]\n",
    "            if n not in seen:\n",
    "                seen.add(n)\n",
    "                stack.append((n,0))\n",
    "            ni+=1\n",
    "            stack[si]=(v,ni)\n",
    "    return out\n",
    "loop=dfs(G,(sr,sc))\n",
    "\n",
    "isolate=[\n",
    "    [\n",
    "        grid[r][c] if (r,c) in loop else '.'\n",
    "        for c in range(C)\n",
    "    ]\n",
    "    for r in range(R)\n",
    "]\n",
    "isolate[sr][sc]=start_typ\n",
    "# print('\\n'.join(''.join(row) for row in isolate))\n",
    "# print()\n",
    "# print(loop)\n",
    "\n",
    "#shoelace formula + Pick's theorem\n",
    "def poly_area(coords):\n",
    "    return sum(\n",
    "        (y+ny)*(x-nx)\n",
    "        for (x,y),(nx,ny) in zip(coords,coords[1:]+[coords[0]])\n",
    "    )/2\n",
    "print(abs(poly_area(loop))+1-len(loop)/2)\n",
    "\n",
    "# def n_in(grid):\n",
    "#     exteriors={}\n",
    "#     R,C=len(grid),len(grid[0])\n",
    "#     G=grid2graph(grid)\n",
    "#     for r in range(R):\n",
    "#         for c in range(C):\n",
    "#             if r==0 or r==R-1 or c==0 or c==C-1:\n",
    "#                 if (r,c) not in exteriors:\n",
    "#                     exteriors.update(bfs(G,(r,c)))\n",
    "# #     for r in range(R):\n",
    "# #         for c in range(C):\n",
    "# #             print((grid[r][c] if grid[r][c]!='.' else 'O' if (r,c) in exteriors else 'I'),end='')\n",
    "# #         print()\n",
    "#     return sum(\n",
    "#         1\n",
    "#         for r in range(R) for c in range(C)\n",
    "#         if grid[r][c]=='.' and (r,c) not in exteriors\n",
    "#     )\n",
    "# def n_in(grid):\n",
    "#     R,C=len(grid),len(grid[0])\n",
    "#     for r in range(R):\n",
    "#         cnt=0\n",
    "#         for c in range(C):\n",
    "#             cnt+=(0 if grid[r][c] in {'.','-'} else 1)\n",
    "#             print((grid[r][c] if grid[r][c]!='.' else 'O' if cnt%2==0 else 'I'),end='')\n",
    "#         print()\n",
    "# n_in(isolate)"
   ]
  },
  {
   "cell_type": "markdown",
   "id": "2a7295bd",
   "metadata": {},
   "source": [
    "## Day 9"
   ]
  },
  {
   "cell_type": "markdown",
   "id": "dc9cc961",
   "metadata": {},
   "source": [
    "### 9a"
   ]
  },
  {
   "cell_type": "code",
   "execution_count": 113,
   "id": "455d5f8d",
   "metadata": {},
   "outputs": [
    {
     "data": {
      "text/plain": [
       "1861775706"
      ]
     },
     "execution_count": 113,
     "metadata": {},
     "output_type": "execute_result"
    }
   ],
   "source": [
    "seqs=[[int(v) for v in l.split()] for l in LINES()]\n",
    "\n",
    "def solve(seq):\n",
    "    diffss=[seq]\n",
    "    H=seq\n",
    "    while any(v!=0 for v in H):\n",
    "        assert len(H)>0\n",
    "        H=[H[i+1]-H[i] for i in range(len(H)-1)]\n",
    "        diffss.append(H)\n",
    "    # display(diffss)\n",
    "    diffss[-1].append(0)\n",
    "    for lvl in range(len(diffss)-2,-1,-1):\n",
    "        diffss[lvl].append(diffss[lvl][-1]+diffss[lvl+1][-1])\n",
    "    # display(diffss)\n",
    "    return diffss[0][-1]\n",
    "sum(solve(S) for S in seqs)"
   ]
  },
  {
   "cell_type": "markdown",
   "id": "46c22b1b",
   "metadata": {},
   "source": [
    "### 9b"
   ]
  },
  {
   "cell_type": "code",
   "execution_count": 121,
   "id": "9d8c7715",
   "metadata": {},
   "outputs": [
    {
     "data": {
      "text/plain": [
       "1082"
      ]
     },
     "execution_count": 121,
     "metadata": {},
     "output_type": "execute_result"
    }
   ],
   "source": [
    "seqs=[[int(v) for v in l.split()] for l in LINES()]\n",
    "\n",
    "def solve(seq):\n",
    "    diffss=[seq]\n",
    "    H=seq\n",
    "    while any(v!=0 for v in H):\n",
    "        assert len(H)>0\n",
    "        H=[H[i+1]-H[i] for i in range(len(H)-1)]\n",
    "        diffss.append(H)\n",
    "    # display(diffss)\n",
    "    diffss[-1].insert(0,0)\n",
    "    for lvl in range(len(diffss)-2,-1,-1):\n",
    "        diffss[lvl].insert(0,diffss[lvl][0]-diffss[lvl+1][0])\n",
    "    # display(diffss)\n",
    "    return diffss[0][0]\n",
    "sum(solve(S) for S in seqs)"
   ]
  },
  {
   "cell_type": "markdown",
   "id": "ead7a1a2",
   "metadata": {},
   "source": [
    "## Day 8"
   ]
  },
  {
   "cell_type": "markdown",
   "id": "781b91d6",
   "metadata": {},
   "source": [
    "### 8a"
   ]
  },
  {
   "cell_type": "code",
   "execution_count": 63,
   "id": "4d5b39de",
   "metadata": {},
   "outputs": [
    {
     "data": {
      "text/plain": [
       "19783"
      ]
     },
     "execution_count": 63,
     "metadata": {},
     "output_type": "execute_result"
    }
   ],
   "source": [
    "lines=LINES()\n",
    "instr=lines[0]\n",
    "ways={}\n",
    "for l in lines[2:]:\n",
    "    v,data=l.split(' = ')\n",
    "    vl,vr=data[1:-1].split(', ')\n",
    "    ways[v]=(vl,vr)\n",
    "\n",
    "n=0\n",
    "v='AAA'\n",
    "while v!='ZZZ':\n",
    "    d=instr[n%len(instr)]\n",
    "    v=ways[v][0 if d=='L' else 1]\n",
    "    n+=1\n",
    "n"
   ]
  },
  {
   "cell_type": "markdown",
   "id": "91f556ab",
   "metadata": {},
   "source": [
    "### 8b"
   ]
  },
  {
   "cell_type": "code",
   "execution_count": 106,
   "id": "c29b203f",
   "metadata": {},
   "outputs": [
    {
     "name": "stdout",
     "output_type": "stream",
     "text": [
      "(11653, 19783, 19241, 16531, 12737, 14363)\n",
      "11657 4 need i%11653=23306\n",
      "19785 2 need i%19783=39566\n",
      "19245 4 need i%19241=38482\n",
      "16535 4 need i%16531=33062\n",
      "12743 6 need i%12737=25474\n",
      "14365 2 need i%14363=28726\n"
     ]
    },
    {
     "data": {
      "text/plain": [
       "(0, 9177460370549)"
      ]
     },
     "execution_count": 106,
     "metadata": {},
     "output_type": "execute_result"
    }
   ],
   "source": [
    "lines=LINES()\n",
    "instr=lines[0]\n",
    "ways={}\n",
    "for l in lines[2:]:\n",
    "    v,data=l.split(' = ')\n",
    "    vl,vr=data[1:-1].split(', ')\n",
    "    ways[v]=(vl,vr)\n",
    "\n",
    "loops=[]\n",
    "for v0 in ways:\n",
    "    if v0[-1]=='A':\n",
    "        start=(v0,0)\n",
    "        seen={start:0}\n",
    "        s=start\n",
    "        iback=None\n",
    "        while True:\n",
    "            v,i=s\n",
    "            d=instr[i]\n",
    "            s=(ways[v][0 if d=='L' else 1],(i+1)%len(instr))\n",
    "            if s in seen:\n",
    "                iback=seen[s]\n",
    "                break\n",
    "            seen[s]=len(seen)\n",
    "        seen_list={i:s for s,i in seen.items()}\n",
    "        loops.append((\n",
    "            seen_list,\n",
    "            iback\n",
    "        ))\n",
    "'''\n",
    "loop=(L,b)\n",
    "locations: L[0],L[1],...,L[len(L)-1],L[b],L[b+1],...\n",
    "    0<=i<len(L): at location L[i] at step i\n",
    "    larger i: at location L[b + (i-len(L))%(len(L)-b)]\n",
    "'''\n",
    "# display(loops)\n",
    "\n",
    "def loc_at_step(L,b,i):\n",
    "    n=len(L)\n",
    "    return L[i] if i<n else L[b + (i-n)%(n-b)]\n",
    "\n",
    "for i in range(max(len(L) for L,b in loops)):\n",
    "    # print([loc_at_step(L,b,i) for L,b in loops])\n",
    "    if all(loc_at_step(L,b,i)[0][-1]=='Z' for L,b in loops):\n",
    "        print(i)\n",
    "        break\n",
    "\n",
    "'''\n",
    "find some i>len(L_k) for all (L_k,b_k) in loops\n",
    "s.t. all L_k[b_k + (i-len(L_k))%(len(L_k)-b_k)] end with letter Z\n",
    "'''\n",
    "Z_idxs=[\n",
    "    [idx for idx in range(len(L)) if L[idx][0][-1]=='Z']\n",
    "    for L,b in loops\n",
    "]\n",
    "Z_idxs\n",
    "\n",
    "def gcd(a,b):\n",
    "    return gcd(b,a) if a>b else b if a==0 else gcd(a,b%a)\n",
    "def congruence_pair(r1,m1, r2,m2):\n",
    "    if m1<m2:\n",
    "        return congruence_pair(r2,m2, r1,m1)\n",
    "    r1%=m1\n",
    "    r2%=m2\n",
    "    M=(m1*m2)//gcd(m1,m2)\n",
    "    # find k1 s.t. m1*k1+r1 ~ r2 mod m2\n",
    "    for k1 in range(M//m1):\n",
    "        i=m1*k1+r1\n",
    "        if i%m2 == r2:\n",
    "            return i,M\n",
    "    return None\n",
    "\n",
    "sol_i,sol_M=0,1\n",
    "for zidx_list in it.product(*Z_idxs):\n",
    "    print(zidx_list)\n",
    "    for zidx,(L,b) in zip(zidx_list,loops):\n",
    "        n=len(L)\n",
    "        # need (i-n)%(n-b) + b == zidx\n",
    "        # ==> i ~ (zidx-b)+n mod n-b\n",
    "        # ==> i = (n-b)*m + (zidx-b) for some m\n",
    "        print(n,b, f'need i%{n-b}={zidx-b+n}')\n",
    "        sol_i,sol_M=congruence_pair(sol_i,sol_M, zidx-b+n,n-b)\n",
    "sol_i,sol_M"
   ]
  },
  {
   "cell_type": "markdown",
   "id": "7ed3eb07",
   "metadata": {},
   "source": [
    "## Day 7"
   ]
  },
  {
   "cell_type": "markdown",
   "id": "4a858ee1",
   "metadata": {},
   "source": [
    "### 7a"
   ]
  },
  {
   "cell_type": "code",
   "execution_count": 46,
   "id": "2db2ad47",
   "metadata": {},
   "outputs": [
    {
     "data": {
      "text/plain": [
       "249483956"
      ]
     },
     "execution_count": 46,
     "metadata": {},
     "output_type": "execute_result"
    }
   ],
   "source": [
    "card2val={\n",
    "    c:i+1\n",
    "    for i,c in enumerate('123456789TJQKA')\n",
    "}\n",
    "hands,bids=[],{}\n",
    "for l in LINES():\n",
    "    h,b=l.split(' ')\n",
    "    h=tuple(card2val[c] for c in h)\n",
    "    hands.append(h)\n",
    "    bids[h]=int(b)\n",
    "assert len(set(hands))==len(hands)\n",
    "\n",
    "def ctype(h):\n",
    "    mset={}\n",
    "    for c in h:\n",
    "        mset[c]=mset.get(c,0)+1\n",
    "    freqs=sorted(mset.values())\n",
    "    if freqs[-1]==3:\n",
    "        return 3.5 if len(freqs)>1 and freqs[-2]==2 else 3\n",
    "    if freqs[-1]==2:\n",
    "        return 2.5 if len(freqs)>1 and freqs[-2]==2 else 2\n",
    "    return freqs[-1]\n",
    "\n",
    "A=sorted(sorted(hands),key=ctype)\n",
    "sum(bids[h]*(i+1) for i,h in enumerate(A))#,A"
   ]
  },
  {
   "cell_type": "markdown",
   "id": "003b16ec",
   "metadata": {},
   "source": [
    "### 7b"
   ]
  },
  {
   "cell_type": "code",
   "execution_count": 55,
   "id": "2c93978a",
   "metadata": {},
   "outputs": [
    {
     "data": {
      "text/plain": [
       "252137472"
      ]
     },
     "execution_count": 55,
     "metadata": {},
     "output_type": "execute_result"
    }
   ],
   "source": [
    "card2val={\n",
    "    c:i\n",
    "    for i,c in enumerate('J123456789T.QKA')\n",
    "}\n",
    "hands,bids=[],{}\n",
    "for l in LINES():\n",
    "    h,b=l.split(' ')\n",
    "    h=tuple(card2val[c] for c in h)\n",
    "    hands.append(h)\n",
    "    bids[h]=int(b)\n",
    "assert len(set(hands))==len(hands)\n",
    "\n",
    "def ctype(h):\n",
    "    mset={}\n",
    "    for c in h:\n",
    "        if c!=0:\n",
    "            mset[c]=mset.get(c,0)+1\n",
    "    freqs=sorted(mset.values())\n",
    "    if len(freqs)==0:\n",
    "        freqs=[len(h)]\n",
    "    else:\n",
    "        freqs[-1]+=sum(1 for c in h if c==0)\n",
    "#     print(h,freqs)\n",
    "    if freqs[-1]==3:\n",
    "        return 3.5 if len(freqs)>1 and freqs[-2]==2 else 3\n",
    "    if freqs[-1]==2:\n",
    "        return 2.5 if len(freqs)>1 and freqs[-2]==2 else 2\n",
    "    return freqs[-1]\n",
    "\n",
    "A=sorted(sorted(hands),key=ctype)\n",
    "sum(bids[h]*(i+1) for i,h in enumerate(A))#,[(h,ctype(h)) for h in A]"
   ]
  },
  {
   "cell_type": "markdown",
   "id": "ceed44cd",
   "metadata": {},
   "source": [
    "## Day 6"
   ]
  },
  {
   "cell_type": "markdown",
   "id": "8b930b98",
   "metadata": {},
   "source": [
    "### 6a"
   ]
  },
  {
   "cell_type": "code",
   "execution_count": 11,
   "id": "0873d642",
   "metadata": {},
   "outputs": [
    {
     "data": {
      "text/plain": [
       "2612736"
      ]
     },
     "execution_count": 11,
     "metadata": {},
     "output_type": "execute_result"
    }
   ],
   "source": [
    "Ts,Ds=[\n",
    "    [int(tok) for tok in l.split(':')[1].split()]\n",
    "    for l in LINES()\n",
    "]\n",
    "out=1\n",
    "for t,d in zip(Ts,Ds):\n",
    "    nways=sum(1 for bt in range(t+1) if (t-bt)*bt>d)\n",
    "    out*=nways\n",
    "out"
   ]
  },
  {
   "cell_type": "markdown",
   "id": "90e4d939",
   "metadata": {},
   "source": [
    "### 6b"
   ]
  },
  {
   "cell_type": "code",
   "execution_count": 17,
   "id": "3a0d8946",
   "metadata": {},
   "outputs": [
    {
     "data": {
      "text/plain": [
       "29891250"
      ]
     },
     "execution_count": 17,
     "metadata": {},
     "output_type": "execute_result"
    }
   ],
   "source": [
    "T,D=[\n",
    "    int(''.join(l.split(':')[1].split()))\n",
    "    for l in LINES()\n",
    "]\n",
    "T,D\n",
    "\n",
    "'''\n",
    "(T-x)*x > D\n",
    "x**2 - Tx < -D\n",
    "x**2 - Tx + D < 0\n",
    "(T +/- sqrt(T**2 - 4D)) / 2\n",
    "'''\n",
    "hi,lo=[(T+e*(T**2-4*D)**0.5)/2 for e in [1,-1]]\n",
    "int(hi)-math.ceil(lo)+1"
   ]
  },
  {
   "cell_type": "markdown",
   "id": "66b5bcf7",
   "metadata": {},
   "source": [
    "## Day 5"
   ]
  },
  {
   "cell_type": "markdown",
   "id": "f630520d",
   "metadata": {},
   "source": [
    "### 5a"
   ]
  },
  {
   "cell_type": "code",
   "execution_count": 19,
   "id": "fa7df3c4",
   "metadata": {},
   "outputs": [
    {
     "data": {
      "text/plain": [
       "51580674"
      ]
     },
     "execution_count": 19,
     "metadata": {},
     "output_type": "execute_result"
    }
   ],
   "source": [
    "sections='\\n'.join(LINES()).split('\\n\\n')\n",
    "seeds=[int(tok) for tok in sections[0].split(': ')[1].split(' ')]\n",
    "\n",
    "def conversion(s):\n",
    "    rng_strs=s.split(':\\n')[1].split('\\n')\n",
    "#     out={}\n",
    "#     for tok in rng_strs:\n",
    "#         dest,src,le=(int(v) for v in tok.split())\n",
    "#         for i in range(le):\n",
    "#             assert src+i not in out\n",
    "#             out[src+i]=dest+i\n",
    "#     return out\n",
    "    return [tuple(int(v) for v in tok.split()) for tok in rng_strs]\n",
    "def convert(rngs,v):\n",
    "    for dest,src,le in rngs:\n",
    "        if src<=v and v<src+le:\n",
    "            return dest+(v-src)\n",
    "    return v\n",
    "\n",
    "Ds=[conversion(sec) for sec in sections[1:]]\n",
    "vals=seeds\n",
    "for D in Ds:\n",
    "    vals=[convert(D,v) for v in vals]\n",
    "min(vals)"
   ]
  },
  {
   "cell_type": "markdown",
   "id": "b6f6b1b4",
   "metadata": {},
   "source": [
    "### 5b"
   ]
  },
  {
   "cell_type": "code",
   "execution_count": 34,
   "id": "1d7f39a8",
   "metadata": {
    "scrolled": true
   },
   "outputs": [
    {
     "data": {
      "text/plain": [
       "99751240"
      ]
     },
     "execution_count": 34,
     "metadata": {},
     "output_type": "execute_result"
    }
   ],
   "source": [
    "sections='\\n'.join(LINES()).split('\\n\\n')\n",
    "seed_data=[int(tok) for tok in sections[0].split(': ')[1].split(' ')]\n",
    "\n",
    "def conversion(s):\n",
    "    rng_strs=s.split(':\\n')[1].split('\\n')\n",
    "    out=[]\n",
    "    for tok in rng_strs:\n",
    "        dest,src,le=(int(v) for v in tok.split())\n",
    "        out.append((src,src+le,dest-src))\n",
    "    return out\n",
    "\n",
    "Ds=[conversion(sec) for sec in sections[1:]]\n",
    "seed_rngs=[(src,src+le) for src,le in zip(seed_data[::2],seed_data[1::2])]\n",
    "\n",
    "# if x in range (dest,src,le): x -> x+(dest-src)\n",
    "#  src <= x < src+le\n",
    "\n",
    "def convert_range(start,converters):\n",
    "#     print(start,converters)\n",
    "    # assume that converters operate over disjoint ranges\n",
    "    converters=sorted(converters,key=lambda rng:rng[1])\n",
    "    _clo,_chi=converters[0][0],converters[-1][1]\n",
    "    _lo,_hi=min(start[0],_clo),max(start[1],_chi)\n",
    "    converters=[(_lo,_clo,0)]+converters+[(_chi,_hi,0)]\n",
    "    id_rngs=[\n",
    "        (h0,l1,0)\n",
    "        for (l0,h0,sh0),(l1,h1,sh1) in zip(converters,converters[1:])\n",
    "    ]\n",
    "    converters=sorted(converters+id_rngs,key=lambda rng:rng[1])\n",
    "#     print(converters)\n",
    "    out=[]\n",
    "    for clo,chi,sh in converters:\n",
    "        alo,ahi=max(start[0],clo),min(start[1],chi)\n",
    "#         print(f'\\t{[alo,ahi]}')\n",
    "        if alo<ahi:\n",
    "            out.append(\n",
    "                (alo+sh,ahi+sh)\n",
    "            )\n",
    "    return out\n",
    "\n",
    "rngs=seed_rngs\n",
    "for D in Ds:\n",
    "    rngs=[nrng for rng in rngs for nrng in convert_range(rng,D)]\n",
    "#     print(rngs)\n",
    "min(lo for lo,hi in rngs)#,rngs"
   ]
  },
  {
   "cell_type": "markdown",
   "id": "a99948ba",
   "metadata": {},
   "source": [
    "## Day 4"
   ]
  },
  {
   "cell_type": "markdown",
   "id": "810d9b30",
   "metadata": {},
   "source": [
    "### 4a"
   ]
  },
  {
   "cell_type": "code",
   "execution_count": 14,
   "id": "f025c73b",
   "metadata": {},
   "outputs": [
    {
     "data": {
      "text/plain": [
       "17782"
      ]
     },
     "execution_count": 14,
     "metadata": {},
     "output_type": "execute_result"
    }
   ],
   "source": [
    "cards=[\n",
    "    tuple(\n",
    "        [int(v) for v in tok.split()]\n",
    "        for tok in l.split(': ')[1].split(' | ')\n",
    "    )\n",
    "    for l in LINES()\n",
    "]\n",
    "# display(cards)\n",
    "out=0\n",
    "for wins,yours in cards:\n",
    "    cnt=sum(1 for v in yours if v in wins)\n",
    "    out+=2**(cnt - 1) if cnt>0 else 0\n",
    "out"
   ]
  },
  {
   "cell_type": "markdown",
   "id": "e7566d84",
   "metadata": {},
   "source": [
    "### 4b"
   ]
  },
  {
   "cell_type": "code",
   "execution_count": 17,
   "id": "47629258",
   "metadata": {},
   "outputs": [
    {
     "data": {
      "text/plain": [
       "8477787"
      ]
     },
     "execution_count": 17,
     "metadata": {},
     "output_type": "execute_result"
    }
   ],
   "source": [
    "cards=[\n",
    "    tuple(\n",
    "        [int(v) for v in tok.split()]\n",
    "        for tok in l.split(': ')[1].split(' | ')\n",
    "    )\n",
    "    for l in LINES()\n",
    "]\n",
    "N=len(cards)\n",
    "mults=[1]*N\n",
    "for i,(wins,yours) in enumerate(cards):\n",
    "    cnt=sum(1 for v in yours if v in wins)\n",
    "    for k in range(cnt):\n",
    "        mults[i+k+1]+=mults[i]\n",
    "sum(mults)"
   ]
  },
  {
   "cell_type": "markdown",
   "id": "519a2239",
   "metadata": {},
   "source": [
    "## Day 3"
   ]
  },
  {
   "cell_type": "markdown",
   "id": "396e9003",
   "metadata": {},
   "source": [
    "### 3a"
   ]
  },
  {
   "cell_type": "code",
   "execution_count": 10,
   "id": "ce4eb02a",
   "metadata": {},
   "outputs": [
    {
     "data": {
      "text/plain": [
       "537832"
      ]
     },
     "execution_count": 10,
     "metadata": {},
     "output_type": "execute_result"
    }
   ],
   "source": [
    "grid=LINES()\n",
    "# print(grid)\n",
    "R,C=len(grid),len(grid[0])\n",
    "adj=[[False]*C for r in range(R)]\n",
    "dirs=[\n",
    "    (1,0),(1,1),(0,1),(-1,1),(-1,0),(-1,-1),(0,-1),(1,-1)\n",
    "]\n",
    "for r in range(R):\n",
    "    for c in range(C):\n",
    "        s=grid[r][c]\n",
    "        if s not in '.1234567890':\n",
    "            for dr,dc in dirs:\n",
    "                nr,nc=r+dr,c+dc\n",
    "                if 0<=nr and nr<R and 0<=nc and nc<C:\n",
    "                    adj[nr][nc]=True\n",
    "\n",
    "good_nums=[]\n",
    "for r in range(R):\n",
    "    j=0\n",
    "    while j<C:\n",
    "        if grid[r][j] in '1234567890':\n",
    "            k=j\n",
    "            while k<C and grid[r][k] in '1234567890':\n",
    "                k+=1\n",
    "#             print(j,k,grid[r][j:k])\n",
    "            if any(adj[r][i] for i in range(j,k)):\n",
    "                good_nums.append(int(grid[r][j:k]))\n",
    "            j=k\n",
    "        else:\n",
    "            j+=1\n",
    "# print(good_nums)\n",
    "sum(good_nums)"
   ]
  },
  {
   "cell_type": "markdown",
   "id": "a46a0072",
   "metadata": {},
   "source": [
    "### 3b"
   ]
  },
  {
   "cell_type": "code",
   "execution_count": 18,
   "id": "21ad1af7",
   "metadata": {},
   "outputs": [
    {
     "data": {
      "text/plain": [
       "81939900"
      ]
     },
     "execution_count": 18,
     "metadata": {},
     "output_type": "execute_result"
    }
   ],
   "source": [
    "grid=LINES()\n",
    "# print(grid)\n",
    "R,C=len(grid),len(grid[0])\n",
    "num_idx=[[None]*C for r in range(R)]\n",
    "num_vals={}\n",
    "for r in range(R):\n",
    "    j=0\n",
    "    while j<C:\n",
    "        if grid[r][j] in '1234567890':\n",
    "            k=j\n",
    "            while k<C and grid[r][k] in '1234567890':\n",
    "                k+=1\n",
    "            n_id=len(num_vals)\n",
    "            n_v=int(grid[r][j:k])\n",
    "            num_vals[n_id]=n_v\n",
    "            for i in range(j,k):\n",
    "                num_idx[r][i]=n_id\n",
    "            j=k\n",
    "        else:\n",
    "            j+=1\n",
    "\n",
    "# display(num_idx)\n",
    "\n",
    "dirs=[\n",
    "    (1,0),(1,1),(0,1),(-1,1),(-1,0),(-1,-1),(0,-1),(1,-1)\n",
    "]\n",
    "rats=[]\n",
    "for r in range(R):\n",
    "    for c in range(C):\n",
    "        s=grid[r][c]\n",
    "        if s=='*':\n",
    "            n_ids=set()\n",
    "            for dr,dc in dirs:\n",
    "                nr,nc=r+dr,c+dc\n",
    "                if 0<=nr and nr<R and 0<=nc and nc<C:\n",
    "                    n_id=num_idx[nr][nc]\n",
    "                    if n_id is not None:\n",
    "                        n_ids.add(n_id)\n",
    "            if len(n_ids)==2:\n",
    "                rats.append(math.prod(num_vals[n_id] for n_id in n_ids))\n",
    "sum(rats)#,rats"
   ]
  },
  {
   "cell_type": "markdown",
   "id": "7790768d",
   "metadata": {},
   "source": [
    "## Day 2"
   ]
  },
  {
   "cell_type": "markdown",
   "id": "c1d7a6ef",
   "metadata": {},
   "source": [
    "### 2a"
   ]
  },
  {
   "cell_type": "code",
   "execution_count": 59,
   "id": "77a94f30",
   "metadata": {},
   "outputs": [
    {
     "data": {
      "text/plain": [
       "2632"
      ]
     },
     "execution_count": 59,
     "metadata": {},
     "output_type": "execute_result"
    }
   ],
   "source": [
    "games=[s[s.find(' '):] for s in LINES()]\n",
    "allow={'red':12, 'green':13, 'blue':14}\n",
    "out=0\n",
    "for G in games:\n",
    "    gi,G=G.split(': ')\n",
    "    gi=int(gi)\n",
    "    G=G.split('; ')\n",
    "#     print(gi,G)\n",
    "    ssets=[]\n",
    "    for s in G:\n",
    "        D={}\n",
    "        for tok in s.split(', '):\n",
    "            cnt,col=tok.split(' ')\n",
    "            D[col]=int(cnt)\n",
    "        ssets.append(D)\n",
    "    bnd={}\n",
    "    for D in ssets:\n",
    "        for col,v in D.items():\n",
    "            bnd[col]=max(bnd.get(col,0),v)\n",
    "    if all(bnd[c]<=allow[c] for c in allow):\n",
    "#         print(bnd)\n",
    "        out+=gi\n",
    "out"
   ]
  },
  {
   "cell_type": "markdown",
   "id": "7239b833",
   "metadata": {},
   "source": [
    "### 2b"
   ]
  },
  {
   "cell_type": "code",
   "execution_count": 60,
   "id": "d86ac6b3",
   "metadata": {},
   "outputs": [
    {
     "data": {
      "text/plain": [
       "69629"
      ]
     },
     "execution_count": 60,
     "metadata": {},
     "output_type": "execute_result"
    }
   ],
   "source": [
    "games=[s[s.find(' '):] for s in LINES()]\n",
    "allow={'red':12, 'green':13, 'blue':14}\n",
    "out=0\n",
    "for G in games:\n",
    "    gi,G=G.split(': ')\n",
    "    gi=int(gi)\n",
    "    G=G.split('; ')\n",
    "#     print(gi,G)\n",
    "    ssets=[]\n",
    "    for s in G:\n",
    "        D={}\n",
    "        for tok in s.split(', '):\n",
    "            cnt,col=tok.split(' ')\n",
    "            D[col]=int(cnt)\n",
    "        ssets.append(D)\n",
    "    bnd={}\n",
    "    for D in ssets:\n",
    "        for col,v in D.items():\n",
    "            bnd[col]=max(bnd.get(col,0),v)\n",
    "#     if all(bnd[c]<=allow[c] for c in allow):\n",
    "#     print(bnd)\n",
    "    out+=math.prod(bnd.values())\n",
    "out"
   ]
  },
  {
   "cell_type": "markdown",
   "id": "0917f9dd",
   "metadata": {},
   "source": [
    "## Day 1"
   ]
  },
  {
   "cell_type": "code",
   "execution_count": 26,
   "id": "a7d92736",
   "metadata": {},
   "outputs": [],
   "source": [
    "with open('in.txt') as f:\n",
    "    lines=f.read().split('\\n')"
   ]
  },
  {
   "cell_type": "markdown",
   "id": "5227ce23",
   "metadata": {},
   "source": [
    "### 1a"
   ]
  },
  {
   "cell_type": "code",
   "execution_count": 27,
   "id": "4d4c521e",
   "metadata": {},
   "outputs": [
    {
     "data": {
      "text/plain": [
       "55621"
      ]
     },
     "execution_count": 27,
     "metadata": {},
     "output_type": "execute_result"
    }
   ],
   "source": [
    "out=0\n",
    "for l in lines:\n",
    "    digs=[int(c) for c in l if c in '1234567890']\n",
    "    out+=digs[0]*10+digs[-1]\n",
    "out"
   ]
  },
  {
   "cell_type": "markdown",
   "id": "d5a6652b",
   "metadata": {},
   "source": [
    "### 1b"
   ]
  },
  {
   "cell_type": "code",
   "execution_count": 28,
   "id": "e1fd6ff6",
   "metadata": {},
   "outputs": [
    {
     "data": {
      "text/plain": [
       "53592"
      ]
     },
     "execution_count": 28,
     "metadata": {},
     "output_type": "execute_result"
    }
   ],
   "source": [
    "D={s:i for i,s in enumerate('zero one two three four five six seven eight nine'.split())}\n",
    "out=0\n",
    "for l in lines:\n",
    "    digs=[]\n",
    "    for i in range(len(l)):\n",
    "        if l[i] in '1234567890':\n",
    "            digs.append(int(l[i]))\n",
    "        else:\n",
    "            for s,v in D.items():\n",
    "                if l[i:].startswith(s):\n",
    "                    digs.append(v)\n",
    "    x=digs[0]*10+digs[-1]\n",
    "#     print(l,x)\n",
    "    out+=x\n",
    "out"
   ]
  }
 ],
 "metadata": {
  "kernelspec": {
   "display_name": "Python 3 (ipykernel)",
   "language": "python",
   "name": "python3"
  },
  "language_info": {
   "codemirror_mode": {
    "name": "ipython",
    "version": 3
   },
   "file_extension": ".py",
   "mimetype": "text/x-python",
   "name": "python",
   "nbconvert_exporter": "python",
   "pygments_lexer": "ipython3",
   "version": "3.10.7"
  }
 },
 "nbformat": 4,
 "nbformat_minor": 5
}
