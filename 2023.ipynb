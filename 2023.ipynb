{
 "cells": [
  {
   "cell_type": "markdown",
   "id": "bb54d965",
   "metadata": {},
   "source": [
    "# Advent of Code 2023: coolcomputery"
   ]
  },
  {
   "cell_type": "code",
   "execution_count": 1,
   "id": "82708c9d",
   "metadata": {},
   "outputs": [],
   "source": [
    "import numpy as np"
   ]
  },
  {
   "cell_type": "markdown",
   "id": "7258a79b",
   "metadata": {},
   "source": [
    "## Day 1"
   ]
  },
  {
   "cell_type": "code",
   "execution_count": 26,
   "id": "bd6a09ce",
   "metadata": {},
   "outputs": [],
   "source": [
    "with open('in.txt') as f:\n",
    "    lines=f.read().split('\\n')"
   ]
  },
  {
   "cell_type": "markdown",
   "id": "5d7b6df7",
   "metadata": {},
   "source": [
    "### 1a"
   ]
  },
  {
   "cell_type": "code",
   "execution_count": 27,
   "id": "e4e008ec",
   "metadata": {},
   "outputs": [
    {
     "data": {
      "text/plain": [
       "55621"
      ]
     },
     "execution_count": 27,
     "metadata": {},
     "output_type": "execute_result"
    }
   ],
   "source": [
    "out=0\n",
    "for l in lines:\n",
    "    digs=[int(c) for c in l if c in '1234567890']\n",
    "    out+=digs[0]*10+digs[-1]\n",
    "out"
   ]
  },
  {
   "cell_type": "markdown",
   "id": "364edc65",
   "metadata": {},
   "source": [
    "### 1b"
   ]
  },
  {
   "cell_type": "code",
   "execution_count": 28,
   "id": "cce3e002",
   "metadata": {},
   "outputs": [
    {
     "data": {
      "text/plain": [
       "53592"
      ]
     },
     "execution_count": 28,
     "metadata": {},
     "output_type": "execute_result"
    }
   ],
   "source": [
    "D={s:i for i,s in enumerate('zero one two three four five six seven eight nine'.split())}\n",
    "out=0\n",
    "for l in lines:\n",
    "    digs=[]\n",
    "    for i in range(len(l)):\n",
    "        if l[i] in '1234567890':\n",
    "            digs.append(int(l[i]))\n",
    "        else:\n",
    "            for s,v in D.items():\n",
    "                if l[i:].startswith(s):\n",
    "                    digs.append(v)\n",
    "    x=digs[0]*10+digs[-1]\n",
    "#     print(l,x)\n",
    "    out+=x\n",
    "out"
   ]
  },
  {
   "cell_type": "code",
   "execution_count": null,
   "id": "f07a25d8",
   "metadata": {},
   "outputs": [],
   "source": []
  }
 ],
 "metadata": {
  "kernelspec": {
   "display_name": "Python 3 (ipykernel)",
   "language": "python",
   "name": "python3"
  },
  "language_info": {
   "codemirror_mode": {
    "name": "ipython",
    "version": 3
   },
   "file_extension": ".py",
   "mimetype": "text/x-python",
   "name": "python",
   "nbconvert_exporter": "python",
   "pygments_lexer": "ipython3",
   "version": "3.10.7"
  }
 },
 "nbformat": 4,
 "nbformat_minor": 5
}
